{
 "cells": [
  {
   "cell_type": "markdown",
   "id": "8b3c8647",
   "metadata": {},
   "source": [
    "# Description"
   ]
  },
  {
   "cell_type": "markdown",
   "id": "974f5d7b",
   "metadata": {},
   "source": [
    "The Titanic dataset is a well-known dataset that provides information about the passengers who were on board the Titanic ship when it sank on April 15, 1912.The data includes demographic information such as the passengers' names, ages, genders, ticket class, fare, and cabin numbers, as well as information about their families and whether they survived or not. "
   ]
  },
  {
   "cell_type": "markdown",
   "id": "38e23eb4",
   "metadata": {},
   "source": [
    "# Problem Statement"
   ]
  },
  {
   "cell_type": "markdown",
   "id": "47758c02",
   "metadata": {},
   "source": [
    "The challenge is to use this information to build a predictive model that can accurately classify whether a passenger would have survived or not based on their characteristics."
   ]
  },
  {
   "cell_type": "markdown",
   "id": "b21bf159",
   "metadata": {},
   "source": [
    "# Importing necessary libraries"
   ]
  },
  {
   "cell_type": "code",
   "execution_count": 1,
   "id": "5503be91",
   "metadata": {},
   "outputs": [
    {
     "name": "stderr",
     "output_type": "stream",
     "text": [
      "C:\\Users\\neeli\\anaconda3\\lib\\site-packages\\scipy\\__init__.py:146: UserWarning: A NumPy version >=1.16.5 and <1.23.0 is required for this version of SciPy (detected version 1.23.5\n",
      "  warnings.warn(f\"A NumPy version >={np_minversion} and <{np_maxversion}\"\n"
     ]
    }
   ],
   "source": [
    "#importing required and necessary libraries\n",
    "import numpy as np # used to perform mathematical operation on array\n",
    "import pandas as pd # used for data manipulation\n",
    "import matplotlib.pyplot as plt # used for data visualization\n",
    "import seaborn as sns  # used for data visualization\n",
    "import warnings # used to ignore warnings\n",
    "warnings.filterwarnings('ignore')"
   ]
  },
  {
   "cell_type": "markdown",
   "id": "4c93cab6",
   "metadata": {},
   "source": [
    "# Reading the dataset"
   ]
  },
  {
   "cell_type": "code",
   "execution_count": 2,
   "id": "c14c2450",
   "metadata": {},
   "outputs": [],
   "source": [
    "#Reading the train data and test data of titanic dataset\n",
    "train_df = pd.read_csv(\"train.csv\",nrows=200)\n",
    "test_df = pd.read_csv(\"test.csv\",nrows=200)"
   ]
  },
  {
   "cell_type": "markdown",
   "id": "b0f8aca1",
   "metadata": {},
   "source": [
    "# Data Analysis"
   ]
  },
  {
   "cell_type": "code",
   "execution_count": 3,
   "id": "9efedf64",
   "metadata": {},
   "outputs": [
    {
     "name": "stdout",
     "output_type": "stream",
     "text": [
      "Class label counts: \n",
      " 0    131\n",
      "1     69\n",
      "Name: Survived, dtype: int64\n",
      "Class label percentages: \n",
      " 0    65.5\n",
      "1    34.5\n",
      "Name: Survived, dtype: float64\n",
      "The data is imbalanced\n"
     ]
    }
   ],
   "source": [
    "#to check whether that data is balanced or imbalanced\n",
    "#count the number of instances of each class label\n",
    "count=train_df['Survived'].value_counts()\n",
    "#calculating the percentage of instances for each class label\n",
    "percentage=count/train_df.shape[0]*100\n",
    "#printing the class label counts and percentages\n",
    "print(\"Class label counts: \\n\",count)\n",
    "print(\"Class label percentages: \\n\",percentage)\n",
    "#determining if the data is balanced or imbalanced\n",
    "if (percentage[0] < 60 and percentage[1] < 60) or (percentage[0] > 40 and percentage[1] > 40):\n",
    "    print(\"The data is balanced\")\n",
    "else:\n",
    "    print(\"The data is imbalanced\")\n"
   ]
  },
  {
   "cell_type": "code",
   "execution_count": 4,
   "id": "08873e7a",
   "metadata": {},
   "outputs": [
    {
     "name": "stdout",
     "output_type": "stream",
     "text": [
      "<class 'pandas.core.frame.DataFrame'>\n",
      "RangeIndex: 200 entries, 0 to 199\n",
      "Data columns (total 12 columns):\n",
      " #   Column       Non-Null Count  Dtype  \n",
      "---  ------       --------------  -----  \n",
      " 0   PassengerId  200 non-null    int64  \n",
      " 1   Survived     200 non-null    int64  \n",
      " 2   Pclass       200 non-null    int64  \n",
      " 3   Name         200 non-null    object \n",
      " 4   Sex          200 non-null    object \n",
      " 5   Age          159 non-null    float64\n",
      " 6   SibSp        200 non-null    int64  \n",
      " 7   Parch        200 non-null    int64  \n",
      " 8   Ticket       200 non-null    object \n",
      " 9   Fare         200 non-null    float64\n",
      " 10  Cabin        40 non-null     object \n",
      " 11  Embarked     199 non-null    object \n",
      "dtypes: float64(2), int64(5), object(5)\n",
      "memory usage: 18.9+ KB\n"
     ]
    }
   ],
   "source": [
    "#checking the information about the dataframe\n",
    "train_df.info()"
   ]
  },
  {
   "cell_type": "markdown",
   "id": "50facdf7",
   "metadata": {},
   "source": [
    "Inference: As we selected number of rows, nrows=200; The training-set has 200 entries and 12 features, which includes the target variable (survived).\n",
    "\n"
   ]
  },
  {
   "cell_type": "code",
   "execution_count": 5,
   "id": "fca5f749",
   "metadata": {
    "scrolled": true
   },
   "outputs": [
    {
     "data": {
      "text/html": [
       "<div>\n",
       "<style scoped>\n",
       "    .dataframe tbody tr th:only-of-type {\n",
       "        vertical-align: middle;\n",
       "    }\n",
       "\n",
       "    .dataframe tbody tr th {\n",
       "        vertical-align: top;\n",
       "    }\n",
       "\n",
       "    .dataframe thead th {\n",
       "        text-align: right;\n",
       "    }\n",
       "</style>\n",
       "<table border=\"1\" class=\"dataframe\">\n",
       "  <thead>\n",
       "    <tr style=\"text-align: right;\">\n",
       "      <th></th>\n",
       "      <th>PassengerId</th>\n",
       "      <th>Survived</th>\n",
       "      <th>Pclass</th>\n",
       "      <th>Age</th>\n",
       "      <th>SibSp</th>\n",
       "      <th>Parch</th>\n",
       "      <th>Fare</th>\n",
       "    </tr>\n",
       "  </thead>\n",
       "  <tbody>\n",
       "    <tr>\n",
       "      <th>count</th>\n",
       "      <td>200.000000</td>\n",
       "      <td>200.000000</td>\n",
       "      <td>200.000000</td>\n",
       "      <td>159.000000</td>\n",
       "      <td>200.000000</td>\n",
       "      <td>200.000000</td>\n",
       "      <td>200.000000</td>\n",
       "    </tr>\n",
       "    <tr>\n",
       "      <th>mean</th>\n",
       "      <td>100.500000</td>\n",
       "      <td>0.345000</td>\n",
       "      <td>2.420000</td>\n",
       "      <td>28.017799</td>\n",
       "      <td>0.680000</td>\n",
       "      <td>0.435000</td>\n",
       "      <td>27.518915</td>\n",
       "    </tr>\n",
       "    <tr>\n",
       "      <th>std</th>\n",
       "      <td>57.879185</td>\n",
       "      <td>0.476561</td>\n",
       "      <td>0.797987</td>\n",
       "      <td>15.295229</td>\n",
       "      <td>1.298472</td>\n",
       "      <td>0.871535</td>\n",
       "      <td>36.701640</td>\n",
       "    </tr>\n",
       "    <tr>\n",
       "      <th>min</th>\n",
       "      <td>1.000000</td>\n",
       "      <td>0.000000</td>\n",
       "      <td>1.000000</td>\n",
       "      <td>0.830000</td>\n",
       "      <td>0.000000</td>\n",
       "      <td>0.000000</td>\n",
       "      <td>0.000000</td>\n",
       "    </tr>\n",
       "    <tr>\n",
       "      <th>25%</th>\n",
       "      <td>50.750000</td>\n",
       "      <td>0.000000</td>\n",
       "      <td>2.000000</td>\n",
       "      <td>19.000000</td>\n",
       "      <td>0.000000</td>\n",
       "      <td>0.000000</td>\n",
       "      <td>8.050000</td>\n",
       "    </tr>\n",
       "    <tr>\n",
       "      <th>50%</th>\n",
       "      <td>100.500000</td>\n",
       "      <td>0.000000</td>\n",
       "      <td>3.000000</td>\n",
       "      <td>26.000000</td>\n",
       "      <td>0.000000</td>\n",
       "      <td>0.000000</td>\n",
       "      <td>14.772900</td>\n",
       "    </tr>\n",
       "    <tr>\n",
       "      <th>75%</th>\n",
       "      <td>150.250000</td>\n",
       "      <td>1.000000</td>\n",
       "      <td>3.000000</td>\n",
       "      <td>37.000000</td>\n",
       "      <td>1.000000</td>\n",
       "      <td>1.000000</td>\n",
       "      <td>30.227050</td>\n",
       "    </tr>\n",
       "    <tr>\n",
       "      <th>max</th>\n",
       "      <td>200.000000</td>\n",
       "      <td>1.000000</td>\n",
       "      <td>3.000000</td>\n",
       "      <td>71.000000</td>\n",
       "      <td>8.000000</td>\n",
       "      <td>5.000000</td>\n",
       "      <td>263.000000</td>\n",
       "    </tr>\n",
       "  </tbody>\n",
       "</table>\n",
       "</div>"
      ],
      "text/plain": [
       "       PassengerId    Survived      Pclass         Age       SibSp  \\\n",
       "count   200.000000  200.000000  200.000000  159.000000  200.000000   \n",
       "mean    100.500000    0.345000    2.420000   28.017799    0.680000   \n",
       "std      57.879185    0.476561    0.797987   15.295229    1.298472   \n",
       "min       1.000000    0.000000    1.000000    0.830000    0.000000   \n",
       "25%      50.750000    0.000000    2.000000   19.000000    0.000000   \n",
       "50%     100.500000    0.000000    3.000000   26.000000    0.000000   \n",
       "75%     150.250000    1.000000    3.000000   37.000000    1.000000   \n",
       "max     200.000000    1.000000    3.000000   71.000000    8.000000   \n",
       "\n",
       "            Parch        Fare  \n",
       "count  200.000000  200.000000  \n",
       "mean     0.435000   27.518915  \n",
       "std      0.871535   36.701640  \n",
       "min      0.000000    0.000000  \n",
       "25%      0.000000    8.050000  \n",
       "50%      0.000000   14.772900  \n",
       "75%      1.000000   30.227050  \n",
       "max      5.000000  263.000000  "
      ]
     },
     "execution_count": 5,
     "metadata": {},
     "output_type": "execute_result"
    }
   ],
   "source": [
    "#Returns description of the data in the DataFrame\n",
    "train_df.describe()"
   ]
  },
  {
   "cell_type": "markdown",
   "id": "db8c6059",
   "metadata": {},
   "source": [
    "Inference: We can see that 34% out of the training dataset survived the titanic. Also, we can infer that the passengers' ages ranges from 0.8 to 71. "
   ]
  },
  {
   "cell_type": "code",
   "execution_count": 6,
   "id": "13793bb9",
   "metadata": {},
   "outputs": [
    {
     "data": {
      "text/plain": [
       "(200, 12)"
      ]
     },
     "execution_count": 6,
     "metadata": {},
     "output_type": "execute_result"
    }
   ],
   "source": [
    "#Finding number of rows and columns of the dataframe\n",
    "train_df.shape"
   ]
  },
  {
   "cell_type": "code",
   "execution_count": 7,
   "id": "e1ed9c1d",
   "metadata": {},
   "outputs": [
    {
     "data": {
      "text/html": [
       "<div>\n",
       "<style scoped>\n",
       "    .dataframe tbody tr th:only-of-type {\n",
       "        vertical-align: middle;\n",
       "    }\n",
       "\n",
       "    .dataframe tbody tr th {\n",
       "        vertical-align: top;\n",
       "    }\n",
       "\n",
       "    .dataframe thead th {\n",
       "        text-align: right;\n",
       "    }\n",
       "</style>\n",
       "<table border=\"1\" class=\"dataframe\">\n",
       "  <thead>\n",
       "    <tr style=\"text-align: right;\">\n",
       "      <th></th>\n",
       "      <th>PassengerId</th>\n",
       "      <th>Survived</th>\n",
       "      <th>Pclass</th>\n",
       "      <th>Name</th>\n",
       "      <th>Sex</th>\n",
       "      <th>Age</th>\n",
       "      <th>SibSp</th>\n",
       "      <th>Parch</th>\n",
       "      <th>Ticket</th>\n",
       "      <th>Fare</th>\n",
       "      <th>Cabin</th>\n",
       "      <th>Embarked</th>\n",
       "    </tr>\n",
       "  </thead>\n",
       "  <tbody>\n",
       "    <tr>\n",
       "      <th>0</th>\n",
       "      <td>1</td>\n",
       "      <td>0</td>\n",
       "      <td>3</td>\n",
       "      <td>Braund, Mr. Owen Harris</td>\n",
       "      <td>male</td>\n",
       "      <td>22.0</td>\n",
       "      <td>1</td>\n",
       "      <td>0</td>\n",
       "      <td>A/5 21171</td>\n",
       "      <td>7.2500</td>\n",
       "      <td>NaN</td>\n",
       "      <td>S</td>\n",
       "    </tr>\n",
       "    <tr>\n",
       "      <th>1</th>\n",
       "      <td>2</td>\n",
       "      <td>1</td>\n",
       "      <td>1</td>\n",
       "      <td>Cumings, Mrs. John Bradley (Florence Briggs Th...</td>\n",
       "      <td>female</td>\n",
       "      <td>38.0</td>\n",
       "      <td>1</td>\n",
       "      <td>0</td>\n",
       "      <td>PC 17599</td>\n",
       "      <td>71.2833</td>\n",
       "      <td>C85</td>\n",
       "      <td>C</td>\n",
       "    </tr>\n",
       "    <tr>\n",
       "      <th>2</th>\n",
       "      <td>3</td>\n",
       "      <td>1</td>\n",
       "      <td>3</td>\n",
       "      <td>Heikkinen, Miss. Laina</td>\n",
       "      <td>female</td>\n",
       "      <td>26.0</td>\n",
       "      <td>0</td>\n",
       "      <td>0</td>\n",
       "      <td>STON/O2. 3101282</td>\n",
       "      <td>7.9250</td>\n",
       "      <td>NaN</td>\n",
       "      <td>S</td>\n",
       "    </tr>\n",
       "    <tr>\n",
       "      <th>3</th>\n",
       "      <td>4</td>\n",
       "      <td>1</td>\n",
       "      <td>1</td>\n",
       "      <td>Futrelle, Mrs. Jacques Heath (Lily May Peel)</td>\n",
       "      <td>female</td>\n",
       "      <td>35.0</td>\n",
       "      <td>1</td>\n",
       "      <td>0</td>\n",
       "      <td>113803</td>\n",
       "      <td>53.1000</td>\n",
       "      <td>C123</td>\n",
       "      <td>S</td>\n",
       "    </tr>\n",
       "    <tr>\n",
       "      <th>4</th>\n",
       "      <td>5</td>\n",
       "      <td>0</td>\n",
       "      <td>3</td>\n",
       "      <td>Allen, Mr. William Henry</td>\n",
       "      <td>male</td>\n",
       "      <td>35.0</td>\n",
       "      <td>0</td>\n",
       "      <td>0</td>\n",
       "      <td>373450</td>\n",
       "      <td>8.0500</td>\n",
       "      <td>NaN</td>\n",
       "      <td>S</td>\n",
       "    </tr>\n",
       "  </tbody>\n",
       "</table>\n",
       "</div>"
      ],
      "text/plain": [
       "   PassengerId  Survived  Pclass  \\\n",
       "0            1         0       3   \n",
       "1            2         1       1   \n",
       "2            3         1       3   \n",
       "3            4         1       1   \n",
       "4            5         0       3   \n",
       "\n",
       "                                                Name     Sex   Age  SibSp  \\\n",
       "0                            Braund, Mr. Owen Harris    male  22.0      1   \n",
       "1  Cumings, Mrs. John Bradley (Florence Briggs Th...  female  38.0      1   \n",
       "2                             Heikkinen, Miss. Laina  female  26.0      0   \n",
       "3       Futrelle, Mrs. Jacques Heath (Lily May Peel)  female  35.0      1   \n",
       "4                           Allen, Mr. William Henry    male  35.0      0   \n",
       "\n",
       "   Parch            Ticket     Fare Cabin Embarked  \n",
       "0      0         A/5 21171   7.2500   NaN        S  \n",
       "1      0          PC 17599  71.2833   C85        C  \n",
       "2      0  STON/O2. 3101282   7.9250   NaN        S  \n",
       "3      0            113803  53.1000  C123        S  \n",
       "4      0            373450   8.0500   NaN        S  "
      ]
     },
     "execution_count": 7,
     "metadata": {},
     "output_type": "execute_result"
    }
   ],
   "source": [
    "#Checking the first 5 rows of the train data\n",
    "train_df.head()"
   ]
  },
  {
   "cell_type": "code",
   "execution_count": 8,
   "id": "1b1a2057",
   "metadata": {
    "scrolled": true
   },
   "outputs": [
    {
     "data": {
      "text/html": [
       "<div>\n",
       "<style scoped>\n",
       "    .dataframe tbody tr th:only-of-type {\n",
       "        vertical-align: middle;\n",
       "    }\n",
       "\n",
       "    .dataframe tbody tr th {\n",
       "        vertical-align: top;\n",
       "    }\n",
       "\n",
       "    .dataframe thead th {\n",
       "        text-align: right;\n",
       "    }\n",
       "</style>\n",
       "<table border=\"1\" class=\"dataframe\">\n",
       "  <thead>\n",
       "    <tr style=\"text-align: right;\">\n",
       "      <th></th>\n",
       "      <th>PassengerId</th>\n",
       "      <th>Survived</th>\n",
       "      <th>Pclass</th>\n",
       "      <th>Name</th>\n",
       "      <th>Sex</th>\n",
       "      <th>Age</th>\n",
       "      <th>SibSp</th>\n",
       "      <th>Parch</th>\n",
       "      <th>Ticket</th>\n",
       "      <th>Fare</th>\n",
       "      <th>Cabin</th>\n",
       "      <th>Embarked</th>\n",
       "    </tr>\n",
       "  </thead>\n",
       "  <tbody>\n",
       "    <tr>\n",
       "      <th>195</th>\n",
       "      <td>196</td>\n",
       "      <td>1</td>\n",
       "      <td>1</td>\n",
       "      <td>Lurette, Miss. Elise</td>\n",
       "      <td>female</td>\n",
       "      <td>58.0</td>\n",
       "      <td>0</td>\n",
       "      <td>0</td>\n",
       "      <td>PC 17569</td>\n",
       "      <td>146.5208</td>\n",
       "      <td>B80</td>\n",
       "      <td>C</td>\n",
       "    </tr>\n",
       "    <tr>\n",
       "      <th>196</th>\n",
       "      <td>197</td>\n",
       "      <td>0</td>\n",
       "      <td>3</td>\n",
       "      <td>Mernagh, Mr. Robert</td>\n",
       "      <td>male</td>\n",
       "      <td>NaN</td>\n",
       "      <td>0</td>\n",
       "      <td>0</td>\n",
       "      <td>368703</td>\n",
       "      <td>7.7500</td>\n",
       "      <td>NaN</td>\n",
       "      <td>Q</td>\n",
       "    </tr>\n",
       "    <tr>\n",
       "      <th>197</th>\n",
       "      <td>198</td>\n",
       "      <td>0</td>\n",
       "      <td>3</td>\n",
       "      <td>Olsen, Mr. Karl Siegwart Andreas</td>\n",
       "      <td>male</td>\n",
       "      <td>42.0</td>\n",
       "      <td>0</td>\n",
       "      <td>1</td>\n",
       "      <td>4579</td>\n",
       "      <td>8.4042</td>\n",
       "      <td>NaN</td>\n",
       "      <td>S</td>\n",
       "    </tr>\n",
       "    <tr>\n",
       "      <th>198</th>\n",
       "      <td>199</td>\n",
       "      <td>1</td>\n",
       "      <td>3</td>\n",
       "      <td>Madigan, Miss. Margaret \"Maggie\"</td>\n",
       "      <td>female</td>\n",
       "      <td>NaN</td>\n",
       "      <td>0</td>\n",
       "      <td>0</td>\n",
       "      <td>370370</td>\n",
       "      <td>7.7500</td>\n",
       "      <td>NaN</td>\n",
       "      <td>Q</td>\n",
       "    </tr>\n",
       "    <tr>\n",
       "      <th>199</th>\n",
       "      <td>200</td>\n",
       "      <td>0</td>\n",
       "      <td>2</td>\n",
       "      <td>Yrois, Miss. Henriette (\"Mrs Harbeck\")</td>\n",
       "      <td>female</td>\n",
       "      <td>24.0</td>\n",
       "      <td>0</td>\n",
       "      <td>0</td>\n",
       "      <td>248747</td>\n",
       "      <td>13.0000</td>\n",
       "      <td>NaN</td>\n",
       "      <td>S</td>\n",
       "    </tr>\n",
       "  </tbody>\n",
       "</table>\n",
       "</div>"
      ],
      "text/plain": [
       "     PassengerId  Survived  Pclass                                    Name  \\\n",
       "195          196         1       1                    Lurette, Miss. Elise   \n",
       "196          197         0       3                     Mernagh, Mr. Robert   \n",
       "197          198         0       3        Olsen, Mr. Karl Siegwart Andreas   \n",
       "198          199         1       3        Madigan, Miss. Margaret \"Maggie\"   \n",
       "199          200         0       2  Yrois, Miss. Henriette (\"Mrs Harbeck\")   \n",
       "\n",
       "        Sex   Age  SibSp  Parch    Ticket      Fare Cabin Embarked  \n",
       "195  female  58.0      0      0  PC 17569  146.5208   B80        C  \n",
       "196    male   NaN      0      0    368703    7.7500   NaN        Q  \n",
       "197    male  42.0      0      1      4579    8.4042   NaN        S  \n",
       "198  female   NaN      0      0    370370    7.7500   NaN        Q  \n",
       "199  female  24.0      0      0    248747   13.0000   NaN        S  "
      ]
     },
     "execution_count": 8,
     "metadata": {},
     "output_type": "execute_result"
    }
   ],
   "source": [
    "#Checking the last 5 rows of the train data\n",
    "train_df.tail()"
   ]
  },
  {
   "cell_type": "markdown",
   "id": "e638c3a3",
   "metadata": {},
   "source": [
    "Inference: From the above tables, we see that; we need to convert categorical features into numeric for the processing. We can aslo note that there are some features which contains missing values (NaN) that we should deal with them"
   ]
  },
  {
   "cell_type": "code",
   "execution_count": 9,
   "id": "1c89cbda",
   "metadata": {
    "scrolled": true
   },
   "outputs": [
    {
     "data": {
      "text/html": [
       "<div>\n",
       "<style scoped>\n",
       "    .dataframe tbody tr th:only-of-type {\n",
       "        vertical-align: middle;\n",
       "    }\n",
       "\n",
       "    .dataframe tbody tr th {\n",
       "        vertical-align: top;\n",
       "    }\n",
       "\n",
       "    .dataframe thead th {\n",
       "        text-align: right;\n",
       "    }\n",
       "</style>\n",
       "<table border=\"1\" class=\"dataframe\">\n",
       "  <thead>\n",
       "    <tr style=\"text-align: right;\">\n",
       "      <th></th>\n",
       "      <th>PassengerId</th>\n",
       "      <th>Pclass</th>\n",
       "      <th>Name</th>\n",
       "      <th>Sex</th>\n",
       "      <th>Age</th>\n",
       "      <th>SibSp</th>\n",
       "      <th>Parch</th>\n",
       "      <th>Ticket</th>\n",
       "      <th>Fare</th>\n",
       "      <th>Cabin</th>\n",
       "      <th>Embarked</th>\n",
       "    </tr>\n",
       "  </thead>\n",
       "  <tbody>\n",
       "    <tr>\n",
       "      <th>0</th>\n",
       "      <td>892</td>\n",
       "      <td>3</td>\n",
       "      <td>Kelly, Mr. James</td>\n",
       "      <td>male</td>\n",
       "      <td>34.5</td>\n",
       "      <td>0</td>\n",
       "      <td>0</td>\n",
       "      <td>330911</td>\n",
       "      <td>7.8292</td>\n",
       "      <td>NaN</td>\n",
       "      <td>Q</td>\n",
       "    </tr>\n",
       "    <tr>\n",
       "      <th>1</th>\n",
       "      <td>893</td>\n",
       "      <td>3</td>\n",
       "      <td>Wilkes, Mrs. James (Ellen Needs)</td>\n",
       "      <td>female</td>\n",
       "      <td>47.0</td>\n",
       "      <td>1</td>\n",
       "      <td>0</td>\n",
       "      <td>363272</td>\n",
       "      <td>7.0000</td>\n",
       "      <td>NaN</td>\n",
       "      <td>S</td>\n",
       "    </tr>\n",
       "    <tr>\n",
       "      <th>2</th>\n",
       "      <td>894</td>\n",
       "      <td>2</td>\n",
       "      <td>Myles, Mr. Thomas Francis</td>\n",
       "      <td>male</td>\n",
       "      <td>62.0</td>\n",
       "      <td>0</td>\n",
       "      <td>0</td>\n",
       "      <td>240276</td>\n",
       "      <td>9.6875</td>\n",
       "      <td>NaN</td>\n",
       "      <td>Q</td>\n",
       "    </tr>\n",
       "    <tr>\n",
       "      <th>3</th>\n",
       "      <td>895</td>\n",
       "      <td>3</td>\n",
       "      <td>Wirz, Mr. Albert</td>\n",
       "      <td>male</td>\n",
       "      <td>27.0</td>\n",
       "      <td>0</td>\n",
       "      <td>0</td>\n",
       "      <td>315154</td>\n",
       "      <td>8.6625</td>\n",
       "      <td>NaN</td>\n",
       "      <td>S</td>\n",
       "    </tr>\n",
       "    <tr>\n",
       "      <th>4</th>\n",
       "      <td>896</td>\n",
       "      <td>3</td>\n",
       "      <td>Hirvonen, Mrs. Alexander (Helga E Lindqvist)</td>\n",
       "      <td>female</td>\n",
       "      <td>22.0</td>\n",
       "      <td>1</td>\n",
       "      <td>1</td>\n",
       "      <td>3101298</td>\n",
       "      <td>12.2875</td>\n",
       "      <td>NaN</td>\n",
       "      <td>S</td>\n",
       "    </tr>\n",
       "  </tbody>\n",
       "</table>\n",
       "</div>"
      ],
      "text/plain": [
       "   PassengerId  Pclass                                          Name     Sex  \\\n",
       "0          892       3                              Kelly, Mr. James    male   \n",
       "1          893       3              Wilkes, Mrs. James (Ellen Needs)  female   \n",
       "2          894       2                     Myles, Mr. Thomas Francis    male   \n",
       "3          895       3                              Wirz, Mr. Albert    male   \n",
       "4          896       3  Hirvonen, Mrs. Alexander (Helga E Lindqvist)  female   \n",
       "\n",
       "    Age  SibSp  Parch   Ticket     Fare Cabin Embarked  \n",
       "0  34.5      0      0   330911   7.8292   NaN        Q  \n",
       "1  47.0      1      0   363272   7.0000   NaN        S  \n",
       "2  62.0      0      0   240276   9.6875   NaN        Q  \n",
       "3  27.0      0      0   315154   8.6625   NaN        S  \n",
       "4  22.0      1      1  3101298  12.2875   NaN        S  "
      ]
     },
     "execution_count": 9,
     "metadata": {},
     "output_type": "execute_result"
    }
   ],
   "source": [
    "#Checking the first 5 rows of the test data\n",
    "test_df.head()"
   ]
  },
  {
   "cell_type": "code",
   "execution_count": 10,
   "id": "b6e5ac93",
   "metadata": {},
   "outputs": [
    {
     "data": {
      "text/plain": [
       "(200, 11)"
      ]
     },
     "execution_count": 10,
     "metadata": {},
     "output_type": "execute_result"
    }
   ],
   "source": [
    "#Finding number of rows and columns of the dataframe\n",
    "test_df.shape"
   ]
  },
  {
   "cell_type": "code",
   "execution_count": 11,
   "id": "ba175757",
   "metadata": {
    "scrolled": true
   },
   "outputs": [
    {
     "data": {
      "text/html": [
       "<div>\n",
       "<style scoped>\n",
       "    .dataframe tbody tr th:only-of-type {\n",
       "        vertical-align: middle;\n",
       "    }\n",
       "\n",
       "    .dataframe tbody tr th {\n",
       "        vertical-align: top;\n",
       "    }\n",
       "\n",
       "    .dataframe thead th {\n",
       "        text-align: right;\n",
       "    }\n",
       "</style>\n",
       "<table border=\"1\" class=\"dataframe\">\n",
       "  <thead>\n",
       "    <tr style=\"text-align: right;\">\n",
       "      <th></th>\n",
       "      <th>PassengerId</th>\n",
       "      <th>Pclass</th>\n",
       "      <th>Age</th>\n",
       "      <th>SibSp</th>\n",
       "      <th>Parch</th>\n",
       "      <th>Fare</th>\n",
       "    </tr>\n",
       "  </thead>\n",
       "  <tbody>\n",
       "    <tr>\n",
       "      <th>count</th>\n",
       "      <td>200.000000</td>\n",
       "      <td>200.000000</td>\n",
       "      <td>160.000000</td>\n",
       "      <td>200.000000</td>\n",
       "      <td>200.000000</td>\n",
       "      <td>199.000000</td>\n",
       "    </tr>\n",
       "    <tr>\n",
       "      <th>mean</th>\n",
       "      <td>991.500000</td>\n",
       "      <td>2.280000</td>\n",
       "      <td>30.537500</td>\n",
       "      <td>0.470000</td>\n",
       "      <td>0.405000</td>\n",
       "      <td>36.153309</td>\n",
       "    </tr>\n",
       "    <tr>\n",
       "      <th>std</th>\n",
       "      <td>57.879185</td>\n",
       "      <td>0.857483</td>\n",
       "      <td>14.161751</td>\n",
       "      <td>0.950588</td>\n",
       "      <td>0.930216</td>\n",
       "      <td>57.080172</td>\n",
       "    </tr>\n",
       "    <tr>\n",
       "      <th>min</th>\n",
       "      <td>892.000000</td>\n",
       "      <td>1.000000</td>\n",
       "      <td>1.000000</td>\n",
       "      <td>0.000000</td>\n",
       "      <td>0.000000</td>\n",
       "      <td>3.170800</td>\n",
       "    </tr>\n",
       "    <tr>\n",
       "      <th>25%</th>\n",
       "      <td>941.750000</td>\n",
       "      <td>1.000000</td>\n",
       "      <td>21.750000</td>\n",
       "      <td>0.000000</td>\n",
       "      <td>0.000000</td>\n",
       "      <td>7.895800</td>\n",
       "    </tr>\n",
       "    <tr>\n",
       "      <th>50%</th>\n",
       "      <td>991.500000</td>\n",
       "      <td>3.000000</td>\n",
       "      <td>27.000000</td>\n",
       "      <td>0.000000</td>\n",
       "      <td>0.000000</td>\n",
       "      <td>14.500000</td>\n",
       "    </tr>\n",
       "    <tr>\n",
       "      <th>75%</th>\n",
       "      <td>1041.250000</td>\n",
       "      <td>3.000000</td>\n",
       "      <td>39.250000</td>\n",
       "      <td>1.000000</td>\n",
       "      <td>0.000000</td>\n",
       "      <td>30.943750</td>\n",
       "    </tr>\n",
       "    <tr>\n",
       "      <th>max</th>\n",
       "      <td>1091.000000</td>\n",
       "      <td>3.000000</td>\n",
       "      <td>76.000000</td>\n",
       "      <td>8.000000</td>\n",
       "      <td>6.000000</td>\n",
       "      <td>263.000000</td>\n",
       "    </tr>\n",
       "  </tbody>\n",
       "</table>\n",
       "</div>"
      ],
      "text/plain": [
       "       PassengerId      Pclass         Age       SibSp       Parch        Fare\n",
       "count   200.000000  200.000000  160.000000  200.000000  200.000000  199.000000\n",
       "mean    991.500000    2.280000   30.537500    0.470000    0.405000   36.153309\n",
       "std      57.879185    0.857483   14.161751    0.950588    0.930216   57.080172\n",
       "min     892.000000    1.000000    1.000000    0.000000    0.000000    3.170800\n",
       "25%     941.750000    1.000000   21.750000    0.000000    0.000000    7.895800\n",
       "50%     991.500000    3.000000   27.000000    0.000000    0.000000   14.500000\n",
       "75%    1041.250000    3.000000   39.250000    1.000000    0.000000   30.943750\n",
       "max    1091.000000    3.000000   76.000000    8.000000    6.000000  263.000000"
      ]
     },
     "execution_count": 11,
     "metadata": {},
     "output_type": "execute_result"
    }
   ],
   "source": [
    "#Returns description of the data in the DataFrame\n",
    "test_df.describe()"
   ]
  },
  {
   "cell_type": "markdown",
   "id": "cba83903",
   "metadata": {},
   "source": [
    "# Data Pre-processing"
   ]
  },
  {
   "cell_type": "code",
   "execution_count": 12,
   "id": "846bda89",
   "metadata": {},
   "outputs": [
    {
     "data": {
      "text/html": [
       "<div>\n",
       "<style scoped>\n",
       "    .dataframe tbody tr th:only-of-type {\n",
       "        vertical-align: middle;\n",
       "    }\n",
       "\n",
       "    .dataframe tbody tr th {\n",
       "        vertical-align: top;\n",
       "    }\n",
       "\n",
       "    .dataframe thead th {\n",
       "        text-align: right;\n",
       "    }\n",
       "</style>\n",
       "<table border=\"1\" class=\"dataframe\">\n",
       "  <thead>\n",
       "    <tr style=\"text-align: right;\">\n",
       "      <th></th>\n",
       "      <th>Total</th>\n",
       "      <th>%</th>\n",
       "    </tr>\n",
       "  </thead>\n",
       "  <tbody>\n",
       "    <tr>\n",
       "      <th>Cabin</th>\n",
       "      <td>160</td>\n",
       "      <td>80.0</td>\n",
       "    </tr>\n",
       "    <tr>\n",
       "      <th>Age</th>\n",
       "      <td>41</td>\n",
       "      <td>20.5</td>\n",
       "    </tr>\n",
       "    <tr>\n",
       "      <th>Embarked</th>\n",
       "      <td>1</td>\n",
       "      <td>0.5</td>\n",
       "    </tr>\n",
       "    <tr>\n",
       "      <th>PassengerId</th>\n",
       "      <td>0</td>\n",
       "      <td>0.0</td>\n",
       "    </tr>\n",
       "    <tr>\n",
       "      <th>Survived</th>\n",
       "      <td>0</td>\n",
       "      <td>0.0</td>\n",
       "    </tr>\n",
       "  </tbody>\n",
       "</table>\n",
       "</div>"
      ],
      "text/plain": [
       "             Total     %\n",
       "Cabin          160  80.0\n",
       "Age             41  20.5\n",
       "Embarked         1   0.5\n",
       "PassengerId      0   0.0\n",
       "Survived         0   0.0"
      ]
     },
     "execution_count": 12,
     "metadata": {},
     "output_type": "execute_result"
    }
   ],
   "source": [
    "#Checking for the missing values\n",
    "total = train_df.isnull().sum().sort_values(ascending=False)\n",
    "percent_1 = train_df.isnull().sum()/train_df.isnull().count()*100\n",
    "percent_2 = (round(percent_1, 1)).sort_values(ascending=False)\n",
    "missing_data = pd.concat([total, percent_2], axis=1, keys=['Total', '%'])\n",
    "missing_data.head(5)"
   ]
  },
  {
   "cell_type": "markdown",
   "id": "fad72b72",
   "metadata": {},
   "source": [
    "Inference: From the above result, we infer that there are missing values present in 3 features (Cabin, Age, Embarked). Missing values in Embarked and Age features can be filled but Cabin feature contains 80% of the missing values, which we can drop it.  "
   ]
  },
  {
   "cell_type": "code",
   "execution_count": 13,
   "id": "f0bdd663",
   "metadata": {},
   "outputs": [
    {
     "data": {
      "text/plain": [
       "Index(['PassengerId', 'Survived', 'Pclass', 'Name', 'Sex', 'Age', 'SibSp',\n",
       "       'Parch', 'Ticket', 'Fare', 'Cabin', 'Embarked'],\n",
       "      dtype='object')"
      ]
     },
     "execution_count": 13,
     "metadata": {},
     "output_type": "execute_result"
    }
   ],
   "source": [
    "#checking for the columns in train data\n",
    "train_df.columns"
   ]
  },
  {
   "cell_type": "markdown",
   "id": "8930ea7b",
   "metadata": {},
   "source": [
    "# Data Visualization"
   ]
  },
  {
   "cell_type": "code",
   "execution_count": 14,
   "id": "3d485d4b",
   "metadata": {
    "scrolled": true
   },
   "outputs": [
    {
     "data": {
      "text/plain": [
       "<AxesSubplot: xlabel='Pclass', ylabel='Survived'>"
      ]
     },
     "execution_count": 14,
     "metadata": {},
     "output_type": "execute_result"
    },
    {
     "data": {
      "image/png": "[encoded data removed]",
      "text/plain": [
       "<Figure size 640x480 with 1 Axes>"
      ]
     },
     "metadata": {},
     "output_type": "display_data"
    }
   ],
   "source": [
    "#Correlation between Pclass and Survival\n",
    "sns.barplot(x='Pclass', y='Survived', data=train_df)"
   ]
  },
  {
   "cell_type": "markdown",
   "id": "1eba05a8",
   "metadata": {},
   "source": [
    "Inference: We can see that Pclass is contributing to a persons chance of survival, especially if this person is in class 1 or 2"
   ]
  },
  {
   "cell_type": "code",
   "execution_count": 15,
   "id": "de946779",
   "metadata": {
    "scrolled": true
   },
   "outputs": [
    {
     "data": {
      "text/plain": [
       "<AxesSubplot: xlabel='Sex', ylabel='count'>"
      ]
     },
     "execution_count": 15,
     "metadata": {},
     "output_type": "execute_result"
    },
    {
     "data": {
      "image/png": "[encoded data removed]",
      "text/plain": [
       "<Figure size 640x480 with 1 Axes>"
      ]
     },
     "metadata": {},
     "output_type": "display_data"
    }
   ],
   "source": [
    "sns.countplot(x=\"Sex\",hue=\"Survived\",data=train_df)\n"
   ]
  },
  {
   "cell_type": "markdown",
   "id": "11e08002",
   "metadata": {},
   "source": [
    "Inference: We can say that tha survival of female is more when compared to male"
   ]
  },
  {
   "cell_type": "code",
   "execution_count": 16,
   "id": "33d747fa",
   "metadata": {},
   "outputs": [
    {
     "name": "stdout",
     "output_type": "stream",
     "text": [
      "Number of survivors:  69\n",
      "Number of non-survivors:  131\n"
     ]
    }
   ],
   "source": [
    "#Calculating number of survived and not survived from the train data\n",
    "#count the number of survivors\n",
    "survived=train_df[train_df['Survived']==1].Survived.count()\n",
    "#count the number od non-survivals\n",
    "not_survived=train_df[train_df['Survived']==0].Survived.count()\n",
    "#Results\n",
    "print(\"Number of survivors: \",survived)\n",
    "print(\"Number of non-survivors: \",not_survived)"
   ]
  },
  {
   "cell_type": "code",
   "execution_count": 17,
   "id": "b8d54bd4",
   "metadata": {},
   "outputs": [
    {
     "data": {
      "image/png": "[encoded data removed]",
      "text/plain": [
       "<Figure size 600x600 with 1 Axes>"
      ]
     },
     "metadata": {},
     "output_type": "display_data"
    }
   ],
   "source": [
    "#to show frequency of values in Survived feature using countplot\n",
    "plt.figure(figsize=(6,6))\n",
    "sns.countplot(x='Survived',data=train_df)\n",
    "plt.show()"
   ]
  },
  {
   "cell_type": "markdown",
   "id": "344337fb",
   "metadata": {},
   "source": [
    "Inference: We can see the frequency of values in survived column as survived and not survived in which 0 represents the passengers who are not survived and 1 represents who are survived."
   ]
  },
  {
   "cell_type": "code",
   "execution_count": 18,
   "id": "c3650876",
   "metadata": {
    "scrolled": true
   },
   "outputs": [
    {
     "data": {
      "image/png": "[encoded data removed]",
      "text/plain": [
       "<Figure size 640x480 with 1 Axes>"
      ]
     },
     "metadata": {},
     "output_type": "display_data"
    }
   ],
   "source": [
    "#creating a boxplot for the Fare column\n",
    "plt.boxplot(train_df['Fare'])\n",
    "plt.show()"
   ]
  },
  {
   "cell_type": "markdown",
   "id": "94cd55fa",
   "metadata": {},
   "source": [
    "Inference: We can see that there are outliers present in Fare column"
   ]
  },
  {
   "cell_type": "code",
   "execution_count": 19,
   "id": "343dad49",
   "metadata": {},
   "outputs": [],
   "source": [
    "#dropping the PassenegrId, since it does not contribute to a persons survival probability\n",
    "train_df = train_df.drop(['PassengerId'], axis=1)"
   ]
  },
  {
   "cell_type": "markdown",
   "id": "e04e8738",
   "metadata": {},
   "source": [
    "Note: Do not drop the PassengerId feature from thet test data, as it is useful for the submission"
   ]
  },
  {
   "cell_type": "code",
   "execution_count": 20,
   "id": "e1ec7563",
   "metadata": {},
   "outputs": [],
   "source": [
    "#dropping cabin column form both train and test data\n",
    "train_df = train_df.drop(['Cabin'], axis=1)\n",
    "test_df = test_df.drop(['Cabin'], axis=1)"
   ]
  },
  {
   "cell_type": "code",
   "execution_count": 21,
   "id": "3f86b6e8",
   "metadata": {},
   "outputs": [
    {
     "data": {
      "text/plain": [
       "Survived    0\n",
       "Pclass      0\n",
       "Name        0\n",
       "Sex         0\n",
       "Age         0\n",
       "SibSp       0\n",
       "Parch       0\n",
       "Ticket      0\n",
       "Fare        0\n",
       "Embarked    1\n",
       "dtype: int64"
      ]
     },
     "execution_count": 21,
     "metadata": {},
     "output_type": "execute_result"
    }
   ],
   "source": [
    "#finding the mean of 'Age' column and filling the null values with mean value obtained\n",
    "train_df['Age'].fillna(train_df['Age'].median(),inplace=True)\n",
    "train_df.isnull().sum()"
   ]
  },
  {
   "cell_type": "code",
   "execution_count": 22,
   "id": "2881333b",
   "metadata": {},
   "outputs": [
    {
     "data": {
      "text/plain": [
       "PassengerId    0\n",
       "Pclass         0\n",
       "Name           0\n",
       "Sex            0\n",
       "Age            0\n",
       "SibSp          0\n",
       "Parch          0\n",
       "Ticket         0\n",
       "Fare           1\n",
       "Embarked       0\n",
       "dtype: int64"
      ]
     },
     "execution_count": 22,
     "metadata": {},
     "output_type": "execute_result"
    }
   ],
   "source": [
    "#finding the mean of 'Age' column and filling the null values with mean value obtained\n",
    "test_df['Age'].fillna(test_df['Age'].median(),inplace=True)\n",
    "test_df.isnull().sum()"
   ]
  },
  {
   "cell_type": "code",
   "execution_count": 23,
   "id": "852fd37b",
   "metadata": {},
   "outputs": [
    {
     "data": {
      "text/plain": [
       "count     199\n",
       "unique      3\n",
       "top         S\n",
       "freq      143\n",
       "Name: Embarked, dtype: object"
      ]
     },
     "execution_count": 23,
     "metadata": {},
     "output_type": "execute_result"
    }
   ],
   "source": [
    "#finding the description from 'Embarked' column\n",
    "train_df['Embarked'].describe()"
   ]
  },
  {
   "cell_type": "code",
   "execution_count": 24,
   "id": "d94f40b1",
   "metadata": {},
   "outputs": [],
   "source": [
    "#finding the common value from the 'Embarked' column and filling null values with it\n",
    "common_value = 'S'\n",
    "data = [train_df, test_df]\n",
    "\n",
    "for dataset in data:\n",
    "    dataset['Embarked'] = dataset['Embarked'].fillna(common_value)"
   ]
  },
  {
   "cell_type": "code",
   "execution_count": 25,
   "id": "f8e96f25",
   "metadata": {
    "scrolled": true
   },
   "outputs": [
    {
     "data": {
      "text/plain": [
       "Survived    0\n",
       "Pclass      0\n",
       "Name        0\n",
       "Sex         0\n",
       "Age         0\n",
       "SibSp       0\n",
       "Parch       0\n",
       "Ticket      0\n",
       "Fare        0\n",
       "Embarked    0\n",
       "dtype: int64"
      ]
     },
     "execution_count": 25,
     "metadata": {},
     "output_type": "execute_result"
    }
   ],
   "source": [
    "train_df.isnull().sum()"
   ]
  },
  {
   "cell_type": "markdown",
   "id": "c9ccd8a2",
   "metadata": {},
   "source": [
    "Inference: We have filled all the missing values present in the features"
   ]
  },
  {
   "cell_type": "markdown",
   "id": "63a4b1c9",
   "metadata": {},
   "source": [
    "# Feature Engineering"
   ]
  },
  {
   "cell_type": "code",
   "execution_count": 26,
   "id": "e12beb51",
   "metadata": {
    "scrolled": false
   },
   "outputs": [
    {
     "name": "stdout",
     "output_type": "stream",
     "text": [
      "<class 'pandas.core.frame.DataFrame'>\n",
      "RangeIndex: 200 entries, 0 to 199\n",
      "Data columns (total 10 columns):\n",
      " #   Column    Non-Null Count  Dtype  \n",
      "---  ------    --------------  -----  \n",
      " 0   Survived  200 non-null    int64  \n",
      " 1   Pclass    200 non-null    int64  \n",
      " 2   Name      200 non-null    object \n",
      " 3   Sex       200 non-null    object \n",
      " 4   Age       200 non-null    float64\n",
      " 5   SibSp     200 non-null    int64  \n",
      " 6   Parch     200 non-null    int64  \n",
      " 7   Ticket    200 non-null    object \n",
      " 8   Fare      200 non-null    float64\n",
      " 9   Embarked  200 non-null    object \n",
      "dtypes: float64(2), int64(4), object(4)\n",
      "memory usage: 15.8+ KB\n"
     ]
    }
   ],
   "source": [
    "train_df.info()"
   ]
  },
  {
   "cell_type": "code",
   "execution_count": 27,
   "id": "002fcf3e",
   "metadata": {
    "scrolled": true
   },
   "outputs": [
    {
     "name": "stdout",
     "output_type": "stream",
     "text": [
      "<class 'pandas.core.frame.DataFrame'>\n",
      "RangeIndex: 200 entries, 0 to 199\n",
      "Data columns (total 10 columns):\n",
      " #   Column       Non-Null Count  Dtype  \n",
      "---  ------       --------------  -----  \n",
      " 0   PassengerId  200 non-null    int64  \n",
      " 1   Pclass       200 non-null    int64  \n",
      " 2   Name         200 non-null    object \n",
      " 3   Sex          200 non-null    object \n",
      " 4   Age          200 non-null    float64\n",
      " 5   SibSp        200 non-null    int64  \n",
      " 6   Parch        200 non-null    int64  \n",
      " 7   Ticket       200 non-null    object \n",
      " 8   Fare         199 non-null    float64\n",
      " 9   Embarked     200 non-null    object \n",
      "dtypes: float64(2), int64(4), object(4)\n",
      "memory usage: 15.8+ KB\n"
     ]
    }
   ],
   "source": [
    "test_df.info()"
   ]
  },
  {
   "cell_type": "markdown",
   "id": "651b53f0",
   "metadata": {},
   "source": [
    "Inference: We can note that 'Fare' is a float and also there are 4 categorical features that are to be converted into numerical features"
   ]
  },
  {
   "cell_type": "code",
   "execution_count": 85,
   "id": "0a260ffa",
   "metadata": {},
   "outputs": [],
   "source": [
    "#Removing the outliers from Fare column\n",
    "Q1=train_df['Fare'].quantile(0.25)\n",
    "Q3=train_df['Fare'].quantile(0.75)\n",
    "IQR=Q3-Q1\n",
    "train_df=train_df[~((train_df['Fare'] < (Q1-1.5*IQR)) | (train_df['Fare'] > (Q3 + 1.5*IQR)))]\n",
    "train_df.to_csv(\"Cleaned_data.csv\",index=False)"
   ]
  },
  {
   "cell_type": "code",
   "execution_count": 86,
   "id": "c3b7cf20",
   "metadata": {
    "scrolled": false
   },
   "outputs": [
    {
     "data": {
      "image/png": "[encoded data removed]",
      "text/plain": [
       "<Figure size 640x480 with 1 Axes>"
      ]
     },
     "metadata": {},
     "output_type": "display_data"
    }
   ],
   "source": [
    "#creating a boxplot for the Fare column\n",
    "train_df = pd.read_csv(\"Cleaned_data.csv\")\n",
    "plt.boxplot(train_df['Fare'])\n",
    "plt.show()"
   ]
  },
  {
   "cell_type": "code",
   "execution_count": 87,
   "id": "408d3b87",
   "metadata": {},
   "outputs": [],
   "source": [
    "#Removing the outliers from Fare column\n",
    "Q1=test_df['Fare'].quantile(0.25)\n",
    "Q3=test_df['Fare'].quantile(0.75)\n",
    "IQR=Q3-Q1\n",
    "test_df=test_df[~((test_df['Fare'] < (Q1-1.5*IQR)) | (test_df['Fare'] > (Q3 + 1.5*IQR)))]\n",
    "test_df.to_csv(\"Cleaned_data_test.csv\",index=False)"
   ]
  },
  {
   "cell_type": "code",
   "execution_count": 88,
   "id": "68c41c5a",
   "metadata": {
    "scrolled": true
   },
   "outputs": [
    {
     "data": {
      "image/png": "[encoded data removed]",
      "text/plain": [
       "<Figure size 640x480 with 1 Axes>"
      ]
     },
     "metadata": {},
     "output_type": "display_data"
    }
   ],
   "source": [
    "#creating a boxplot for the Fare column\n",
    "test_df = pd.read_csv(\"Cleaned_data_test.csv\")\n",
    "plt.boxplot(test_df['Fare'])\n",
    "plt.show()"
   ]
  },
  {
   "cell_type": "markdown",
   "id": "fcdac2d1",
   "metadata": {},
   "source": [
    "Inference: Removed the outliers from the fare column from both train and test data"
   ]
  },
  {
   "cell_type": "code",
   "execution_count": 32,
   "id": "6be4261b",
   "metadata": {},
   "outputs": [],
   "source": [
    "#filling the null values in Fare column in test dataset with 0 \n",
    "test_df['Fare']=test_df['Fare'].fillna(0)"
   ]
  },
  {
   "cell_type": "code",
   "execution_count": 33,
   "id": "14771e37",
   "metadata": {},
   "outputs": [],
   "source": [
    "#converting the float to int data type of Fare column in both train_df and test_df\n",
    "train_df['Fare']=train_df['Fare'].astype(int)\n",
    "test_df['Fare']=test_df['Fare'].astype(int)"
   ]
  },
  {
   "cell_type": "code",
   "execution_count": 34,
   "id": "24be1414",
   "metadata": {},
   "outputs": [],
   "source": [
    "#converting the float to int data type of Fare column in both train_df and test_df\n",
    "train_df['Age']=train_df['Age'].astype(int)\n",
    "test_df['Age']=test_df['Age'].astype(int)"
   ]
  },
  {
   "cell_type": "code",
   "execution_count": 35,
   "id": "5b9b3fd2",
   "metadata": {
    "scrolled": true
   },
   "outputs": [
    {
     "name": "stdout",
     "output_type": "stream",
     "text": [
      "<class 'pandas.core.frame.DataFrame'>\n",
      "RangeIndex: 182 entries, 0 to 181\n",
      "Data columns (total 10 columns):\n",
      " #   Column    Non-Null Count  Dtype \n",
      "---  ------    --------------  ----- \n",
      " 0   Survived  182 non-null    int64 \n",
      " 1   Pclass    182 non-null    int64 \n",
      " 2   Name      182 non-null    object\n",
      " 3   Sex       182 non-null    object\n",
      " 4   Age       182 non-null    int32 \n",
      " 5   SibSp     182 non-null    int64 \n",
      " 6   Parch     182 non-null    int64 \n",
      " 7   Ticket    182 non-null    object\n",
      " 8   Fare      182 non-null    int32 \n",
      " 9   Embarked  182 non-null    object\n",
      "dtypes: int32(2), int64(4), object(4)\n",
      "memory usage: 12.9+ KB\n"
     ]
    }
   ],
   "source": [
    "train_df.info()"
   ]
  },
  {
   "cell_type": "code",
   "execution_count": 36,
   "id": "f3b4a293",
   "metadata": {},
   "outputs": [
    {
     "name": "stdout",
     "output_type": "stream",
     "text": [
      "<class 'pandas.core.frame.DataFrame'>\n",
      "RangeIndex: 178 entries, 0 to 177\n",
      "Data columns (total 10 columns):\n",
      " #   Column       Non-Null Count  Dtype \n",
      "---  ------       --------------  ----- \n",
      " 0   PassengerId  178 non-null    int64 \n",
      " 1   Pclass       178 non-null    int64 \n",
      " 2   Name         178 non-null    object\n",
      " 3   Sex          178 non-null    object\n",
      " 4   Age          178 non-null    int32 \n",
      " 5   SibSp        178 non-null    int64 \n",
      " 6   Parch        178 non-null    int64 \n",
      " 7   Ticket       178 non-null    object\n",
      " 8   Fare         178 non-null    int32 \n",
      " 9   Embarked     178 non-null    object\n",
      "dtypes: int32(2), int64(4), object(4)\n",
      "memory usage: 12.6+ KB\n"
     ]
    }
   ],
   "source": [
    "test_df.info()"
   ]
  },
  {
   "cell_type": "code",
   "execution_count": 37,
   "id": "1947c81c",
   "metadata": {},
   "outputs": [
    {
     "data": {
      "text/plain": [
       "0"
      ]
     },
     "execution_count": 37,
     "metadata": {},
     "output_type": "execute_result"
    }
   ],
   "source": [
    "train_df.isnull().sum().sum()"
   ]
  },
  {
   "cell_type": "code",
   "execution_count": 38,
   "id": "9115ce35",
   "metadata": {},
   "outputs": [
    {
     "data": {
      "text/plain": [
       "0"
      ]
     },
     "execution_count": 38,
     "metadata": {},
     "output_type": "execute_result"
    }
   ],
   "source": [
    "test_df.isnull().sum().sum()"
   ]
  },
  {
   "cell_type": "code",
   "execution_count": 39,
   "id": "e63def57",
   "metadata": {},
   "outputs": [
    {
     "data": {
      "text/plain": [
       "(182, 10)"
      ]
     },
     "execution_count": 39,
     "metadata": {},
     "output_type": "execute_result"
    }
   ],
   "source": [
    "train_df.shape"
   ]
  },
  {
   "cell_type": "code",
   "execution_count": 40,
   "id": "5192f033",
   "metadata": {},
   "outputs": [
    {
     "data": {
      "text/plain": [
       "(178, 10)"
      ]
     },
     "execution_count": 40,
     "metadata": {},
     "output_type": "execute_result"
    }
   ],
   "source": [
    "test_df.shape"
   ]
  },
  {
   "cell_type": "code",
   "execution_count": 41,
   "id": "213bf90e",
   "metadata": {},
   "outputs": [],
   "source": [
    "#dropping the name column\n",
    "train_df = train_df.drop(['Name'], axis=1)\n",
    "test_df = test_df.drop(['Name'], axis=1)"
   ]
  },
  {
   "cell_type": "code",
   "execution_count": 42,
   "id": "0767ba11",
   "metadata": {},
   "outputs": [],
   "source": [
    "#using one-hot encoding\n",
    "#Getting dummies for 'Sex' column\n",
    "train_df = pd.get_dummies(train_df, columns=['Sex'])"
   ]
  },
  {
   "cell_type": "code",
   "execution_count": 43,
   "id": "d1fdf0ac",
   "metadata": {},
   "outputs": [
    {
     "data": {
      "text/html": [
       "<div>\n",
       "<style scoped>\n",
       "    .dataframe tbody tr th:only-of-type {\n",
       "        vertical-align: middle;\n",
       "    }\n",
       "\n",
       "    .dataframe tbody tr th {\n",
       "        vertical-align: top;\n",
       "    }\n",
       "\n",
       "    .dataframe thead th {\n",
       "        text-align: right;\n",
       "    }\n",
       "</style>\n",
       "<table border=\"1\" class=\"dataframe\">\n",
       "  <thead>\n",
       "    <tr style=\"text-align: right;\">\n",
       "      <th></th>\n",
       "      <th>Survived</th>\n",
       "      <th>Pclass</th>\n",
       "      <th>Age</th>\n",
       "      <th>SibSp</th>\n",
       "      <th>Parch</th>\n",
       "      <th>Ticket</th>\n",
       "      <th>Fare</th>\n",
       "      <th>Embarked</th>\n",
       "      <th>Sex_female</th>\n",
       "      <th>Sex_male</th>\n",
       "    </tr>\n",
       "  </thead>\n",
       "  <tbody>\n",
       "    <tr>\n",
       "      <th>0</th>\n",
       "      <td>0</td>\n",
       "      <td>3</td>\n",
       "      <td>22</td>\n",
       "      <td>1</td>\n",
       "      <td>0</td>\n",
       "      <td>A/5 21171</td>\n",
       "      <td>7</td>\n",
       "      <td>S</td>\n",
       "      <td>0</td>\n",
       "      <td>1</td>\n",
       "    </tr>\n",
       "    <tr>\n",
       "      <th>1</th>\n",
       "      <td>1</td>\n",
       "      <td>3</td>\n",
       "      <td>26</td>\n",
       "      <td>0</td>\n",
       "      <td>0</td>\n",
       "      <td>STON/O2. 3101282</td>\n",
       "      <td>7</td>\n",
       "      <td>S</td>\n",
       "      <td>1</td>\n",
       "      <td>0</td>\n",
       "    </tr>\n",
       "    <tr>\n",
       "      <th>2</th>\n",
       "      <td>1</td>\n",
       "      <td>1</td>\n",
       "      <td>35</td>\n",
       "      <td>1</td>\n",
       "      <td>0</td>\n",
       "      <td>113803</td>\n",
       "      <td>53</td>\n",
       "      <td>S</td>\n",
       "      <td>1</td>\n",
       "      <td>0</td>\n",
       "    </tr>\n",
       "    <tr>\n",
       "      <th>3</th>\n",
       "      <td>0</td>\n",
       "      <td>3</td>\n",
       "      <td>35</td>\n",
       "      <td>0</td>\n",
       "      <td>0</td>\n",
       "      <td>373450</td>\n",
       "      <td>8</td>\n",
       "      <td>S</td>\n",
       "      <td>0</td>\n",
       "      <td>1</td>\n",
       "    </tr>\n",
       "    <tr>\n",
       "      <th>4</th>\n",
       "      <td>0</td>\n",
       "      <td>3</td>\n",
       "      <td>26</td>\n",
       "      <td>0</td>\n",
       "      <td>0</td>\n",
       "      <td>330877</td>\n",
       "      <td>8</td>\n",
       "      <td>Q</td>\n",
       "      <td>0</td>\n",
       "      <td>1</td>\n",
       "    </tr>\n",
       "  </tbody>\n",
       "</table>\n",
       "</div>"
      ],
      "text/plain": [
       "   Survived  Pclass  Age  SibSp  Parch            Ticket  Fare Embarked  \\\n",
       "0         0       3   22      1      0         A/5 21171     7        S   \n",
       "1         1       3   26      0      0  STON/O2. 3101282     7        S   \n",
       "2         1       1   35      1      0            113803    53        S   \n",
       "3         0       3   35      0      0            373450     8        S   \n",
       "4         0       3   26      0      0            330877     8        Q   \n",
       "\n",
       "   Sex_female  Sex_male  \n",
       "0           0         1  \n",
       "1           1         0  \n",
       "2           1         0  \n",
       "3           0         1  \n",
       "4           0         1  "
      ]
     },
     "execution_count": 43,
     "metadata": {},
     "output_type": "execute_result"
    }
   ],
   "source": [
    "train_df.head()"
   ]
  },
  {
   "cell_type": "code",
   "execution_count": 44,
   "id": "044d1a7b",
   "metadata": {},
   "outputs": [],
   "source": [
    "train_df = train_df.drop(['Sex_male'],axis=1)"
   ]
  },
  {
   "cell_type": "code",
   "execution_count": 45,
   "id": "6884dff3",
   "metadata": {},
   "outputs": [
    {
     "data": {
      "text/html": [
       "<div>\n",
       "<style scoped>\n",
       "    .dataframe tbody tr th:only-of-type {\n",
       "        vertical-align: middle;\n",
       "    }\n",
       "\n",
       "    .dataframe tbody tr th {\n",
       "        vertical-align: top;\n",
       "    }\n",
       "\n",
       "    .dataframe thead th {\n",
       "        text-align: right;\n",
       "    }\n",
       "</style>\n",
       "<table border=\"1\" class=\"dataframe\">\n",
       "  <thead>\n",
       "    <tr style=\"text-align: right;\">\n",
       "      <th></th>\n",
       "      <th>PassengerId</th>\n",
       "      <th>Pclass</th>\n",
       "      <th>Age</th>\n",
       "      <th>SibSp</th>\n",
       "      <th>Parch</th>\n",
       "      <th>Ticket</th>\n",
       "      <th>Fare</th>\n",
       "      <th>Embarked</th>\n",
       "      <th>Sex_female</th>\n",
       "      <th>Sex_male</th>\n",
       "    </tr>\n",
       "  </thead>\n",
       "  <tbody>\n",
       "    <tr>\n",
       "      <th>0</th>\n",
       "      <td>892</td>\n",
       "      <td>3</td>\n",
       "      <td>34</td>\n",
       "      <td>0</td>\n",
       "      <td>0</td>\n",
       "      <td>330911</td>\n",
       "      <td>7</td>\n",
       "      <td>Q</td>\n",
       "      <td>0</td>\n",
       "      <td>1</td>\n",
       "    </tr>\n",
       "    <tr>\n",
       "      <th>1</th>\n",
       "      <td>893</td>\n",
       "      <td>3</td>\n",
       "      <td>47</td>\n",
       "      <td>1</td>\n",
       "      <td>0</td>\n",
       "      <td>363272</td>\n",
       "      <td>7</td>\n",
       "      <td>S</td>\n",
       "      <td>1</td>\n",
       "      <td>0</td>\n",
       "    </tr>\n",
       "    <tr>\n",
       "      <th>2</th>\n",
       "      <td>894</td>\n",
       "      <td>2</td>\n",
       "      <td>62</td>\n",
       "      <td>0</td>\n",
       "      <td>0</td>\n",
       "      <td>240276</td>\n",
       "      <td>9</td>\n",
       "      <td>Q</td>\n",
       "      <td>0</td>\n",
       "      <td>1</td>\n",
       "    </tr>\n",
       "    <tr>\n",
       "      <th>3</th>\n",
       "      <td>895</td>\n",
       "      <td>3</td>\n",
       "      <td>27</td>\n",
       "      <td>0</td>\n",
       "      <td>0</td>\n",
       "      <td>315154</td>\n",
       "      <td>8</td>\n",
       "      <td>S</td>\n",
       "      <td>0</td>\n",
       "      <td>1</td>\n",
       "    </tr>\n",
       "    <tr>\n",
       "      <th>4</th>\n",
       "      <td>896</td>\n",
       "      <td>3</td>\n",
       "      <td>22</td>\n",
       "      <td>1</td>\n",
       "      <td>1</td>\n",
       "      <td>3101298</td>\n",
       "      <td>12</td>\n",
       "      <td>S</td>\n",
       "      <td>1</td>\n",
       "      <td>0</td>\n",
       "    </tr>\n",
       "  </tbody>\n",
       "</table>\n",
       "</div>"
      ],
      "text/plain": [
       "   PassengerId  Pclass  Age  SibSp  Parch   Ticket  Fare Embarked  Sex_female  \\\n",
       "0          892       3   34      0      0   330911     7        Q           0   \n",
       "1          893       3   47      1      0   363272     7        S           1   \n",
       "2          894       2   62      0      0   240276     9        Q           0   \n",
       "3          895       3   27      0      0   315154     8        S           0   \n",
       "4          896       3   22      1      1  3101298    12        S           1   \n",
       "\n",
       "   Sex_male  \n",
       "0         1  \n",
       "1         0  \n",
       "2         1  \n",
       "3         1  \n",
       "4         0  "
      ]
     },
     "execution_count": 45,
     "metadata": {},
     "output_type": "execute_result"
    }
   ],
   "source": [
    "#Getting dummies for 'Sex' column for test dataset\n",
    "test_df = pd.get_dummies(test_df, columns=['Sex'])\n",
    "test_df.head()"
   ]
  },
  {
   "cell_type": "code",
   "execution_count": 46,
   "id": "08f3a5b6",
   "metadata": {},
   "outputs": [],
   "source": [
    "test_df = test_df.drop(['Sex_male'],axis=1)"
   ]
  },
  {
   "cell_type": "code",
   "execution_count": 47,
   "id": "52f721ad",
   "metadata": {},
   "outputs": [],
   "source": [
    "#dropping the 'Ticket' column from both train and test data\n",
    "train_df = train_df.drop(['Ticket'], axis=1)\n",
    "test_df = test_df.drop(['Ticket'], axis=1)"
   ]
  },
  {
   "cell_type": "code",
   "execution_count": 48,
   "id": "222b914f",
   "metadata": {},
   "outputs": [],
   "source": [
    "#label encoding\n",
    "#Converting categorical to numerical for Embarked feature\n",
    "values = {\"S\": 0, \"C\": 1, \"Q\": 2}\n",
    "data = [train_df, test_df]\n",
    "\n",
    "for dataset in data:\n",
    "    dataset['Embarked'] = dataset['Embarked'].map(values)"
   ]
  },
  {
   "cell_type": "code",
   "execution_count": 49,
   "id": "89a9567b",
   "metadata": {},
   "outputs": [
    {
     "data": {
      "text/html": [
       "<div>\n",
       "<style scoped>\n",
       "    .dataframe tbody tr th:only-of-type {\n",
       "        vertical-align: middle;\n",
       "    }\n",
       "\n",
       "    .dataframe tbody tr th {\n",
       "        vertical-align: top;\n",
       "    }\n",
       "\n",
       "    .dataframe thead th {\n",
       "        text-align: right;\n",
       "    }\n",
       "</style>\n",
       "<table border=\"1\" class=\"dataframe\">\n",
       "  <thead>\n",
       "    <tr style=\"text-align: right;\">\n",
       "      <th></th>\n",
       "      <th>Survived</th>\n",
       "      <th>Pclass</th>\n",
       "      <th>Age</th>\n",
       "      <th>SibSp</th>\n",
       "      <th>Parch</th>\n",
       "      <th>Fare</th>\n",
       "      <th>Embarked</th>\n",
       "      <th>Sex_female</th>\n",
       "    </tr>\n",
       "  </thead>\n",
       "  <tbody>\n",
       "    <tr>\n",
       "      <th>0</th>\n",
       "      <td>0</td>\n",
       "      <td>3</td>\n",
       "      <td>22</td>\n",
       "      <td>1</td>\n",
       "      <td>0</td>\n",
       "      <td>7</td>\n",
       "      <td>0</td>\n",
       "      <td>0</td>\n",
       "    </tr>\n",
       "    <tr>\n",
       "      <th>1</th>\n",
       "      <td>1</td>\n",
       "      <td>3</td>\n",
       "      <td>26</td>\n",
       "      <td>0</td>\n",
       "      <td>0</td>\n",
       "      <td>7</td>\n",
       "      <td>0</td>\n",
       "      <td>1</td>\n",
       "    </tr>\n",
       "    <tr>\n",
       "      <th>2</th>\n",
       "      <td>1</td>\n",
       "      <td>1</td>\n",
       "      <td>35</td>\n",
       "      <td>1</td>\n",
       "      <td>0</td>\n",
       "      <td>53</td>\n",
       "      <td>0</td>\n",
       "      <td>1</td>\n",
       "    </tr>\n",
       "    <tr>\n",
       "      <th>3</th>\n",
       "      <td>0</td>\n",
       "      <td>3</td>\n",
       "      <td>35</td>\n",
       "      <td>0</td>\n",
       "      <td>0</td>\n",
       "      <td>8</td>\n",
       "      <td>0</td>\n",
       "      <td>0</td>\n",
       "    </tr>\n",
       "    <tr>\n",
       "      <th>4</th>\n",
       "      <td>0</td>\n",
       "      <td>3</td>\n",
       "      <td>26</td>\n",
       "      <td>0</td>\n",
       "      <td>0</td>\n",
       "      <td>8</td>\n",
       "      <td>2</td>\n",
       "      <td>0</td>\n",
       "    </tr>\n",
       "  </tbody>\n",
       "</table>\n",
       "</div>"
      ],
      "text/plain": [
       "   Survived  Pclass  Age  SibSp  Parch  Fare  Embarked  Sex_female\n",
       "0         0       3   22      1      0     7         0           0\n",
       "1         1       3   26      0      0     7         0           1\n",
       "2         1       1   35      1      0    53         0           1\n",
       "3         0       3   35      0      0     8         0           0\n",
       "4         0       3   26      0      0     8         2           0"
      ]
     },
     "execution_count": 49,
     "metadata": {},
     "output_type": "execute_result"
    }
   ],
   "source": [
    "train_df.head()"
   ]
  },
  {
   "cell_type": "code",
   "execution_count": 50,
   "id": "7a34e657",
   "metadata": {
    "scrolled": true
   },
   "outputs": [
    {
     "data": {
      "text/html": [
       "<div>\n",
       "<style scoped>\n",
       "    .dataframe tbody tr th:only-of-type {\n",
       "        vertical-align: middle;\n",
       "    }\n",
       "\n",
       "    .dataframe tbody tr th {\n",
       "        vertical-align: top;\n",
       "    }\n",
       "\n",
       "    .dataframe thead th {\n",
       "        text-align: right;\n",
       "    }\n",
       "</style>\n",
       "<table border=\"1\" class=\"dataframe\">\n",
       "  <thead>\n",
       "    <tr style=\"text-align: right;\">\n",
       "      <th></th>\n",
       "      <th>PassengerId</th>\n",
       "      <th>Pclass</th>\n",
       "      <th>Age</th>\n",
       "      <th>SibSp</th>\n",
       "      <th>Parch</th>\n",
       "      <th>Fare</th>\n",
       "      <th>Embarked</th>\n",
       "      <th>Sex_female</th>\n",
       "    </tr>\n",
       "  </thead>\n",
       "  <tbody>\n",
       "    <tr>\n",
       "      <th>0</th>\n",
       "      <td>892</td>\n",
       "      <td>3</td>\n",
       "      <td>34</td>\n",
       "      <td>0</td>\n",
       "      <td>0</td>\n",
       "      <td>7</td>\n",
       "      <td>2</td>\n",
       "      <td>0</td>\n",
       "    </tr>\n",
       "    <tr>\n",
       "      <th>1</th>\n",
       "      <td>893</td>\n",
       "      <td>3</td>\n",
       "      <td>47</td>\n",
       "      <td>1</td>\n",
       "      <td>0</td>\n",
       "      <td>7</td>\n",
       "      <td>0</td>\n",
       "      <td>1</td>\n",
       "    </tr>\n",
       "    <tr>\n",
       "      <th>2</th>\n",
       "      <td>894</td>\n",
       "      <td>2</td>\n",
       "      <td>62</td>\n",
       "      <td>0</td>\n",
       "      <td>0</td>\n",
       "      <td>9</td>\n",
       "      <td>2</td>\n",
       "      <td>0</td>\n",
       "    </tr>\n",
       "    <tr>\n",
       "      <th>3</th>\n",
       "      <td>895</td>\n",
       "      <td>3</td>\n",
       "      <td>27</td>\n",
       "      <td>0</td>\n",
       "      <td>0</td>\n",
       "      <td>8</td>\n",
       "      <td>0</td>\n",
       "      <td>0</td>\n",
       "    </tr>\n",
       "    <tr>\n",
       "      <th>4</th>\n",
       "      <td>896</td>\n",
       "      <td>3</td>\n",
       "      <td>22</td>\n",
       "      <td>1</td>\n",
       "      <td>1</td>\n",
       "      <td>12</td>\n",
       "      <td>0</td>\n",
       "      <td>1</td>\n",
       "    </tr>\n",
       "  </tbody>\n",
       "</table>\n",
       "</div>"
      ],
      "text/plain": [
       "   PassengerId  Pclass  Age  SibSp  Parch  Fare  Embarked  Sex_female\n",
       "0          892       3   34      0      0     7         2           0\n",
       "1          893       3   47      1      0     7         0           1\n",
       "2          894       2   62      0      0     9         2           0\n",
       "3          895       3   27      0      0     8         0           0\n",
       "4          896       3   22      1      1    12         0           1"
      ]
     },
     "execution_count": 50,
     "metadata": {},
     "output_type": "execute_result"
    }
   ],
   "source": [
    "test_df.head()"
   ]
  },
  {
   "cell_type": "markdown",
   "id": "e98c8e76",
   "metadata": {},
   "source": [
    "# Input-Output split"
   ]
  },
  {
   "cell_type": "code",
   "execution_count": 51,
   "id": "53fed973",
   "metadata": {},
   "outputs": [
    {
     "data": {
      "text/plain": [
       "(182, 8)"
      ]
     },
     "execution_count": 51,
     "metadata": {},
     "output_type": "execute_result"
    }
   ],
   "source": [
    "train_df.shape"
   ]
  },
  {
   "cell_type": "code",
   "execution_count": 52,
   "id": "a725fa01",
   "metadata": {},
   "outputs": [
    {
     "data": {
      "text/plain": [
       "(178, 8)"
      ]
     },
     "execution_count": 52,
     "metadata": {},
     "output_type": "execute_result"
    }
   ],
   "source": [
    "test_df.shape"
   ]
  },
  {
   "cell_type": "code",
   "execution_count": 53,
   "id": "a0aa1ca1",
   "metadata": {},
   "outputs": [],
   "source": [
    "#dividing input and output columns\n",
    "X_train = train_df.drop(\"Survived\", axis=1)\n",
    "Y_train = train_df[\"Survived\"]\n",
    "test    = test_df[\"PassengerId\"]\n",
    "X_test  = test_df.drop(\"PassengerId\", axis=1)"
   ]
  },
  {
   "cell_type": "markdown",
   "id": "5058ca56",
   "metadata": {},
   "source": [
    "# Train-Test Split"
   ]
  },
  {
   "cell_type": "code",
   "execution_count": 54,
   "id": "74748191",
   "metadata": {
    "scrolled": true
   },
   "outputs": [],
   "source": [
    "from sklearn.model_selection import train_test_split\n",
    "X_train,X_test,Y_train,Y_test = train_test_split(X_train,Y_train,test_size=0.2)"
   ]
  },
  {
   "cell_type": "markdown",
   "id": "659c0049",
   "metadata": {},
   "source": [
    "The train_test split used to divide the data into training and testing set. Training set used to build the model and testing set used to make predictions"
   ]
  },
  {
   "cell_type": "markdown",
   "id": "0c8a8053",
   "metadata": {},
   "source": [
    "# Using Gaussian Naive Bayes Classifier"
   ]
  },
  {
   "cell_type": "markdown",
   "id": "2552ea2b",
   "metadata": {},
   "source": [
    "# Model Building"
   ]
  },
  {
   "cell_type": "code",
   "execution_count": 55,
   "id": "232030fd",
   "metadata": {},
   "outputs": [
    {
     "data": {
      "text/plain": [
       "GaussianNB()"
      ]
     },
     "execution_count": 55,
     "metadata": {},
     "output_type": "execute_result"
    }
   ],
   "source": [
    "#building the model using Gaussian naive bayes\n",
    "from sklearn.naive_bayes import GaussianNB\n",
    "gaussian = GaussianNB() \n",
    "gaussian.fit(X_train, Y_train)  "
   ]
  },
  {
   "cell_type": "markdown",
   "id": "8646e0ff",
   "metadata": {},
   "source": [
    "Inference: model is trained using Gaussian Naive Bayes algorithm"
   ]
  },
  {
   "cell_type": "markdown",
   "id": "4b111118",
   "metadata": {},
   "source": [
    "# Model Evaluation"
   ]
  },
  {
   "cell_type": "code",
   "execution_count": 56,
   "id": "ea68c324",
   "metadata": {},
   "outputs": [
    {
     "name": "stdout",
     "output_type": "stream",
     "text": [
      "Accuracy of the model: 0.7862068965517242\n"
     ]
    }
   ],
   "source": [
    "#Evaluating the performance of the model\n",
    "from sklearn.metrics import accuracy_score\n",
    "y_train_pred=gaussian.predict(X_train)\n",
    "accuracy_gnb = accuracy_score(Y_train,y_train_pred)\n",
    "print(\"Accuracy of the model:\",accuracy_gnb)"
   ]
  },
  {
   "cell_type": "code",
   "execution_count": 57,
   "id": "99deba47",
   "metadata": {
    "scrolled": true
   },
   "outputs": [
    {
     "name": "stdout",
     "output_type": "stream",
     "text": [
      "Accuracy of the model: 0.8108108108108109\n"
     ]
    }
   ],
   "source": [
    "#Evaluating the performance of the model\n",
    "from sklearn.metrics import accuracy_score\n",
    "y_pred=gaussian.predict(X_test)\n",
    "accuracy_gnb = accuracy_score(Y_test,y_pred)\n",
    "print(\"Accuracy of the model:\",accuracy_gnb)"
   ]
  },
  {
   "cell_type": "markdown",
   "id": "31298d21",
   "metadata": {},
   "source": [
    "Inference: From the above result, we obtained the accuracy of traing data and testing data.\n",
    "For the classification model, It is better to compare with other evaluation metrics too"
   ]
  },
  {
   "cell_type": "code",
   "execution_count": 58,
   "id": "56ce42cc",
   "metadata": {
    "scrolled": false
   },
   "outputs": [
    {
     "data": {
      "image/png": "[encoded data removed]",
      "text/plain": [
       "<Figure size 640x480 with 1 Axes>"
      ]
     },
     "metadata": {},
     "output_type": "display_data"
    }
   ],
   "source": [
    "#Creating a Confusion matrix\n",
    "from sklearn.metrics import confusion_matrix\n",
    "cm = confusion_matrix(Y_test, y_pred)\n",
    "fig, ax = plt.subplots()\n",
    "im = ax.imshow(cm, cmap='Blues')\n",
    "ax.set_xticks([0, 1])\n",
    "ax.set_xticklabels(['Did not survive', 'Survived'])\n",
    "ax.set_yticks([0, 1])\n",
    "ax.set_yticklabels(['Did not survive', 'Survived'])\n",
    "plt.title(\"Confusion Matrix\")\n",
    "plt.xlabel(\"Predicted Label\")\n",
    "plt.ylabel(\"True Label\")\n",
    "for i in range(2):\n",
    "    for j in range(2):\n",
    "        ax.text(j, i, cm[i, j], ha=\"center\", va=\"center\", color=\"red\")\n",
    "plt.show() \n"
   ]
  },
  {
   "cell_type": "markdown",
   "id": "e4ba53fa",
   "metadata": {},
   "source": [
    "Inference: from the above matrix, we got 23 of the people who did not survive right, and 10 of the people who did survive right. But also that we killed 3 of the passengers in our model, and brought 4 of them back to life!"
   ]
  },
  {
   "cell_type": "code",
   "execution_count": 59,
   "id": "3d73d9e6",
   "metadata": {
    "scrolled": false
   },
   "outputs": [
    {
     "name": "stdout",
     "output_type": "stream",
     "text": [
      "              precision    recall  f1-score   support\n",
      "\n",
      "           0       0.87      0.83      0.85        24\n",
      "           1       0.71      0.77      0.74        13\n",
      "\n",
      "    accuracy                           0.81        37\n",
      "   macro avg       0.79      0.80      0.80        37\n",
      "weighted avg       0.82      0.81      0.81        37\n",
      "\n"
     ]
    }
   ],
   "source": [
    "#Creating a classification report\n",
    "from sklearn.metrics import classification_report\n",
    "print(classification_report(Y_test,y_pred))"
   ]
  },
  {
   "cell_type": "code",
   "execution_count": 60,
   "id": "66225f01",
   "metadata": {},
   "outputs": [
    {
     "name": "stdout",
     "output_type": "stream",
     "text": [
      "Accuracy: 0.8108108108108109\n",
      "Precision: 0.7142857142857143\n",
      "Recall: 0.7692307692307693\n",
      "F1 Score: 0.7407407407407408\n"
     ]
    }
   ],
   "source": [
    "#Calculating the precision,F1 score, recall\n",
    "from sklearn.metrics import accuracy_score,precision_score,recall_score,f1_score\n",
    "# Evaluate the model\n",
    "accuracy_gnb = accuracy_score(Y_test, y_pred)\n",
    "precision_gnb = precision_score(Y_test, y_pred)\n",
    "recall_gnb = recall_score(Y_test, y_pred)\n",
    "f1_gnb = f1_score(Y_test, y_pred)\n",
    "\n",
    "print(\"Accuracy:\", accuracy_gnb)\n",
    "print(\"Precision:\", precision_gnb)\n",
    "print(\"Recall:\", recall_gnb)\n",
    "print(\"F1 Score:\", f1_gnb)"
   ]
  },
  {
   "cell_type": "code",
   "execution_count": 61,
   "id": "cd5bcc6a",
   "metadata": {},
   "outputs": [
    {
     "name": "stdout",
     "output_type": "stream",
     "text": [
      "ROC-AUC score: 0.8012820512820513\n"
     ]
    }
   ],
   "source": [
    "#Computing the ROC-AUC score\n",
    "from sklearn.metrics import roc_auc_score\n",
    "roc_auc_gnb=roc_auc_score(Y_test,y_pred)\n",
    "print(\"ROC-AUC score:\",roc_auc_gnb)"
   ]
  },
  {
   "cell_type": "code",
   "execution_count": 62,
   "id": "f9e3f190",
   "metadata": {
    "scrolled": true
   },
   "outputs": [
    {
     "data": {
      "image/png": "[encoded data removed]",
      "text/plain": [
       "<Figure size 640x480 with 1 Axes>"
      ]
     },
     "metadata": {},
     "output_type": "display_data"
    }
   ],
   "source": [
    "#plotting the AUC-ROC curve\n",
    "from sklearn.metrics import roc_curve,auc\n",
    "fpr, tpr, thresholds = roc_curve(Y_test, y_pred)\n",
    "roc_auc = auc(fpr, tpr)\n",
    "plt.plot(fpr, tpr, lw=1, label='ROC curve (area = %0.2f)' % roc_auc)\n",
    "plt.plot([0, 1], [0, 1], linestyle='--')\n",
    "plt.xlim([0.0, 1.0])\n",
    "plt.ylim([0.0, 1.05])\n",
    "plt.xlabel('False Positive Rate')\n",
    "plt.ylabel('True Positive Rate')\n",
    "plt.title('Receiver operating characteristic')\n",
    "plt.legend(loc=\"lower right\")\n",
    "plt.show() "
   ]
  },
  {
   "cell_type": "markdown",
   "id": "dd3cbc8d",
   "metadata": {},
   "source": [
    "Inference: we plotted True positive rate vs false positive rate. We have obtained area which is close to 1 and tells that our classifier performs well "
   ]
  },
  {
   "cell_type": "markdown",
   "id": "61136441",
   "metadata": {},
   "source": [
    "# Using Bernoulli Naive Bayes Classifier"
   ]
  },
  {
   "cell_type": "markdown",
   "id": "22cffeab",
   "metadata": {},
   "source": [
    "# Model Building"
   ]
  },
  {
   "cell_type": "code",
   "execution_count": 63,
   "id": "21bdefb0",
   "metadata": {},
   "outputs": [
    {
     "data": {
      "text/plain": [
       "BernoulliNB()"
      ]
     },
     "execution_count": 63,
     "metadata": {},
     "output_type": "execute_result"
    }
   ],
   "source": [
    "#building the model using Bernoulli naive bayes\n",
    "from sklearn.naive_bayes import BernoulliNB\n",
    "model = BernoulliNB() \n",
    "model.fit(X_train, Y_train)  "
   ]
  },
  {
   "cell_type": "markdown",
   "id": "fe8d9a69",
   "metadata": {},
   "source": [
    "# Model Evaluation"
   ]
  },
  {
   "cell_type": "code",
   "execution_count": 64,
   "id": "d803c04a",
   "metadata": {},
   "outputs": [
    {
     "name": "stdout",
     "output_type": "stream",
     "text": [
      "Accuracy of the model: 0.7862068965517242\n"
     ]
    }
   ],
   "source": [
    "#Evaluating the performance of the model\n",
    "from sklearn.metrics import accuracy_score\n",
    "y_train_pred1=model.predict(X_train)\n",
    "accuracy_bn = accuracy_score(Y_train,y_train_pred1)\n",
    "print(\"Accuracy of the model:\",accuracy_bn)"
   ]
  },
  {
   "cell_type": "code",
   "execution_count": 65,
   "id": "dbf8a6da",
   "metadata": {},
   "outputs": [
    {
     "name": "stdout",
     "output_type": "stream",
     "text": [
      "Accuracy of the model: 0.8378378378378378\n"
     ]
    }
   ],
   "source": [
    "#Evaluating the performance of the model\n",
    "from sklearn.metrics import accuracy_score\n",
    "y_pred1=model.predict(X_test)\n",
    "accuracy_bn = accuracy_score(Y_test,y_pred1)\n",
    "print(\"Accuracy of the model:\",accuracy_bn)"
   ]
  },
  {
   "cell_type": "code",
   "execution_count": 66,
   "id": "eadc7885",
   "metadata": {},
   "outputs": [
    {
     "data": {
      "image/png": "[encoded data removed]",
      "text/plain": [
       "<Figure size 640x480 with 1 Axes>"
      ]
     },
     "metadata": {},
     "output_type": "display_data"
    }
   ],
   "source": [
    "#Creating a Confusion matrix\n",
    "from sklearn.metrics import confusion_matrix\n",
    "cm = confusion_matrix(Y_test, y_pred1)\n",
    "fig, ax = plt.subplots()\n",
    "im = ax.imshow(cm, cmap='Blues')\n",
    "ax.set_xticks([0, 1])\n",
    "ax.set_xticklabels(['Did not survive', 'Survived'])\n",
    "ax.set_yticks([0, 1])\n",
    "ax.set_yticklabels(['Did not survive', 'Survived'])\n",
    "plt.title(\"Confusion Matrix\")\n",
    "plt.xlabel(\"Predicted Label\")\n",
    "plt.ylabel(\"True Label\")\n",
    "for i in range(2):\n",
    "    for j in range(2):\n",
    "        ax.text(j, i, cm[i, j], ha=\"center\", va=\"center\", color=\"red\")\n",
    "plt.show() "
   ]
  },
  {
   "cell_type": "code",
   "execution_count": 67,
   "id": "eab56549",
   "metadata": {},
   "outputs": [
    {
     "name": "stdout",
     "output_type": "stream",
     "text": [
      "              precision    recall  f1-score   support\n",
      "\n",
      "           0       0.91      0.83      0.87        24\n",
      "           1       0.73      0.85      0.79        13\n",
      "\n",
      "    accuracy                           0.84        37\n",
      "   macro avg       0.82      0.84      0.83        37\n",
      "weighted avg       0.85      0.84      0.84        37\n",
      "\n"
     ]
    }
   ],
   "source": [
    "from sklearn.metrics import classification_report\n",
    "print(classification_report(Y_test,y_pred1))"
   ]
  },
  {
   "cell_type": "code",
   "execution_count": 68,
   "id": "a20151df",
   "metadata": {},
   "outputs": [
    {
     "name": "stdout",
     "output_type": "stream",
     "text": [
      "Accuracy: 0.8378378378378378\n",
      "Precision: 0.7333333333333333\n",
      "Recall: 0.8461538461538461\n",
      "F1 Score: 0.7857142857142856\n"
     ]
    }
   ],
   "source": [
    "from sklearn.metrics import accuracy_score,precision_score,recall_score,f1_score\n",
    "# Evaluate the model\n",
    "accuracy_bn = accuracy_score(Y_test, y_pred1)\n",
    "precision_bn = precision_score(Y_test, y_pred1)\n",
    "recall_bn = recall_score(Y_test, y_pred1)\n",
    "f1_bn = f1_score(Y_test, y_pred1)\n",
    "\n",
    "print(\"Accuracy:\", accuracy_bn)\n",
    "print(\"Precision:\", precision_bn)\n",
    "print(\"Recall:\", recall_bn)\n",
    "print(\"F1 Score:\", f1_bn)"
   ]
  },
  {
   "cell_type": "code",
   "execution_count": 69,
   "id": "3ca7e522",
   "metadata": {},
   "outputs": [
    {
     "name": "stdout",
     "output_type": "stream",
     "text": [
      "ROC-AUC score: 0.8397435897435898\n"
     ]
    }
   ],
   "source": [
    "#Computing the ROC-AUC score\n",
    "from sklearn.metrics import roc_auc_score\n",
    "roc_auc_bn=roc_auc_score(Y_test,y_pred1)\n",
    "print(\"ROC-AUC score:\",roc_auc_bn)"
   ]
  },
  {
   "cell_type": "code",
   "execution_count": 70,
   "id": "490ccfc3",
   "metadata": {
    "scrolled": true
   },
   "outputs": [
    {
     "data": {
      "image/png": "[encoded data removed]",
      "text/plain": [
       "<Figure size 640x480 with 1 Axes>"
      ]
     },
     "metadata": {},
     "output_type": "display_data"
    }
   ],
   "source": [
    "#plotting the AUC-ROC curve\n",
    "from sklearn.metrics import roc_curve,auc\n",
    "fpr, tpr, thresholds = roc_curve(Y_test, y_pred1)\n",
    "roc_auc = auc(fpr, tpr)\n",
    "plt.plot(fpr, tpr, lw=1, label='ROC curve (area = %0.2f)' % roc_auc)\n",
    "plt.plot([0, 1], [0, 1], linestyle='--')\n",
    "plt.xlim([0.0, 1.0])\n",
    "plt.ylim([0.0, 1.05])\n",
    "plt.xlabel('False Positive Rate')\n",
    "plt.ylabel('True Positive Rate')\n",
    "plt.title('Receiver operating characteristic')\n",
    "plt.legend(loc=\"lower right\")\n",
    "plt.show()"
   ]
  },
  {
   "cell_type": "markdown",
   "id": "0dde814e",
   "metadata": {},
   "source": [
    "# Comparing both models"
   ]
  },
  {
   "cell_type": "code",
   "execution_count": 71,
   "id": "0c0d6b0e",
   "metadata": {},
   "outputs": [
    {
     "name": "stdout",
     "output_type": "stream",
     "text": [
      "Bernoulli Naive Bayes:\n",
      "Accuracy: 0.8378378378378378\n",
      "Precision: 0.7333333333333333\n",
      "Recall: 0.8461538461538461\n",
      "F1 Score: 0.7857142857142856\n",
      "\n",
      "\n",
      "******************************\n",
      "\n",
      "\n",
      "Gaussian Naive Bayes:\n",
      "Accuracy: 0.8108108108108109\n",
      "Precision: 0.7142857142857143\n",
      "Recall: 0.7692307692307693\n",
      "F1 Score: 0.7407407407407408\n"
     ]
    }
   ],
   "source": [
    "# Compare the scores\n",
    "print(\"Bernoulli Naive Bayes:\")\n",
    "print(\"Accuracy:\", accuracy_bn)\n",
    "print(\"Precision:\", precision_bn)\n",
    "print(\"Recall:\", recall_bn)\n",
    "print(\"F1 Score:\", f1_bn)\n",
    "print(\"\\n\")\n",
    "print(\"******************************\")\n",
    "print(\"\\n\")\n",
    "print(\"Gaussian Naive Bayes:\")\n",
    "print(\"Accuracy:\", accuracy_gnb)\n",
    "print(\"Precision:\", precision_gnb)\n",
    "print(\"Recall:\", recall_gnb)\n",
    "print(\"F1 Score:\", f1_gnb)"
   ]
  },
  {
   "cell_type": "markdown",
   "id": "444a6454",
   "metadata": {},
   "source": [
    "Inference: From the above result, we can infer that bernoulli model performs well when compared to gaussian naive bayes model"
   ]
  },
  {
   "cell_type": "markdown",
   "id": "9eba3b7e",
   "metadata": {},
   "source": [
    "# Submission"
   ]
  },
  {
   "cell_type": "markdown",
   "id": "7335b57b",
   "metadata": {},
   "source": [
    "The values predicted are within a numerical array, so we need to put them into a data series (one column of a data frame) before attaching it to the PassengerId column:"
   ]
  },
  {
   "cell_type": "code",
   "execution_count": 72,
   "id": "0e0c0b17",
   "metadata": {},
   "outputs": [
    {
     "data": {
      "text/plain": [
       "pandas.core.series.Series"
      ]
     },
     "execution_count": 72,
     "metadata": {},
     "output_type": "execute_result"
    }
   ],
   "source": [
    "predictions = pd.Series(data=y_pred, name='Survived')\n",
    "type(predictions)"
   ]
  },
  {
   "cell_type": "code",
   "execution_count": 73,
   "id": "5355b2a2",
   "metadata": {},
   "outputs": [
    {
     "data": {
      "text/plain": [
       "0    0\n",
       "1    0\n",
       "2    0\n",
       "3    0\n",
       "4    1\n",
       "Name: Survived, dtype: int64"
      ]
     },
     "execution_count": 73,
     "metadata": {},
     "output_type": "execute_result"
    }
   ],
   "source": [
    "predictions.head()"
   ]
  },
  {
   "cell_type": "code",
   "execution_count": 74,
   "id": "95a9ea0f",
   "metadata": {},
   "outputs": [],
   "source": [
    "sub = pd.concat([test, predictions], axis=1)"
   ]
  },
  {
   "cell_type": "code",
   "execution_count": 75,
   "id": "3715b0b7",
   "metadata": {},
   "outputs": [
    {
     "data": {
      "text/html": [
       "<div>\n",
       "<style scoped>\n",
       "    .dataframe tbody tr th:only-of-type {\n",
       "        vertical-align: middle;\n",
       "    }\n",
       "\n",
       "    .dataframe tbody tr th {\n",
       "        vertical-align: top;\n",
       "    }\n",
       "\n",
       "    .dataframe thead th {\n",
       "        text-align: right;\n",
       "    }\n",
       "</style>\n",
       "<table border=\"1\" class=\"dataframe\">\n",
       "  <thead>\n",
       "    <tr style=\"text-align: right;\">\n",
       "      <th></th>\n",
       "      <th>PassengerId</th>\n",
       "      <th>Survived</th>\n",
       "    </tr>\n",
       "  </thead>\n",
       "  <tbody>\n",
       "    <tr>\n",
       "      <th>0</th>\n",
       "      <td>892</td>\n",
       "      <td>0.0</td>\n",
       "    </tr>\n",
       "    <tr>\n",
       "      <th>1</th>\n",
       "      <td>893</td>\n",
       "      <td>0.0</td>\n",
       "    </tr>\n",
       "    <tr>\n",
       "      <th>2</th>\n",
       "      <td>894</td>\n",
       "      <td>0.0</td>\n",
       "    </tr>\n",
       "    <tr>\n",
       "      <th>3</th>\n",
       "      <td>895</td>\n",
       "      <td>0.0</td>\n",
       "    </tr>\n",
       "    <tr>\n",
       "      <th>4</th>\n",
       "      <td>896</td>\n",
       "      <td>1.0</td>\n",
       "    </tr>\n",
       "  </tbody>\n",
       "</table>\n",
       "</div>"
      ],
      "text/plain": [
       "   PassengerId  Survived\n",
       "0          892       0.0\n",
       "1          893       0.0\n",
       "2          894       0.0\n",
       "3          895       0.0\n",
       "4          896       1.0"
      ]
     },
     "execution_count": 75,
     "metadata": {},
     "output_type": "execute_result"
    }
   ],
   "source": [
    "sub.head()"
   ]
  },
  {
   "cell_type": "code",
   "execution_count": 76,
   "id": "9c7bf10d",
   "metadata": {},
   "outputs": [],
   "source": [
    "# Specify index=False so we don't get the index column when exporting to excel\n",
    "submission3 = sub.to_csv('submission3.csv', index=False)"
   ]
  },
  {
   "cell_type": "markdown",
   "id": "b0f90431",
   "metadata": {},
   "source": [
    "Conclusion: * Built the model using Gaussian Naive Bayes classifier algorithm after all the pre-processing steps were done.\n",
    "            * Considered F1-score as the best evaluation metric since it is a classification model and obtained the best score.\n",
    "            * Predictions were made using the test data.\n",
    "            * Obtained the important features which may be helpful to obtain much better model\n",
    "            * Submitted the predictions to CSV file"
   ]
  }
 ],
 "metadata": {
  "kernelspec": {
   "display_name": "Python 3 (ipykernel)",
   "language": "python",
   "name": "python3"
  },
  "language_info": {
   "codemirror_mode": {
    "name": "ipython",
    "version": 3
   },
   "file_extension": ".py",
   "mimetype": "text/x-python",
   "name": "python",
   "nbconvert_exporter": "python",
   "pygments_lexer": "ipython3",
   "version": "3.9.7"
  }
 },
 "nbformat": 4,
 "nbformat_minor": 5
}
