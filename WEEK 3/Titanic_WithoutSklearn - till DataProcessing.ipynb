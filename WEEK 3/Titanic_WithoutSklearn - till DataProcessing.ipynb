{
 "cells": [
  {
   "cell_type": "markdown",
   "id": "fa4c4766",
   "metadata": {},
   "source": [
    "<h2 style='text-align:center;'> Naive Bayes Classifier Algorithm </h2>"
   ]
  },
  {
   "cell_type": "markdown",
   "id": "27047b94",
   "metadata": {},
   "source": [
    "# **Description"
   ]
  },
  {
   "cell_type": "markdown",
   "id": "7759082a",
   "metadata": {},
   "source": [
    "The Titanic dataset is a well-known dataset that provides information about the passengers who were on board the Titanic ship when it sank on April 15, 1912.The data includes demographic information such as the passengers' names, ages, genders, ticket class, fare, and cabin numbers, as well as information about their families and whether they survived or not.\n",
    "\n",
    "The Titanic dataset contains the following variables:\n",
    "\n",
    "1) PassengerId: A unique identifier for each passenger.\n",
    "2) Survived: Whether the passenger survived (0 = No, 1 = Yes).\n",
    "3) Pclass: The ticket class of the passenger (1 = 1st, 2 = 2nd, 3 = 3rd).\n",
    "4) Name: The name of the passenger.\n",
    "5) Sex: The gender of the passenger (Male or Female).\n",
    "6) Age: The age of the passenger in years. Fractional if less than 1. If the age is estimated, it is in the form of xx.5.\n",
    "7) SibSp: The number of siblings or spouses the passenger had aboard the Titanic.\n",
    "8) Parch: The number of parents or children the passenger had aboard the Titanic.\n",
    "9) Ticket: The ticket number of the passenger.\n",
    "10)Fare: The fare paid by the passenger for the ticket.\n",
    "11)Cabin: The cabin number of the passenger.\n",
    "12)Embarked: The port of embarkation (C = Cherbourg, Q = Queenstown, S = Southampton)."
   ]
  },
  {
   "cell_type": "markdown",
   "id": "62de7978",
   "metadata": {},
   "source": [
    "# **Problem Statement"
   ]
  },
  {
   "cell_type": "markdown",
   "id": "46222175",
   "metadata": {},
   "source": [
    "The challenge is to use this information to build a predictive model that can accurately classify whether a passenger would have survived or not based on their characteristics."
   ]
  },
  {
   "cell_type": "markdown",
   "id": "b37ce04f",
   "metadata": {},
   "source": [
    "# **Task to perform"
   ]
  },
  {
   "cell_type": "markdown",
   "id": "9cbbf724",
   "metadata": {},
   "source": [
    "Build a model using naive bayes classifier algorithm without sklearn and compare the results with model built using sklearn"
   ]
  },
  {
   "cell_type": "markdown",
   "id": "44c135b3",
   "metadata": {},
   "source": [
    "# **Importing necessary libraries"
   ]
  },
  {
   "cell_type": "code",
   "execution_count": 1,
   "id": "a729e489",
   "metadata": {},
   "outputs": [
    {
     "name": "stderr",
     "output_type": "stream",
     "text": [
      "C:\\Users\\neeli\\anaconda3\\lib\\site-packages\\scipy\\__init__.py:146: UserWarning: A NumPy version >=1.16.5 and <1.23.0 is required for this version of SciPy (detected version 1.23.5\n",
      "  warnings.warn(f\"A NumPy version >={np_minversion} and <{np_maxversion}\"\n"
     ]
    }
   ],
   "source": [
    "#importing required and necessary libraries\n",
    "import numpy as np # used to perform mathematical operation on array\n",
    "import pandas as pd # used for data manipulation\n",
    "import matplotlib.pyplot as plt;\n",
    "import seaborn as sns\n",
    "%matplotlib inline"
   ]
  },
  {
   "cell_type": "markdown",
   "id": "793ff576",
   "metadata": {},
   "source": [
    "1) \"numpy\" provides tools for working with arrays and matrices, as well as a variety of mathematical functions.\n",
    "2) \"pandas\" provides data structures and functions for working with structured data, including tables and time series.\n",
    "3) \"matplotlib\" provides a range of tools for creating visualizations of data, including line plots, scatter plots, histograms, and bar charts.\n",
    "4) \"seaborn\" is built on top of matplotlib and provides a higher-level interface for creating attractive and informative visualizations of complex datasets. It includes a range of functions for creating visualizations such as heatmaps, pair plots.\n",
    "5) \"%matplotlib inline\" sets the backend of matplotlib to the 'inline' backend, which allows plots to be displayed within the notebook itself."
   ]
  },
  {
   "cell_type": "markdown",
   "id": "044ff3a4",
   "metadata": {},
   "source": [
    "# **Reading the dataset"
   ]
  },
  {
   "cell_type": "code",
   "execution_count": 2,
   "id": "b2f76abe",
   "metadata": {},
   "outputs": [],
   "source": [
    "#Reading the data of titanic dataset\n",
    "titanic_df = pd.read_csv(\"titanic.csv\")"
   ]
  },
  {
   "cell_type": "markdown",
   "id": "cfb4c21d",
   "metadata": {},
   "source": [
    "The \"pd.read_csv()\" function reads a comma-separated values (CSV) file and returns a DataFrame object. Here, the titanic dataset file path for the CSV file is passed as an argument to the function.By reading in the data using pd.read_csv(), the dataset is converted into a pandas DataFrame object.Once the data has been read into a DataFrame object, it can be further explored and analyzed using a variety of pandas and other Python data analysis libraries."
   ]
  },
  {
   "cell_type": "markdown",
   "id": "7fcd4da0",
   "metadata": {},
   "source": [
    "# **Exploratory Data Analysis"
   ]
  },
  {
   "cell_type": "code",
   "execution_count": 3,
   "id": "f0b75940",
   "metadata": {},
   "outputs": [
    {
     "name": "stdout",
     "output_type": "stream",
     "text": [
      "Class label counts: \n",
      " 0    549\n",
      "1    342\n",
      "Name: Survived, dtype: int64\n",
      "Class label percentages: \n",
      " 0    61.616162\n",
      "1    38.383838\n",
      "Name: Survived, dtype: float64\n",
      "The data is imbalanced\n"
     ]
    }
   ],
   "source": [
    "#to check whether that data is balanced or imbalanced\n",
    "#count the number of instances of each class label\n",
    "count=titanic_df['Survived'].value_counts()\n",
    "#calculating the percentage of instances for each class label\n",
    "percentage=count/titanic_df.shape[0]*100\n",
    "#printing the class label counts and percentages\n",
    "print(\"Class label counts: \\n\",count)\n",
    "print(\"Class label percentages: \\n\",percentage)\n",
    "#determining if the data is balanced or imbalanced\n",
    "if (percentage[0] < 60 and percentage[1] < 60) or (percentage[0] > 40 and percentage[1] > 40):\n",
    "    print(\"The data is balanced\")\n",
    "else:\n",
    "    print(\"The data is imbalanced\")"
   ]
  },
  {
   "cell_type": "markdown",
   "id": "41a48621",
   "metadata": {},
   "source": [
    "Inference: Based on the output, there are 549 instances of class label 0 (did not survive) and 342 instances of class label 1 (survived). The percentages of instances for each class label are 61.62% and 38.38%, respectively.Since the percentages for each class label do not fall within the range of both being less than 60% or greater than 40% of the total instances, \"THE DATA IS IMBALANCED\"."
   ]
  },
  {
   "cell_type": "code",
   "execution_count": 4,
   "id": "eb7b99c8",
   "metadata": {
    "scrolled": true
   },
   "outputs": [
    {
     "name": "stdout",
     "output_type": "stream",
     "text": [
      "<class 'pandas.core.frame.DataFrame'>\n",
      "RangeIndex: 891 entries, 0 to 890\n",
      "Data columns (total 12 columns):\n",
      " #   Column       Non-Null Count  Dtype  \n",
      "---  ------       --------------  -----  \n",
      " 0   PassengerId  891 non-null    int64  \n",
      " 1   Name         891 non-null    object \n",
      " 2   Pclass       891 non-null    int64  \n",
      " 3   Sex          891 non-null    object \n",
      " 4   Age          714 non-null    float64\n",
      " 5   SibSp        891 non-null    int64  \n",
      " 6   Parch        891 non-null    int64  \n",
      " 7   Ticket       891 non-null    object \n",
      " 8   Fare         891 non-null    float64\n",
      " 9   Cabin        204 non-null    object \n",
      " 10  Embarked     889 non-null    object \n",
      " 11  Survived     891 non-null    int64  \n",
      "dtypes: float64(2), int64(5), object(5)\n",
      "memory usage: 83.7+ KB\n"
     ]
    }
   ],
   "source": [
    "#checking the information about the dataframe\n",
    "titanic_df.info()"
   ]
  },
  {
   "cell_type": "markdown",
   "id": "2e03c9b5",
   "metadata": {},
   "source": [
    "Inference: \n",
    "1) The dataset contains 891 rows (instances) and 12 columns (features).\n",
    "2) Each feature is labeled with a column name\n",
    "3) For each feature, the output displays the non-null count and the data type of the feature.\n",
    "4) The output also displays the memory usage of the dataset.\n",
    "5) we can see that the dataset contains both numerical and categorical features, as well as missing values in some of the features (e.g., \"Age\", \"Cabin\", and \"Embarked\")"
   ]
  },
  {
   "cell_type": "code",
   "execution_count": 5,
   "id": "d53aab4a",
   "metadata": {
    "scrolled": true
   },
   "outputs": [
    {
     "data": {
      "text/html": [
       "<div>\n",
       "<style scoped>\n",
       "    .dataframe tbody tr th:only-of-type {\n",
       "        vertical-align: middle;\n",
       "    }\n",
       "\n",
       "    .dataframe tbody tr th {\n",
       "        vertical-align: top;\n",
       "    }\n",
       "\n",
       "    .dataframe thead th {\n",
       "        text-align: right;\n",
       "    }\n",
       "</style>\n",
       "<table border=\"1\" class=\"dataframe\">\n",
       "  <thead>\n",
       "    <tr style=\"text-align: right;\">\n",
       "      <th></th>\n",
       "      <th>PassengerId</th>\n",
       "      <th>Pclass</th>\n",
       "      <th>Age</th>\n",
       "      <th>SibSp</th>\n",
       "      <th>Parch</th>\n",
       "      <th>Fare</th>\n",
       "      <th>Survived</th>\n",
       "    </tr>\n",
       "  </thead>\n",
       "  <tbody>\n",
       "    <tr>\n",
       "      <th>count</th>\n",
       "      <td>891.000000</td>\n",
       "      <td>891.000000</td>\n",
       "      <td>714.000000</td>\n",
       "      <td>891.000000</td>\n",
       "      <td>891.000000</td>\n",
       "      <td>891.000000</td>\n",
       "      <td>891.000000</td>\n",
       "    </tr>\n",
       "    <tr>\n",
       "      <th>mean</th>\n",
       "      <td>446.000000</td>\n",
       "      <td>2.308642</td>\n",
       "      <td>29.699118</td>\n",
       "      <td>0.523008</td>\n",
       "      <td>0.381594</td>\n",
       "      <td>32.204208</td>\n",
       "      <td>0.383838</td>\n",
       "    </tr>\n",
       "    <tr>\n",
       "      <th>std</th>\n",
       "      <td>257.353842</td>\n",
       "      <td>0.836071</td>\n",
       "      <td>14.526497</td>\n",
       "      <td>1.102743</td>\n",
       "      <td>0.806057</td>\n",
       "      <td>49.693429</td>\n",
       "      <td>0.486592</td>\n",
       "    </tr>\n",
       "    <tr>\n",
       "      <th>min</th>\n",
       "      <td>1.000000</td>\n",
       "      <td>1.000000</td>\n",
       "      <td>0.420000</td>\n",
       "      <td>0.000000</td>\n",
       "      <td>0.000000</td>\n",
       "      <td>0.000000</td>\n",
       "      <td>0.000000</td>\n",
       "    </tr>\n",
       "    <tr>\n",
       "      <th>25%</th>\n",
       "      <td>223.500000</td>\n",
       "      <td>2.000000</td>\n",
       "      <td>20.125000</td>\n",
       "      <td>0.000000</td>\n",
       "      <td>0.000000</td>\n",
       "      <td>7.910400</td>\n",
       "      <td>0.000000</td>\n",
       "    </tr>\n",
       "    <tr>\n",
       "      <th>50%</th>\n",
       "      <td>446.000000</td>\n",
       "      <td>3.000000</td>\n",
       "      <td>28.000000</td>\n",
       "      <td>0.000000</td>\n",
       "      <td>0.000000</td>\n",
       "      <td>14.454200</td>\n",
       "      <td>0.000000</td>\n",
       "    </tr>\n",
       "    <tr>\n",
       "      <th>75%</th>\n",
       "      <td>668.500000</td>\n",
       "      <td>3.000000</td>\n",
       "      <td>38.000000</td>\n",
       "      <td>1.000000</td>\n",
       "      <td>0.000000</td>\n",
       "      <td>31.000000</td>\n",
       "      <td>1.000000</td>\n",
       "    </tr>\n",
       "    <tr>\n",
       "      <th>max</th>\n",
       "      <td>891.000000</td>\n",
       "      <td>3.000000</td>\n",
       "      <td>80.000000</td>\n",
       "      <td>8.000000</td>\n",
       "      <td>6.000000</td>\n",
       "      <td>512.329200</td>\n",
       "      <td>1.000000</td>\n",
       "    </tr>\n",
       "  </tbody>\n",
       "</table>\n",
       "</div>"
      ],
      "text/plain": [
       "       PassengerId      Pclass         Age       SibSp       Parch  \\\n",
       "count   891.000000  891.000000  714.000000  891.000000  891.000000   \n",
       "mean    446.000000    2.308642   29.699118    0.523008    0.381594   \n",
       "std     257.353842    0.836071   14.526497    1.102743    0.806057   \n",
       "min       1.000000    1.000000    0.420000    0.000000    0.000000   \n",
       "25%     223.500000    2.000000   20.125000    0.000000    0.000000   \n",
       "50%     446.000000    3.000000   28.000000    0.000000    0.000000   \n",
       "75%     668.500000    3.000000   38.000000    1.000000    0.000000   \n",
       "max     891.000000    3.000000   80.000000    8.000000    6.000000   \n",
       "\n",
       "             Fare    Survived  \n",
       "count  891.000000  891.000000  \n",
       "mean    32.204208    0.383838  \n",
       "std     49.693429    0.486592  \n",
       "min      0.000000    0.000000  \n",
       "25%      7.910400    0.000000  \n",
       "50%     14.454200    0.000000  \n",
       "75%     31.000000    1.000000  \n",
       "max    512.329200    1.000000  "
      ]
     },
     "execution_count": 5,
     "metadata": {},
     "output_type": "execute_result"
    }
   ],
   "source": [
    "#Returns description of the data in the DataFrame\n",
    "titanic_df.describe()"
   ]
  },
  {
   "cell_type": "markdown",
   "id": "5c5d7a1a",
   "metadata": {},
   "source": [
    "Inference: The table shows the summary statistics of the numerical columns in the Titanic dataset.\n",
    "1) The \"count\" row indicates the number of non-null values for each column.\n",
    "2) The \"mean\" row shows the mean or average value for each column.\n",
    "3) The \"std\" row shows the standard deviation of each column.\n",
    "4) The \"min\" row shows the minimum value in each column.\n",
    "5) The \"25%, 50%, and 75%\" rows show the values at the corresponding percentiles, which divide the data into quarters.\n",
    "6) The \"max\" row shows the maximum value in each column.\n",
    "7) From this table, we can see that the age column has some missing values, as its count is less than the total number of          instances (891). We can also see that the mean age of the passengers was 29.7 years, and the average fare was 32.2.\n",
    "8) Additionally, we can see that around 38% of the passengers survived."
   ]
  },
  {
   "cell_type": "code",
   "execution_count": 6,
   "id": "6c9606c0",
   "metadata": {
    "scrolled": true
   },
   "outputs": [
    {
     "data": {
      "text/plain": [
       "(891, 12)"
      ]
     },
     "execution_count": 6,
     "metadata": {},
     "output_type": "execute_result"
    }
   ],
   "source": [
    "#Finding number of rows and columns of the dataframe\n",
    "titanic_df.shape"
   ]
  },
  {
   "cell_type": "markdown",
   "id": "d16c7dc6",
   "metadata": {},
   "source": [
    "Inference: The \"titanic_df.shape\" command returns the dimensions of the DataFrame titanic_df. Here, the dataset has 891 rows (instances) and 12 columns (features)."
   ]
  },
  {
   "cell_type": "code",
   "execution_count": 7,
   "id": "77a59528",
   "metadata": {},
   "outputs": [
    {
     "data": {
      "text/html": [
       "<div>\n",
       "<style scoped>\n",
       "    .dataframe tbody tr th:only-of-type {\n",
       "        vertical-align: middle;\n",
       "    }\n",
       "\n",
       "    .dataframe tbody tr th {\n",
       "        vertical-align: top;\n",
       "    }\n",
       "\n",
       "    .dataframe thead th {\n",
       "        text-align: right;\n",
       "    }\n",
       "</style>\n",
       "<table border=\"1\" class=\"dataframe\">\n",
       "  <thead>\n",
       "    <tr style=\"text-align: right;\">\n",
       "      <th></th>\n",
       "      <th>PassengerId</th>\n",
       "      <th>Name</th>\n",
       "      <th>Pclass</th>\n",
       "      <th>Sex</th>\n",
       "      <th>Age</th>\n",
       "      <th>SibSp</th>\n",
       "      <th>Parch</th>\n",
       "      <th>Ticket</th>\n",
       "      <th>Fare</th>\n",
       "      <th>Cabin</th>\n",
       "      <th>Embarked</th>\n",
       "      <th>Survived</th>\n",
       "    </tr>\n",
       "  </thead>\n",
       "  <tbody>\n",
       "    <tr>\n",
       "      <th>0</th>\n",
       "      <td>1</td>\n",
       "      <td>Braund, Mr. Owen Harris</td>\n",
       "      <td>3</td>\n",
       "      <td>male</td>\n",
       "      <td>22.0</td>\n",
       "      <td>1</td>\n",
       "      <td>0</td>\n",
       "      <td>A/5 21171</td>\n",
       "      <td>7.2500</td>\n",
       "      <td>NaN</td>\n",
       "      <td>S</td>\n",
       "      <td>0</td>\n",
       "    </tr>\n",
       "    <tr>\n",
       "      <th>1</th>\n",
       "      <td>2</td>\n",
       "      <td>Cumings, Mrs. John Bradley (Florence Briggs Th...</td>\n",
       "      <td>1</td>\n",
       "      <td>female</td>\n",
       "      <td>38.0</td>\n",
       "      <td>1</td>\n",
       "      <td>0</td>\n",
       "      <td>PC 17599</td>\n",
       "      <td>71.2833</td>\n",
       "      <td>C85</td>\n",
       "      <td>C</td>\n",
       "      <td>1</td>\n",
       "    </tr>\n",
       "    <tr>\n",
       "      <th>2</th>\n",
       "      <td>3</td>\n",
       "      <td>Heikkinen, Miss. Laina</td>\n",
       "      <td>3</td>\n",
       "      <td>female</td>\n",
       "      <td>26.0</td>\n",
       "      <td>0</td>\n",
       "      <td>0</td>\n",
       "      <td>STON/O2. 3101282</td>\n",
       "      <td>7.9250</td>\n",
       "      <td>NaN</td>\n",
       "      <td>S</td>\n",
       "      <td>1</td>\n",
       "    </tr>\n",
       "    <tr>\n",
       "      <th>3</th>\n",
       "      <td>4</td>\n",
       "      <td>Futrelle, Mrs. Jacques Heath (Lily May Peel)</td>\n",
       "      <td>1</td>\n",
       "      <td>female</td>\n",
       "      <td>35.0</td>\n",
       "      <td>1</td>\n",
       "      <td>0</td>\n",
       "      <td>113803</td>\n",
       "      <td>53.1000</td>\n",
       "      <td>C123</td>\n",
       "      <td>S</td>\n",
       "      <td>1</td>\n",
       "    </tr>\n",
       "    <tr>\n",
       "      <th>4</th>\n",
       "      <td>5</td>\n",
       "      <td>Allen, Mr. William Henry</td>\n",
       "      <td>3</td>\n",
       "      <td>male</td>\n",
       "      <td>35.0</td>\n",
       "      <td>0</td>\n",
       "      <td>0</td>\n",
       "      <td>373450</td>\n",
       "      <td>8.0500</td>\n",
       "      <td>NaN</td>\n",
       "      <td>S</td>\n",
       "      <td>0</td>\n",
       "    </tr>\n",
       "  </tbody>\n",
       "</table>\n",
       "</div>"
      ],
      "text/plain": [
       "   PassengerId                                               Name  Pclass  \\\n",
       "0            1                            Braund, Mr. Owen Harris       3   \n",
       "1            2  Cumings, Mrs. John Bradley (Florence Briggs Th...       1   \n",
       "2            3                             Heikkinen, Miss. Laina       3   \n",
       "3            4       Futrelle, Mrs. Jacques Heath (Lily May Peel)       1   \n",
       "4            5                           Allen, Mr. William Henry       3   \n",
       "\n",
       "      Sex   Age  SibSp  Parch            Ticket     Fare Cabin Embarked  \\\n",
       "0    male  22.0      1      0         A/5 21171   7.2500   NaN        S   \n",
       "1  female  38.0      1      0          PC 17599  71.2833   C85        C   \n",
       "2  female  26.0      0      0  STON/O2. 3101282   7.9250   NaN        S   \n",
       "3  female  35.0      1      0            113803  53.1000  C123        S   \n",
       "4    male  35.0      0      0            373450   8.0500   NaN        S   \n",
       "\n",
       "   Survived  \n",
       "0         0  \n",
       "1         1  \n",
       "2         1  \n",
       "3         1  \n",
       "4         0  "
      ]
     },
     "execution_count": 7,
     "metadata": {},
     "output_type": "execute_result"
    }
   ],
   "source": [
    "#Checking the first 5 rows of the train data\n",
    "titanic_df.head()"
   ]
  },
  {
   "cell_type": "markdown",
   "id": "5f8b0ac0",
   "metadata": {},
   "source": [
    "Inference: \n",
    "1) The \"titanic_df.head()\" method displays the first 5 rows of the Titanic dataset, providing a glimpse of the structure of the dataset and the types of information it contains. Each row represents a passenger on the Titanic, and the columns provide information about each passenger, such as their name, age, sex, passenger class, ticket fare, whether they survived the sinking of the ship, and more. \n",
    "2) The head() method is useful for quickly inspecting the dataset and understanding its structure."
   ]
  },
  {
   "cell_type": "code",
   "execution_count": 8,
   "id": "59613628",
   "metadata": {
    "scrolled": false
   },
   "outputs": [
    {
     "data": {
      "text/html": [
       "<div>\n",
       "<style scoped>\n",
       "    .dataframe tbody tr th:only-of-type {\n",
       "        vertical-align: middle;\n",
       "    }\n",
       "\n",
       "    .dataframe tbody tr th {\n",
       "        vertical-align: top;\n",
       "    }\n",
       "\n",
       "    .dataframe thead th {\n",
       "        text-align: right;\n",
       "    }\n",
       "</style>\n",
       "<table border=\"1\" class=\"dataframe\">\n",
       "  <thead>\n",
       "    <tr style=\"text-align: right;\">\n",
       "      <th></th>\n",
       "      <th>PassengerId</th>\n",
       "      <th>Name</th>\n",
       "      <th>Pclass</th>\n",
       "      <th>Sex</th>\n",
       "      <th>Age</th>\n",
       "      <th>SibSp</th>\n",
       "      <th>Parch</th>\n",
       "      <th>Ticket</th>\n",
       "      <th>Fare</th>\n",
       "      <th>Cabin</th>\n",
       "      <th>Embarked</th>\n",
       "      <th>Survived</th>\n",
       "    </tr>\n",
       "  </thead>\n",
       "  <tbody>\n",
       "    <tr>\n",
       "      <th>886</th>\n",
       "      <td>887</td>\n",
       "      <td>Montvila, Rev. Juozas</td>\n",
       "      <td>2</td>\n",
       "      <td>male</td>\n",
       "      <td>27.0</td>\n",
       "      <td>0</td>\n",
       "      <td>0</td>\n",
       "      <td>211536</td>\n",
       "      <td>13.00</td>\n",
       "      <td>NaN</td>\n",
       "      <td>S</td>\n",
       "      <td>0</td>\n",
       "    </tr>\n",
       "    <tr>\n",
       "      <th>887</th>\n",
       "      <td>888</td>\n",
       "      <td>Graham, Miss. Margaret Edith</td>\n",
       "      <td>1</td>\n",
       "      <td>female</td>\n",
       "      <td>19.0</td>\n",
       "      <td>0</td>\n",
       "      <td>0</td>\n",
       "      <td>112053</td>\n",
       "      <td>30.00</td>\n",
       "      <td>B42</td>\n",
       "      <td>S</td>\n",
       "      <td>1</td>\n",
       "    </tr>\n",
       "    <tr>\n",
       "      <th>888</th>\n",
       "      <td>889</td>\n",
       "      <td>Johnston, Miss. Catherine Helen \"Carrie\"</td>\n",
       "      <td>3</td>\n",
       "      <td>female</td>\n",
       "      <td>NaN</td>\n",
       "      <td>1</td>\n",
       "      <td>2</td>\n",
       "      <td>W./C. 6607</td>\n",
       "      <td>23.45</td>\n",
       "      <td>NaN</td>\n",
       "      <td>S</td>\n",
       "      <td>0</td>\n",
       "    </tr>\n",
       "    <tr>\n",
       "      <th>889</th>\n",
       "      <td>890</td>\n",
       "      <td>Behr, Mr. Karl Howell</td>\n",
       "      <td>1</td>\n",
       "      <td>male</td>\n",
       "      <td>26.0</td>\n",
       "      <td>0</td>\n",
       "      <td>0</td>\n",
       "      <td>111369</td>\n",
       "      <td>30.00</td>\n",
       "      <td>C148</td>\n",
       "      <td>C</td>\n",
       "      <td>1</td>\n",
       "    </tr>\n",
       "    <tr>\n",
       "      <th>890</th>\n",
       "      <td>891</td>\n",
       "      <td>Dooley, Mr. Patrick</td>\n",
       "      <td>3</td>\n",
       "      <td>male</td>\n",
       "      <td>32.0</td>\n",
       "      <td>0</td>\n",
       "      <td>0</td>\n",
       "      <td>370376</td>\n",
       "      <td>7.75</td>\n",
       "      <td>NaN</td>\n",
       "      <td>Q</td>\n",
       "      <td>0</td>\n",
       "    </tr>\n",
       "  </tbody>\n",
       "</table>\n",
       "</div>"
      ],
      "text/plain": [
       "     PassengerId                                      Name  Pclass     Sex  \\\n",
       "886          887                     Montvila, Rev. Juozas       2    male   \n",
       "887          888              Graham, Miss. Margaret Edith       1  female   \n",
       "888          889  Johnston, Miss. Catherine Helen \"Carrie\"       3  female   \n",
       "889          890                     Behr, Mr. Karl Howell       1    male   \n",
       "890          891                       Dooley, Mr. Patrick       3    male   \n",
       "\n",
       "      Age  SibSp  Parch      Ticket   Fare Cabin Embarked  Survived  \n",
       "886  27.0      0      0      211536  13.00   NaN        S         0  \n",
       "887  19.0      0      0      112053  30.00   B42        S         1  \n",
       "888   NaN      1      2  W./C. 6607  23.45   NaN        S         0  \n",
       "889  26.0      0      0      111369  30.00  C148        C         1  \n",
       "890  32.0      0      0      370376   7.75   NaN        Q         0  "
      ]
     },
     "execution_count": 8,
     "metadata": {},
     "output_type": "execute_result"
    }
   ],
   "source": [
    "#Checking the last 5 rows of the train data\n",
    "titanic_df.tail()"
   ]
  },
  {
   "cell_type": "markdown",
   "id": "8e81fc8c",
   "metadata": {},
   "source": [
    "Inference: The \"titanic_df.tail()\" method shows the last five rows of the titanic_df DataFrame."
   ]
  },
  {
   "cell_type": "markdown",
   "id": "52c7f240",
   "metadata": {},
   "source": [
    "# **Data Preprocessing"
   ]
  },
  {
   "cell_type": "markdown",
   "id": "8c5cf129",
   "metadata": {},
   "source": [
    "# Checking for missing values"
   ]
  },
  {
   "cell_type": "code",
   "execution_count": 9,
   "id": "a6637b90",
   "metadata": {
    "scrolled": true
   },
   "outputs": [
    {
     "data": {
      "text/html": [
       "<div>\n",
       "<style scoped>\n",
       "    .dataframe tbody tr th:only-of-type {\n",
       "        vertical-align: middle;\n",
       "    }\n",
       "\n",
       "    .dataframe tbody tr th {\n",
       "        vertical-align: top;\n",
       "    }\n",
       "\n",
       "    .dataframe thead th {\n",
       "        text-align: right;\n",
       "    }\n",
       "</style>\n",
       "<table border=\"1\" class=\"dataframe\">\n",
       "  <thead>\n",
       "    <tr style=\"text-align: right;\">\n",
       "      <th></th>\n",
       "      <th>Total</th>\n",
       "      <th>%</th>\n",
       "    </tr>\n",
       "  </thead>\n",
       "  <tbody>\n",
       "    <tr>\n",
       "      <th>Cabin</th>\n",
       "      <td>687</td>\n",
       "      <td>77.1</td>\n",
       "    </tr>\n",
       "    <tr>\n",
       "      <th>Age</th>\n",
       "      <td>177</td>\n",
       "      <td>19.9</td>\n",
       "    </tr>\n",
       "    <tr>\n",
       "      <th>Embarked</th>\n",
       "      <td>2</td>\n",
       "      <td>0.2</td>\n",
       "    </tr>\n",
       "    <tr>\n",
       "      <th>PassengerId</th>\n",
       "      <td>0</td>\n",
       "      <td>0.0</td>\n",
       "    </tr>\n",
       "    <tr>\n",
       "      <th>Name</th>\n",
       "      <td>0</td>\n",
       "      <td>0.0</td>\n",
       "    </tr>\n",
       "  </tbody>\n",
       "</table>\n",
       "</div>"
      ],
      "text/plain": [
       "             Total     %\n",
       "Cabin          687  77.1\n",
       "Age            177  19.9\n",
       "Embarked         2   0.2\n",
       "PassengerId      0   0.0\n",
       "Name             0   0.0"
      ]
     },
     "execution_count": 9,
     "metadata": {},
     "output_type": "execute_result"
    }
   ],
   "source": [
    "#Checking for the missing values\n",
    "total = titanic_df.isnull().sum().sort_values(ascending=False)\n",
    "percent_1 = titanic_df.isnull().sum()/titanic_df.isnull().count()*100\n",
    "percent_2 = (round(percent_1, 1)).sort_values(ascending=False)\n",
    "missing_data = pd.concat([total, percent_2], axis=1, keys=['Total', '%'])\n",
    "missing_data.head(5)"
   ]
  },
  {
   "cell_type": "markdown",
   "id": "908000b0",
   "metadata": {},
   "source": [
    "1) First line creates a variable total and assigns it the sum of all missing values for each column in the titanic_df              DataFrame. The sort_values() method sorts the values in descending order.\n",
    "2) second line creates a variable percent_1 and calculates the percentage of missing values for each column in the titanic_df      DataFrame. isnull() method returns a DataFrame with boolean values indicating which cells are missing values, and count()        method returns the total number of cells in the DataFrame. The missing value count for each column is divided by the total      cell count and multiplied by 100 to get the percentage.\n",
    "3) Next line creates a variable percent_2 and rounds the percentage values to one decimal point. The sort_values() method sorts    the percentage values in descending order.\n",
    "4) Next line creates a DataFrame missing_data by concatenating the total and percent_2 Series along the columns (axis=1) and        assigning column names Total and % using the keys parameter.\n",
    "5) Finally prints the first 5 rows of the missing_data DataFrame.\n",
    "\n",
    "Inference: \n",
    "1) The first column \"Total\" represents the total number of missing values in each column of the DataFrame.\n",
    "2) The second column \"%\" represents the percentage of missing values in each column of the DataFrame."
   ]
  },
  {
   "cell_type": "code",
   "execution_count": 10,
   "id": "b8b601ad",
   "metadata": {
    "scrolled": false
   },
   "outputs": [
    {
     "data": {
      "text/plain": [
       "<AxesSubplot: >"
      ]
     },
     "execution_count": 10,
     "metadata": {},
     "output_type": "execute_result"
    },
    {
     "data": {
      "image/png": "[encoded data removed]",
      "text/plain": [
       "<Figure size 640x480 with 1 Axes>"
      ]
     },
     "metadata": {},
     "output_type": "display_data"
    }
   ],
   "source": [
    "#create a simple heatmap to see for missing data!\n",
    "sns.heatmap(titanic_df.isnull(),yticklabels=False,cbar=False,cmap='viridis')"
   ]
  },
  {
   "cell_type": "markdown",
   "id": "15a5ae8e",
   "metadata": {},
   "source": [
    "1) \"titanic_df.isnull()\" creates a DataFrame of boolean values with the same shape as titanic_df, where each element is True if it is missing and False otherwise.\n",
    "2) \"yticklabels=False\" removes y-axis labels from the heatmap.\n",
    "3) \"cbar=False\" removes the colorbar from the heatmap.\n",
    "4) \"cmap='viridis'\" sets the color scheme for the heatmap to the 'viridis' colormap.\n",
    "\n",
    "Ineference: The resulting heatmap displays missing data as yellow lines on a black background. From the output, we can tell \"Age\", \"Cabin\" amd \"Embarked\" columns has missing values.\n",
    "\n",
    "\n",
    "\n"
   ]
  },
  {
   "cell_type": "markdown",
   "id": "f7c6568f",
   "metadata": {},
   "source": [
    "# Outlier detection and treatment"
   ]
  },
  {
   "cell_type": "code",
   "execution_count": 11,
   "id": "4dafb173",
   "metadata": {
    "scrolled": true
   },
   "outputs": [
    {
     "name": "stdout",
     "output_type": "stream",
     "text": [
      "Original shape of Titanic dataset: (891, 12)\n",
      "Shape of Titanic dataset after removing outliers: (598, 12)\n"
     ]
    }
   ],
   "source": [
    "# Select numerical columns to check for outliers\n",
    "num_cols = [\"Age\", \"SibSp\", \"Parch\", \"Fare\"]\n",
    "# Calculate the IQR for each numerical column\n",
    "Q1 = titanic_df[num_cols].quantile(0.25)\n",
    "Q3 = titanic_df[num_cols].quantile(0.75)\n",
    "IQR = Q3 - Q1\n",
    "# Calculate the upper and lower bounds for each numerical column\n",
    "lower_bound = Q1 - 1.5 * IQR\n",
    "upper_bound = Q3 + 1.5 * IQR\n",
    "# Identify and remove any values that fall outside of the upper and lower bounds for each column\n",
    "titanic_outliers_removed = titanic_df[~((titanic_df[num_cols] < lower_bound) | (titanic_df[num_cols] > upper_bound)).any(axis=1)]\n",
    "# Print the original and new shape of the dataset to see how many outliers were removed\n",
    "print(\"Original shape of Titanic dataset:\", titanic_df.shape)\n",
    "print(\"Shape of Titanic dataset after removing outliers:\", titanic_outliers_removed.shape)"
   ]
  },
  {
   "cell_type": "markdown",
   "id": "bb52bd7b",
   "metadata": {},
   "source": [
    "1) First line creates a list of column names in the Titanic dataset that contain numerical data and may have outliers.\n",
    "2) Second and third line calculates the first quartile (25th percentile) and third quartile(75th percentile) for each column in num_cols.\n",
    "3) Next line calculates the interquartile range (IQR) for each column in num_cols.\n",
    "4) Next two lines calculates the lower and upper bound for outliers for each column in num_cols. Any value below lower bound and above upper bound is considered an outlier.\n",
    "5) Then selects only the rows in the Titanic dataset where none of the values in the columns in num_cols fall outside the bounds calculated above.\n",
    "6) Finally prints the original shape and shape after removing outliers of the Titanic dataset.\n",
    "\n",
    "Inference: The original Titanic dataset had 891 rows and 12 columns. After removing outliers, the new dataset has 598 rows and 12 columns. This means that some rows were removed from the original dataset because they contained at least one value outside the upper and lower bounds calculated using the interquartile range (IQR) for each of the numerical columns (Age, SibSp, Parch, and Fare)."
   ]
  },
  {
   "cell_type": "markdown",
   "id": "fd4edf61",
   "metadata": {},
   "source": [
    "# Missing value treatment"
   ]
  },
  {
   "cell_type": "code",
   "execution_count": 12,
   "id": "4cd78ccd",
   "metadata": {},
   "outputs": [],
   "source": [
    "#finding the mean of 'Age' column and filling the null values with median value obtained\n",
    "titanic_df['Age'].fillna(titanic_df['Age'].median(),inplace=True)"
   ]
  },
  {
   "cell_type": "markdown",
   "id": "98d76b06",
   "metadata": {},
   "source": [
    "1) \"titanic_df['Age']\" selects the 'Age' column of the Titanic dataset.\n",
    "2) \".fillna()\" is a pandas method that fills the missing values in the selected column with a specified value.\n",
    "3) \"titanic_df['Age'].median()\" calculates the median value of the available data in the 'Age' column.\n",
    "4) \"inplace=True\" modifies the original dataframe in place rather than creating a new copy.\n",
    "\n",
    "Inference: This replaces the missing values in the 'Age' column with the median value of the column."
   ]
  },
  {
   "cell_type": "code",
   "execution_count": 13,
   "id": "d3e2342f",
   "metadata": {},
   "outputs": [],
   "source": [
    "#finding the mean of 'Age' column and filling the null values with median value obtained\n",
    "titanic_df['Embarked'].fillna(titanic_df['Embarked'].mode()[0],inplace=True)"
   ]
  },
  {
   "cell_type": "markdown",
   "id": "0751b05f",
   "metadata": {},
   "source": [
    "1) The \"fillna()\" function is used to fill the missing values in the 'Embarked' column. \n",
    "2) The \"mode()\" function is called on the 'Embarked' column to find the mode value. \n",
    "3) The \"[0]\" index is used to extract the first value from the mode value since the mode function returns a Series object.\n",
    "4) The \"inplace=True\" parameter is used to modify the 'titanic_df' dataframe in place.\n",
    "\n",
    "Inference: fills the missing values in the 'Embarked' column of the Titanic dataset with the mode (most common value) of the column, and modifies the dataset in place."
   ]
  },
  {
   "cell_type": "code",
   "execution_count": 14,
   "id": "99f07715",
   "metadata": {
    "scrolled": true
   },
   "outputs": [
    {
     "data": {
      "text/plain": [
       "PassengerId      0\n",
       "Name             0\n",
       "Pclass           0\n",
       "Sex              0\n",
       "Age              0\n",
       "SibSp            0\n",
       "Parch            0\n",
       "Ticket           0\n",
       "Fare             0\n",
       "Cabin          687\n",
       "Embarked         0\n",
       "Survived         0\n",
       "dtype: int64"
      ]
     },
     "execution_count": 14,
     "metadata": {},
     "output_type": "execute_result"
    }
   ],
   "source": [
    "titanic_df.isnull().sum()"
   ]
  },
  {
   "cell_type": "markdown",
   "id": "e7c09b0d",
   "metadata": {},
   "source": [
    "# Dropping the unnecessary columns"
   ]
  },
  {
   "cell_type": "code",
   "execution_count": 15,
   "id": "5dc86e8a",
   "metadata": {},
   "outputs": [],
   "source": [
    "#dropping the name column\n",
    "titanic_df = titanic_df.drop(['Name','PassengerId','Ticket','Cabin'], axis=1)"
   ]
  },
  {
   "cell_type": "markdown",
   "id": "8d358718",
   "metadata": {},
   "source": [
    "1) With the help of above code, it drops the 'Name', 'PassengerId', 'Ticket' and 'Cabin' columns from the Titanic dataset and assigns the modified dataset to the variable 'titanic_df'. \n",
    "2) The 'drop' method is used with the 'axis' parameter set to 1 (indicating columns) to remove the specified columns from the dataset."
   ]
  },
  {
   "cell_type": "code",
   "execution_count": 16,
   "id": "156180ad",
   "metadata": {
    "scrolled": true
   },
   "outputs": [
    {
     "data": {
      "text/plain": [
       "Index(['Pclass', 'Sex', 'Age', 'SibSp', 'Parch', 'Fare', 'Embarked',\n",
       "       'Survived'],\n",
       "      dtype='object')"
      ]
     },
     "execution_count": 16,
     "metadata": {},
     "output_type": "execute_result"
    }
   ],
   "source": [
    "titanic_df.columns"
   ]
  },
  {
   "cell_type": "markdown",
   "id": "fbd5ff94",
   "metadata": {},
   "source": [
    "# Conversion of categorical to numerical"
   ]
  },
  {
   "cell_type": "code",
   "execution_count": 17,
   "id": "71635237",
   "metadata": {},
   "outputs": [],
   "source": [
    "#label encoding\n",
    "#Converting categorical to numerical for Embarked feature\n",
    "values = {\"S\": 0, \"C\": 1, \"Q\": 2}\n",
    "data = [titanic_df]\n",
    "\n",
    "for dataset in data:\n",
    "    dataset['Embarked'] = dataset['Embarked'].map(values)"
   ]
  },
  {
   "cell_type": "markdown",
   "id": "0557e4fd",
   "metadata": {},
   "source": [
    "1) The values dictionary is defined to map the three categories S, C, and Q to numerical values 0, 1, and 2 respectively. \n",
    "2) Then, for each dataset in the list 'data', the 'Embarked' column is mapped to numerical values using the 'map' function and the 'values' dictionary.\n",
    "3) Finally, the 'Embarked' column of the dataset is updated with the new numerical values."
   ]
  },
  {
   "cell_type": "code",
   "execution_count": 18,
   "id": "e251587a",
   "metadata": {
    "scrolled": true
   },
   "outputs": [
    {
     "data": {
      "text/html": [
       "<div>\n",
       "<style scoped>\n",
       "    .dataframe tbody tr th:only-of-type {\n",
       "        vertical-align: middle;\n",
       "    }\n",
       "\n",
       "    .dataframe tbody tr th {\n",
       "        vertical-align: top;\n",
       "    }\n",
       "\n",
       "    .dataframe thead th {\n",
       "        text-align: right;\n",
       "    }\n",
       "</style>\n",
       "<table border=\"1\" class=\"dataframe\">\n",
       "  <thead>\n",
       "    <tr style=\"text-align: right;\">\n",
       "      <th></th>\n",
       "      <th>Pclass</th>\n",
       "      <th>Age</th>\n",
       "      <th>SibSp</th>\n",
       "      <th>Parch</th>\n",
       "      <th>Fare</th>\n",
       "      <th>Embarked</th>\n",
       "      <th>Survived</th>\n",
       "      <th>Sex_male</th>\n",
       "    </tr>\n",
       "  </thead>\n",
       "  <tbody>\n",
       "    <tr>\n",
       "      <th>0</th>\n",
       "      <td>3</td>\n",
       "      <td>22.0</td>\n",
       "      <td>1</td>\n",
       "      <td>0</td>\n",
       "      <td>7.2500</td>\n",
       "      <td>0</td>\n",
       "      <td>0</td>\n",
       "      <td>1</td>\n",
       "    </tr>\n",
       "    <tr>\n",
       "      <th>1</th>\n",
       "      <td>1</td>\n",
       "      <td>38.0</td>\n",
       "      <td>1</td>\n",
       "      <td>0</td>\n",
       "      <td>71.2833</td>\n",
       "      <td>1</td>\n",
       "      <td>1</td>\n",
       "      <td>0</td>\n",
       "    </tr>\n",
       "    <tr>\n",
       "      <th>2</th>\n",
       "      <td>3</td>\n",
       "      <td>26.0</td>\n",
       "      <td>0</td>\n",
       "      <td>0</td>\n",
       "      <td>7.9250</td>\n",
       "      <td>0</td>\n",
       "      <td>1</td>\n",
       "      <td>0</td>\n",
       "    </tr>\n",
       "    <tr>\n",
       "      <th>3</th>\n",
       "      <td>1</td>\n",
       "      <td>35.0</td>\n",
       "      <td>1</td>\n",
       "      <td>0</td>\n",
       "      <td>53.1000</td>\n",
       "      <td>0</td>\n",
       "      <td>1</td>\n",
       "      <td>0</td>\n",
       "    </tr>\n",
       "    <tr>\n",
       "      <th>4</th>\n",
       "      <td>3</td>\n",
       "      <td>35.0</td>\n",
       "      <td>0</td>\n",
       "      <td>0</td>\n",
       "      <td>8.0500</td>\n",
       "      <td>0</td>\n",
       "      <td>0</td>\n",
       "      <td>1</td>\n",
       "    </tr>\n",
       "  </tbody>\n",
       "</table>\n",
       "</div>"
      ],
      "text/plain": [
       "   Pclass   Age  SibSp  Parch     Fare  Embarked  Survived  Sex_male\n",
       "0       3  22.0      1      0   7.2500         0         0         1\n",
       "1       1  38.0      1      0  71.2833         1         1         0\n",
       "2       3  26.0      0      0   7.9250         0         1         0\n",
       "3       1  35.0      1      0  53.1000         0         1         0\n",
       "4       3  35.0      0      0   8.0500         0         0         1"
      ]
     },
     "execution_count": 18,
     "metadata": {},
     "output_type": "execute_result"
    }
   ],
   "source": [
    "# Perform dummy encoding on 'Embarked' column\n",
    "dummy_encoded = pd.get_dummies(titanic_df['Sex'], prefix='Sex', drop_first=True)\n",
    "\n",
    "# Add the new dummy encoded columns to the dataset\n",
    "titanic_df = pd.concat([titanic_df, dummy_encoded], axis=1)\n",
    "\n",
    "# Drop the original 'Embarked' column\n",
    "titanic_df.drop('Sex', axis=1, inplace=True)\n",
    "\n",
    "# Check the updated dataset\n",
    "titanic_df.head()\n"
   ]
  },
  {
   "cell_type": "markdown",
   "id": "99a6988b",
   "metadata": {},
   "source": [
    "1) First, the pd.get_dummies() function is used to create a new dataframe dummy_encoded that contains binary (0/1) columns for each unique value in the 'Sex' column. \n",
    "2) The prefix parameter is used to add the 'Sex_' prefix to the column names to make them more descriptive. \n",
    "3) The drop_first parameter is set to True to drop one of the columns to prevent multicollinearity (i.e., when one variable is a linear combination of other variables).\n",
    "4) Next, the pd.concat() function is used to concatenate the original dataset titanic_df with the dummy_encoded dataframe along the columns axis (i.e., axis=1), creating a new, updated dataset.\n",
    "5) Finally, the original 'Sex' column is dropped using the drop() method, and the inplace parameter is set to True to modify the dataset in place.\n",
    "\n",
    "Inference: The resulting dataset now contains binary (0/1) columns for 'male' and 'female'."
   ]
  },
  {
   "cell_type": "markdown",
   "id": "c861067f",
   "metadata": {},
   "source": [
    "# Conversion of data types"
   ]
  },
  {
   "cell_type": "code",
   "execution_count": 19,
   "id": "28469c0a",
   "metadata": {},
   "outputs": [],
   "source": [
    "#converting the float to int data type of Fare column\n",
    "titanic_df['Fare']=titanic_df['Fare'].astype(int)\n",
    "#converting the float to int data type of Age column\n",
    "titanic_df['Age']=titanic_df['Age'].astype(int)"
   ]
  },
  {
   "cell_type": "markdown",
   "id": "c1ef28fd",
   "metadata": {},
   "source": [
    "1) Firstly selects the 'Fare' and 'Age' column from the titanic_df dataframe.\n",
    "2) \".astype(int)\" converts the data type of the 'Fare' column to an integer. This means that any decimal places will be truncated and the values will be rounded down to the nearest integer."
   ]
  },
  {
   "cell_type": "code",
   "execution_count": 20,
   "id": "2f7ca8c8",
   "metadata": {
    "scrolled": false
   },
   "outputs": [
    {
     "name": "stdout",
     "output_type": "stream",
     "text": [
      "<class 'pandas.core.frame.DataFrame'>\n",
      "RangeIndex: 891 entries, 0 to 890\n",
      "Data columns (total 8 columns):\n",
      " #   Column    Non-Null Count  Dtype\n",
      "---  ------    --------------  -----\n",
      " 0   Pclass    891 non-null    int64\n",
      " 1   Age       891 non-null    int32\n",
      " 2   SibSp     891 non-null    int64\n",
      " 3   Parch     891 non-null    int64\n",
      " 4   Fare      891 non-null    int32\n",
      " 5   Embarked  891 non-null    int64\n",
      " 6   Survived  891 non-null    int64\n",
      " 7   Sex_male  891 non-null    uint8\n",
      "dtypes: int32(2), int64(5), uint8(1)\n",
      "memory usage: 42.8 KB\n"
     ]
    }
   ],
   "source": [
    "titanic_df.info()"
   ]
  },
  {
   "cell_type": "markdown",
   "id": "5d24405f",
   "metadata": {},
   "source": [
    "Inference: From the output, we can see that no null values are present and all the data types are converted to integer"
   ]
  },
  {
   "cell_type": "markdown",
   "id": "02ea2c62",
   "metadata": {},
   "source": [
    "# **Data Visualisation"
   ]
  },
  {
   "cell_type": "markdown",
   "id": "6c0d9201",
   "metadata": {},
   "source": [
    "# Visualising number of survivors and non-survivors by gender."
   ]
  },
  {
   "cell_type": "code",
   "execution_count": 21,
   "id": "36df788a",
   "metadata": {
    "scrolled": true
   },
   "outputs": [
    {
     "data": {
      "text/plain": [
       "<AxesSubplot: xlabel='Survived', ylabel='count'>"
      ]
     },
     "execution_count": 21,
     "metadata": {},
     "output_type": "execute_result"
    },
    {
     "data": {
      "image/png": "[encoded data removed]",
      "text/plain": [
       "<Figure size 640x480 with 1 Axes>"
      ]
     },
     "metadata": {},
     "output_type": "display_data"
    }
   ],
   "source": [
    "sns.set_style('whitegrid')\n",
    "sns.countplot(x='Survived',hue='Sex_male',data=titanic_df,palette='RdBu_r')"
   ]
  },
  {
   "cell_type": "markdown",
   "id": "3a660976",
   "metadata": {},
   "source": [
    "1) \"sns.set_style('whitegrid')\": This sets the style of the Seaborn plots to a white grid background.\n",
    "2) \"sns.countplot(x='Survived',hue='Sex_male',data=titanic_df,palette='RdBu_r')\": This creates a count plot using the countplot() function from Seaborn. \n",
    "3) The \"x\" parameter specifies the column to count, which is Survived in this case. \n",
    "4) The \"hue\" parameter specifies the column to group the data by, which is Sex_male in this case. \n",
    "5) The \"data\" parameter specifies the DataFrame to use, which is titanic_df. \n",
    "6) Finally, the \"palette\" parameter specifies the color palette to use, which is 'RdBu_r' in this case. \n",
    "\n",
    "Inference: The resulting plot shows the number of passengers who survived or did not survive, grouped by their gender (male or female). We can see that female passengers are more likely to be survived than male passengers."
   ]
  },
  {
   "cell_type": "markdown",
   "id": "a836c231",
   "metadata": {},
   "source": [
    "# Visualising the distribution of the Age variable"
   ]
  },
  {
   "cell_type": "code",
   "execution_count": 22,
   "id": "d9cd1d5a",
   "metadata": {
    "scrolled": true
   },
   "outputs": [
    {
     "data": {
      "image/png": "[encoded data removed]",
      "text/plain": [
       "<Figure size 640x480 with 1 Axes>"
      ]
     },
     "metadata": {},
     "output_type": "display_data"
    }
   ],
   "source": [
    "# Create the histogram\n",
    "sns.histplot(data=titanic_df, x='Age', bins=20, kde=True)\n",
    "\n",
    "# Set the plot title\n",
    "plt.title('Age Distribution of Titanic Passengers')\n",
    "\n",
    "# Set the x-axis label\n",
    "plt.xlabel('Age')\n",
    "\n",
    "# Display the plot\n",
    "plt.show()"
   ]
  },
  {
   "cell_type": "markdown",
   "id": "105a7349",
   "metadata": {},
   "source": [
    "1) sns.histplot() creates a histogram visualization of the age distribution for the Titanic passengers, with the x parameter set    to 'Age', \n",
    "2) the number of bins set to 20 which means the age range of the Titanic passengers is divided into 20 equally sized bins.\n",
    "3) A kernel density estimate is a non-parametric way to estimate the probability density function of a variable. Here, we set      \"kde=True\" kernel density estimate (kde) overlayed on the histogram bars.\n",
    "4) plt.title() sets the title of the plot to 'Age Distribution of Titanic Passengers'.\n",
    "5) plt.xlabel() sets the label of the x-axis to 'Age'.\n",
    "6) plt.show() displays the histogram plot.\n",
    "\n",
    "Inference: From the above output, we can see that there were more passengers whose age is in range 0 to 25\n"
   ]
  },
  {
   "cell_type": "markdown",
   "id": "ee9e75e9",
   "metadata": {},
   "source": [
    "# Visualising number of survivors and non-survivors by Pclass"
   ]
  },
  {
   "cell_type": "code",
   "execution_count": 23,
   "id": "caeb68cb",
   "metadata": {
    "scrolled": false
   },
   "outputs": [
    {
     "data": {
      "text/plain": [
       "<AxesSubplot: xlabel='Survived', ylabel='count'>"
      ]
     },
     "execution_count": 23,
     "metadata": {},
     "output_type": "execute_result"
    },
    {
     "data": {
      "image/png": "[encoded data removed]",
      "text/plain": [
       "<Figure size 640x480 with 1 Axes>"
      ]
     },
     "metadata": {},
     "output_type": "display_data"
    }
   ],
   "source": [
    "sns.set_style('whitegrid')\n",
    "sns.countplot(x='Survived',hue='Pclass',data=titanic_df,palette='rainbow')"
   ]
  },
  {
   "cell_type": "markdown",
   "id": "29730608",
   "metadata": {},
   "source": [
    "1) \"sns.set_style('whitegrid')\" sets the overall style of the plot to 'whitegrid'. This sets a white background with horizontal      and vertical grid lines.\n",
    "2) \"sns.countplot()\" creates a countplot of the 'Survived' variable, with bars colored by 'Pclass'. \n",
    "3) A countplot is a type of barplot that shows the number of observations in each category of a categorical variable. \n",
    "4) The \"x\" parameter specifies the variable to be plotted on the x-axis, which in this case is 'Survived'. \n",
    "5) The \"hue\" parameter specifies a categorical variable to group the bars by, which in this case is 'Pclass'. \n",
    "6) The \"data\" parameter specifies the dataframe to use, which in this case is titanic_df.\n",
    "7) The \"palette\" parameter sets the color palette to be used for the bars, which in this case is 'rainbow'.\n",
    "\n",
    "Inference: The passengers who were not survived falls majority in 3rd class while the passengers who were survived falls majority in 1st class.\n"
   ]
  },
  {
   "cell_type": "markdown",
   "id": "2c2b78be",
   "metadata": {},
   "source": [
    "# Visualising the relationship between Age, Fare, Pclass and Survival status"
   ]
  },
  {
   "cell_type": "code",
   "execution_count": 24,
   "id": "08d0792e",
   "metadata": {
    "scrolled": true
   },
   "outputs": [
    {
     "data": {
      "image/png": "[encoded data removed]",
      "text/plain": [
       "<Figure size 640x480 with 1 Axes>"
      ]
     },
     "metadata": {},
     "output_type": "display_data"
    }
   ],
   "source": [
    "# Create the scatter plot\n",
    "sns.scatterplot(x='Age', y='Fare', data=titanic_df, hue='Survived', style='Pclass', palette='Set1')\n",
    "\n",
    "# Set the plot title\n",
    "plt.title('Scatter Plot of Titanic Dataset')\n",
    "\n",
    "# Display the plot\n",
    "plt.show()"
   ]
  },
  {
   "cell_type": "markdown",
   "id": "03065b41",
   "metadata": {},
   "source": [
    "1) \"sns.scatterplot()\" creates a scatter plot of the 'Age' variable on the x-axis and the 'Fare' variable on the y-axis, with      points colored by 'Survived' and styled by 'Pclass'. \n",
    "2) A scatter plot is a type of plot that shows the relationship between two continuous variables. \n",
    "3) The \"x\" parameter specifies the variable to be plotted on the x-axis, which in this case is 'Age'.\n",
    "4) The \"y\" parameter specifies the variable to be plotted on the y-axis, which in this case is 'Fare'. \n",
    "5) The \"data\" parameter specifies the dataframe to use, which in this case is titanic_df. \n",
    "6) The \"hue\" parameter sets the variable to use for coloring the points, which in this case is 'Survived'. \n",
    "7) The \"style\" parameter sets the variable to use for styling the points, which in this case is 'Pclass'. \n",
    "8) The \"palette\" parameter sets the color palette to use for the points, which in this case is 'Set1'.\n",
    "9) \"plt.title('Scatter Plot of Titanic Dataset')\" sets the title of the plot to 'Scatter Plot of Titanic Dataset'.\n",
    "10) \"plt.show()\" displays the plot.\n",
    "\n",
    "Inference: From the output, we can say that the passengers who traveled in lower class with lower fare price majority were not likely to be surived "
   ]
  }
 ],
 "metadata": {
  "kernelspec": {
   "display_name": "Python 3 (ipykernel)",
   "language": "python",
   "name": "python3"
  },
  "language_info": {
   "codemirror_mode": {
    "name": "ipython",
    "version": 3
   },
   "file_extension": ".py",
   "mimetype": "text/x-python",
   "name": "python",
   "nbconvert_exporter": "python",
   "pygments_lexer": "ipython3",
   "version": "3.9.7"
  }
 },
 "nbformat": 4,
 "nbformat_minor": 5
}
