{
 "cells": [
  {
   "cell_type": "markdown",
   "id": "02ac11f3",
   "metadata": {},
   "source": [
    "# Naive Bayes Classifier Algorithm_Diabetes dataset"
   ]
  },
  {
   "cell_type": "markdown",
   "id": "40d7c0e5",
   "metadata": {},
   "source": [
    "# **Importing necessary libraries"
   ]
  },
  {
   "cell_type": "code",
   "execution_count": 1,
   "id": "5bd6b8d4",
   "metadata": {},
   "outputs": [
    {
     "name": "stderr",
     "output_type": "stream",
     "text": [
      "C:\\Users\\neeli\\anaconda3\\lib\\site-packages\\scipy\\__init__.py:146: UserWarning: A NumPy version >=1.16.5 and <1.23.0 is required for this version of SciPy (detected version 1.23.5\n",
      "  warnings.warn(f\"A NumPy version >={np_minversion} and <{np_maxversion}\"\n"
     ]
    }
   ],
   "source": [
    "#importing required and necessary libraries\n",
    "import numpy as np # used to perform mathematical operation on array\n",
    "import pandas as pd # used for data manipulation\n",
    "import matplotlib.pyplot as plt;\n",
    "import seaborn as sns\n",
    "%matplotlib inline"
   ]
  },
  {
   "cell_type": "markdown",
   "id": "07973adf",
   "metadata": {},
   "source": [
    "# **Reading the dataset"
   ]
  },
  {
   "cell_type": "code",
   "execution_count": 2,
   "id": "eeb0abf4",
   "metadata": {},
   "outputs": [],
   "source": [
    "#Reading the data of titanic dataset\n",
    "diabetes_df = pd.read_csv(\"diabetes.csv\")"
   ]
  },
  {
   "cell_type": "markdown",
   "id": "129c70db",
   "metadata": {},
   "source": [
    "# **Exploratory Data Analysis"
   ]
  },
  {
   "cell_type": "code",
   "execution_count": 3,
   "id": "90839456",
   "metadata": {},
   "outputs": [
    {
     "name": "stdout",
     "output_type": "stream",
     "text": [
      "Class label counts: \n",
      " 0    500\n",
      "1    268\n",
      "Name: Outcome, dtype: int64\n",
      "Class label percentages: \n",
      " 0    65.104167\n",
      "1    34.895833\n",
      "Name: Outcome, dtype: float64\n",
      "The data is imbalanced\n"
     ]
    }
   ],
   "source": [
    "#to check whether that data is balanced or imbalanced\n",
    "#count the number of instances of each class label\n",
    "count=diabetes_df['Outcome'].value_counts()\n",
    "#calculating the percentage of instances for each class label\n",
    "percentage=count/diabetes_df.shape[0]*100\n",
    "#printing the class label counts and percentages\n",
    "print(\"Class label counts: \\n\",count)\n",
    "print(\"Class label percentages: \\n\",percentage)\n",
    "#determining if the data is balanced or imbalanced\n",
    "if (percentage[0] < 60 and percentage[1] < 60) or (percentage[0] > 40 and percentage[1] > 40):\n",
    "    print(\"The data is balanced\")\n",
    "else:\n",
    "    print(\"The data is imbalanced\")"
   ]
  },
  {
   "cell_type": "code",
   "execution_count": 4,
   "id": "f7a55d09",
   "metadata": {},
   "outputs": [
    {
     "name": "stdout",
     "output_type": "stream",
     "text": [
      "<class 'pandas.core.frame.DataFrame'>\n",
      "RangeIndex: 768 entries, 0 to 767\n",
      "Data columns (total 9 columns):\n",
      " #   Column                    Non-Null Count  Dtype  \n",
      "---  ------                    --------------  -----  \n",
      " 0   Pregnancies               768 non-null    int64  \n",
      " 1   Glucose                   768 non-null    int64  \n",
      " 2   BloodPressure             768 non-null    int64  \n",
      " 3   SkinThickness             768 non-null    int64  \n",
      " 4   Insulin                   768 non-null    int64  \n",
      " 5   BMI                       768 non-null    float64\n",
      " 6   DiabetesPedigreeFunction  768 non-null    float64\n",
      " 7   Age                       768 non-null    int64  \n",
      " 8   Outcome                   768 non-null    int64  \n",
      "dtypes: float64(2), int64(7)\n",
      "memory usage: 54.1 KB\n"
     ]
    }
   ],
   "source": [
    "#checking the information about the dataframe\n",
    "diabetes_df.info()"
   ]
  },
  {
   "cell_type": "code",
   "execution_count": 5,
   "id": "a2166df5",
   "metadata": {},
   "outputs": [
    {
     "data": {
      "text/html": [
       "<div>\n",
       "<style scoped>\n",
       "    .dataframe tbody tr th:only-of-type {\n",
       "        vertical-align: middle;\n",
       "    }\n",
       "\n",
       "    .dataframe tbody tr th {\n",
       "        vertical-align: top;\n",
       "    }\n",
       "\n",
       "    .dataframe thead th {\n",
       "        text-align: right;\n",
       "    }\n",
       "</style>\n",
       "<table border=\"1\" class=\"dataframe\">\n",
       "  <thead>\n",
       "    <tr style=\"text-align: right;\">\n",
       "      <th></th>\n",
       "      <th>Pregnancies</th>\n",
       "      <th>Glucose</th>\n",
       "      <th>BloodPressure</th>\n",
       "      <th>SkinThickness</th>\n",
       "      <th>Insulin</th>\n",
       "      <th>BMI</th>\n",
       "      <th>DiabetesPedigreeFunction</th>\n",
       "      <th>Age</th>\n",
       "      <th>Outcome</th>\n",
       "    </tr>\n",
       "  </thead>\n",
       "  <tbody>\n",
       "    <tr>\n",
       "      <th>count</th>\n",
       "      <td>768.000000</td>\n",
       "      <td>768.000000</td>\n",
       "      <td>768.000000</td>\n",
       "      <td>768.000000</td>\n",
       "      <td>768.000000</td>\n",
       "      <td>768.000000</td>\n",
       "      <td>768.000000</td>\n",
       "      <td>768.000000</td>\n",
       "      <td>768.000000</td>\n",
       "    </tr>\n",
       "    <tr>\n",
       "      <th>mean</th>\n",
       "      <td>3.845052</td>\n",
       "      <td>120.894531</td>\n",
       "      <td>69.105469</td>\n",
       "      <td>20.536458</td>\n",
       "      <td>79.799479</td>\n",
       "      <td>31.992578</td>\n",
       "      <td>0.471876</td>\n",
       "      <td>33.240885</td>\n",
       "      <td>0.348958</td>\n",
       "    </tr>\n",
       "    <tr>\n",
       "      <th>std</th>\n",
       "      <td>3.369578</td>\n",
       "      <td>31.972618</td>\n",
       "      <td>19.355807</td>\n",
       "      <td>15.952218</td>\n",
       "      <td>115.244002</td>\n",
       "      <td>7.884160</td>\n",
       "      <td>0.331329</td>\n",
       "      <td>11.760232</td>\n",
       "      <td>0.476951</td>\n",
       "    </tr>\n",
       "    <tr>\n",
       "      <th>min</th>\n",
       "      <td>0.000000</td>\n",
       "      <td>0.000000</td>\n",
       "      <td>0.000000</td>\n",
       "      <td>0.000000</td>\n",
       "      <td>0.000000</td>\n",
       "      <td>0.000000</td>\n",
       "      <td>0.078000</td>\n",
       "      <td>21.000000</td>\n",
       "      <td>0.000000</td>\n",
       "    </tr>\n",
       "    <tr>\n",
       "      <th>25%</th>\n",
       "      <td>1.000000</td>\n",
       "      <td>99.000000</td>\n",
       "      <td>62.000000</td>\n",
       "      <td>0.000000</td>\n",
       "      <td>0.000000</td>\n",
       "      <td>27.300000</td>\n",
       "      <td>0.243750</td>\n",
       "      <td>24.000000</td>\n",
       "      <td>0.000000</td>\n",
       "    </tr>\n",
       "    <tr>\n",
       "      <th>50%</th>\n",
       "      <td>3.000000</td>\n",
       "      <td>117.000000</td>\n",
       "      <td>72.000000</td>\n",
       "      <td>23.000000</td>\n",
       "      <td>30.500000</td>\n",
       "      <td>32.000000</td>\n",
       "      <td>0.372500</td>\n",
       "      <td>29.000000</td>\n",
       "      <td>0.000000</td>\n",
       "    </tr>\n",
       "    <tr>\n",
       "      <th>75%</th>\n",
       "      <td>6.000000</td>\n",
       "      <td>140.250000</td>\n",
       "      <td>80.000000</td>\n",
       "      <td>32.000000</td>\n",
       "      <td>127.250000</td>\n",
       "      <td>36.600000</td>\n",
       "      <td>0.626250</td>\n",
       "      <td>41.000000</td>\n",
       "      <td>1.000000</td>\n",
       "    </tr>\n",
       "    <tr>\n",
       "      <th>max</th>\n",
       "      <td>17.000000</td>\n",
       "      <td>199.000000</td>\n",
       "      <td>122.000000</td>\n",
       "      <td>99.000000</td>\n",
       "      <td>846.000000</td>\n",
       "      <td>67.100000</td>\n",
       "      <td>2.420000</td>\n",
       "      <td>81.000000</td>\n",
       "      <td>1.000000</td>\n",
       "    </tr>\n",
       "  </tbody>\n",
       "</table>\n",
       "</div>"
      ],
      "text/plain": [
       "       Pregnancies     Glucose  BloodPressure  SkinThickness     Insulin  \\\n",
       "count   768.000000  768.000000     768.000000     768.000000  768.000000   \n",
       "mean      3.845052  120.894531      69.105469      20.536458   79.799479   \n",
       "std       3.369578   31.972618      19.355807      15.952218  115.244002   \n",
       "min       0.000000    0.000000       0.000000       0.000000    0.000000   \n",
       "25%       1.000000   99.000000      62.000000       0.000000    0.000000   \n",
       "50%       3.000000  117.000000      72.000000      23.000000   30.500000   \n",
       "75%       6.000000  140.250000      80.000000      32.000000  127.250000   \n",
       "max      17.000000  199.000000     122.000000      99.000000  846.000000   \n",
       "\n",
       "              BMI  DiabetesPedigreeFunction         Age     Outcome  \n",
       "count  768.000000                768.000000  768.000000  768.000000  \n",
       "mean    31.992578                  0.471876   33.240885    0.348958  \n",
       "std      7.884160                  0.331329   11.760232    0.476951  \n",
       "min      0.000000                  0.078000   21.000000    0.000000  \n",
       "25%     27.300000                  0.243750   24.000000    0.000000  \n",
       "50%     32.000000                  0.372500   29.000000    0.000000  \n",
       "75%     36.600000                  0.626250   41.000000    1.000000  \n",
       "max     67.100000                  2.420000   81.000000    1.000000  "
      ]
     },
     "execution_count": 5,
     "metadata": {},
     "output_type": "execute_result"
    }
   ],
   "source": [
    "#Returns description of the data in the DataFrame\n",
    "diabetes_df.describe()"
   ]
  },
  {
   "cell_type": "code",
   "execution_count": 6,
   "id": "1f536980",
   "metadata": {},
   "outputs": [
    {
     "data": {
      "text/plain": [
       "(768, 9)"
      ]
     },
     "execution_count": 6,
     "metadata": {},
     "output_type": "execute_result"
    }
   ],
   "source": [
    "#Finding number of rows and columns of the dataframe\n",
    "diabetes_df.shape"
   ]
  },
  {
   "cell_type": "code",
   "execution_count": 7,
   "id": "a33cdcfd",
   "metadata": {},
   "outputs": [
    {
     "data": {
      "text/html": [
       "<div>\n",
       "<style scoped>\n",
       "    .dataframe tbody tr th:only-of-type {\n",
       "        vertical-align: middle;\n",
       "    }\n",
       "\n",
       "    .dataframe tbody tr th {\n",
       "        vertical-align: top;\n",
       "    }\n",
       "\n",
       "    .dataframe thead th {\n",
       "        text-align: right;\n",
       "    }\n",
       "</style>\n",
       "<table border=\"1\" class=\"dataframe\">\n",
       "  <thead>\n",
       "    <tr style=\"text-align: right;\">\n",
       "      <th></th>\n",
       "      <th>Pregnancies</th>\n",
       "      <th>Glucose</th>\n",
       "      <th>BloodPressure</th>\n",
       "      <th>SkinThickness</th>\n",
       "      <th>Insulin</th>\n",
       "      <th>BMI</th>\n",
       "      <th>DiabetesPedigreeFunction</th>\n",
       "      <th>Age</th>\n",
       "      <th>Outcome</th>\n",
       "    </tr>\n",
       "  </thead>\n",
       "  <tbody>\n",
       "    <tr>\n",
       "      <th>0</th>\n",
       "      <td>6</td>\n",
       "      <td>148</td>\n",
       "      <td>72</td>\n",
       "      <td>35</td>\n",
       "      <td>0</td>\n",
       "      <td>33.6</td>\n",
       "      <td>0.627</td>\n",
       "      <td>50</td>\n",
       "      <td>1</td>\n",
       "    </tr>\n",
       "    <tr>\n",
       "      <th>1</th>\n",
       "      <td>1</td>\n",
       "      <td>85</td>\n",
       "      <td>66</td>\n",
       "      <td>29</td>\n",
       "      <td>0</td>\n",
       "      <td>26.6</td>\n",
       "      <td>0.351</td>\n",
       "      <td>31</td>\n",
       "      <td>0</td>\n",
       "    </tr>\n",
       "    <tr>\n",
       "      <th>2</th>\n",
       "      <td>8</td>\n",
       "      <td>183</td>\n",
       "      <td>64</td>\n",
       "      <td>0</td>\n",
       "      <td>0</td>\n",
       "      <td>23.3</td>\n",
       "      <td>0.672</td>\n",
       "      <td>32</td>\n",
       "      <td>1</td>\n",
       "    </tr>\n",
       "    <tr>\n",
       "      <th>3</th>\n",
       "      <td>1</td>\n",
       "      <td>89</td>\n",
       "      <td>66</td>\n",
       "      <td>23</td>\n",
       "      <td>94</td>\n",
       "      <td>28.1</td>\n",
       "      <td>0.167</td>\n",
       "      <td>21</td>\n",
       "      <td>0</td>\n",
       "    </tr>\n",
       "    <tr>\n",
       "      <th>4</th>\n",
       "      <td>0</td>\n",
       "      <td>137</td>\n",
       "      <td>40</td>\n",
       "      <td>35</td>\n",
       "      <td>168</td>\n",
       "      <td>43.1</td>\n",
       "      <td>2.288</td>\n",
       "      <td>33</td>\n",
       "      <td>1</td>\n",
       "    </tr>\n",
       "  </tbody>\n",
       "</table>\n",
       "</div>"
      ],
      "text/plain": [
       "   Pregnancies  Glucose  BloodPressure  SkinThickness  Insulin   BMI  \\\n",
       "0            6      148             72             35        0  33.6   \n",
       "1            1       85             66             29        0  26.6   \n",
       "2            8      183             64              0        0  23.3   \n",
       "3            1       89             66             23       94  28.1   \n",
       "4            0      137             40             35      168  43.1   \n",
       "\n",
       "   DiabetesPedigreeFunction  Age  Outcome  \n",
       "0                     0.627   50        1  \n",
       "1                     0.351   31        0  \n",
       "2                     0.672   32        1  \n",
       "3                     0.167   21        0  \n",
       "4                     2.288   33        1  "
      ]
     },
     "execution_count": 7,
     "metadata": {},
     "output_type": "execute_result"
    }
   ],
   "source": [
    "#Checking the first 5 rows of the train data\n",
    "diabetes_df.head()"
   ]
  },
  {
   "cell_type": "code",
   "execution_count": 8,
   "id": "9aa659f8",
   "metadata": {
    "scrolled": true
   },
   "outputs": [
    {
     "data": {
      "text/html": [
       "<div>\n",
       "<style scoped>\n",
       "    .dataframe tbody tr th:only-of-type {\n",
       "        vertical-align: middle;\n",
       "    }\n",
       "\n",
       "    .dataframe tbody tr th {\n",
       "        vertical-align: top;\n",
       "    }\n",
       "\n",
       "    .dataframe thead th {\n",
       "        text-align: right;\n",
       "    }\n",
       "</style>\n",
       "<table border=\"1\" class=\"dataframe\">\n",
       "  <thead>\n",
       "    <tr style=\"text-align: right;\">\n",
       "      <th></th>\n",
       "      <th>Pregnancies</th>\n",
       "      <th>Glucose</th>\n",
       "      <th>BloodPressure</th>\n",
       "      <th>SkinThickness</th>\n",
       "      <th>Insulin</th>\n",
       "      <th>BMI</th>\n",
       "      <th>DiabetesPedigreeFunction</th>\n",
       "      <th>Age</th>\n",
       "      <th>Outcome</th>\n",
       "    </tr>\n",
       "  </thead>\n",
       "  <tbody>\n",
       "    <tr>\n",
       "      <th>763</th>\n",
       "      <td>10</td>\n",
       "      <td>101</td>\n",
       "      <td>76</td>\n",
       "      <td>48</td>\n",
       "      <td>180</td>\n",
       "      <td>32.9</td>\n",
       "      <td>0.171</td>\n",
       "      <td>63</td>\n",
       "      <td>0</td>\n",
       "    </tr>\n",
       "    <tr>\n",
       "      <th>764</th>\n",
       "      <td>2</td>\n",
       "      <td>122</td>\n",
       "      <td>70</td>\n",
       "      <td>27</td>\n",
       "      <td>0</td>\n",
       "      <td>36.8</td>\n",
       "      <td>0.340</td>\n",
       "      <td>27</td>\n",
       "      <td>0</td>\n",
       "    </tr>\n",
       "    <tr>\n",
       "      <th>765</th>\n",
       "      <td>5</td>\n",
       "      <td>121</td>\n",
       "      <td>72</td>\n",
       "      <td>23</td>\n",
       "      <td>112</td>\n",
       "      <td>26.2</td>\n",
       "      <td>0.245</td>\n",
       "      <td>30</td>\n",
       "      <td>0</td>\n",
       "    </tr>\n",
       "    <tr>\n",
       "      <th>766</th>\n",
       "      <td>1</td>\n",
       "      <td>126</td>\n",
       "      <td>60</td>\n",
       "      <td>0</td>\n",
       "      <td>0</td>\n",
       "      <td>30.1</td>\n",
       "      <td>0.349</td>\n",
       "      <td>47</td>\n",
       "      <td>1</td>\n",
       "    </tr>\n",
       "    <tr>\n",
       "      <th>767</th>\n",
       "      <td>1</td>\n",
       "      <td>93</td>\n",
       "      <td>70</td>\n",
       "      <td>31</td>\n",
       "      <td>0</td>\n",
       "      <td>30.4</td>\n",
       "      <td>0.315</td>\n",
       "      <td>23</td>\n",
       "      <td>0</td>\n",
       "    </tr>\n",
       "  </tbody>\n",
       "</table>\n",
       "</div>"
      ],
      "text/plain": [
       "     Pregnancies  Glucose  BloodPressure  SkinThickness  Insulin   BMI  \\\n",
       "763           10      101             76             48      180  32.9   \n",
       "764            2      122             70             27        0  36.8   \n",
       "765            5      121             72             23      112  26.2   \n",
       "766            1      126             60              0        0  30.1   \n",
       "767            1       93             70             31        0  30.4   \n",
       "\n",
       "     DiabetesPedigreeFunction  Age  Outcome  \n",
       "763                     0.171   63        0  \n",
       "764                     0.340   27        0  \n",
       "765                     0.245   30        0  \n",
       "766                     0.349   47        1  \n",
       "767                     0.315   23        0  "
      ]
     },
     "execution_count": 8,
     "metadata": {},
     "output_type": "execute_result"
    }
   ],
   "source": [
    "#Checking the last 5 rows of the train data\n",
    "diabetes_df.tail()"
   ]
  },
  {
   "cell_type": "markdown",
   "id": "d649cc2d",
   "metadata": {},
   "source": [
    "# **Data Preprocessing"
   ]
  },
  {
   "cell_type": "markdown",
   "id": "a8e93883",
   "metadata": {},
   "source": [
    "# Checking for missing values"
   ]
  },
  {
   "cell_type": "code",
   "execution_count": 9,
   "id": "162b5de8",
   "metadata": {
    "scrolled": false
   },
   "outputs": [
    {
     "data": {
      "text/html": [
       "<div>\n",
       "<style scoped>\n",
       "    .dataframe tbody tr th:only-of-type {\n",
       "        vertical-align: middle;\n",
       "    }\n",
       "\n",
       "    .dataframe tbody tr th {\n",
       "        vertical-align: top;\n",
       "    }\n",
       "\n",
       "    .dataframe thead th {\n",
       "        text-align: right;\n",
       "    }\n",
       "</style>\n",
       "<table border=\"1\" class=\"dataframe\">\n",
       "  <thead>\n",
       "    <tr style=\"text-align: right;\">\n",
       "      <th></th>\n",
       "      <th>Total</th>\n",
       "      <th>%</th>\n",
       "    </tr>\n",
       "  </thead>\n",
       "  <tbody>\n",
       "    <tr>\n",
       "      <th>Pregnancies</th>\n",
       "      <td>0</td>\n",
       "      <td>0.0</td>\n",
       "    </tr>\n",
       "    <tr>\n",
       "      <th>Glucose</th>\n",
       "      <td>0</td>\n",
       "      <td>0.0</td>\n",
       "    </tr>\n",
       "    <tr>\n",
       "      <th>BloodPressure</th>\n",
       "      <td>0</td>\n",
       "      <td>0.0</td>\n",
       "    </tr>\n",
       "    <tr>\n",
       "      <th>SkinThickness</th>\n",
       "      <td>0</td>\n",
       "      <td>0.0</td>\n",
       "    </tr>\n",
       "    <tr>\n",
       "      <th>Insulin</th>\n",
       "      <td>0</td>\n",
       "      <td>0.0</td>\n",
       "    </tr>\n",
       "  </tbody>\n",
       "</table>\n",
       "</div>"
      ],
      "text/plain": [
       "               Total    %\n",
       "Pregnancies        0  0.0\n",
       "Glucose            0  0.0\n",
       "BloodPressure      0  0.0\n",
       "SkinThickness      0  0.0\n",
       "Insulin            0  0.0"
      ]
     },
     "execution_count": 9,
     "metadata": {},
     "output_type": "execute_result"
    }
   ],
   "source": [
    "#Checking for the missing values\n",
    "total = diabetes_df.isnull().sum().sort_values(ascending=False)\n",
    "percent_1 = diabetes_df.isnull().sum()/diabetes_df.isnull().count()*100\n",
    "percent_2 = (round(percent_1, 1)).sort_values(ascending=False)\n",
    "missing_data = pd.concat([total, percent_2], axis=1, keys=['Total', '%'])\n",
    "missing_data.head(5)"
   ]
  },
  {
   "cell_type": "markdown",
   "id": "4b3df3ea",
   "metadata": {},
   "source": [
    "# Outlier detection and treatment"
   ]
  },
  {
   "cell_type": "code",
   "execution_count": 10,
   "id": "294fc819",
   "metadata": {},
   "outputs": [
    {
     "name": "stdout",
     "output_type": "stream",
     "text": [
      "Original shape of diabetes dataset: (768, 9)\n",
      "Shape of diabetes dataset after removing outliers: (679, 9)\n"
     ]
    }
   ],
   "source": [
    "# Select numerical columns to check for outliers\n",
    "num_cols = [\"Pregnancies\", \"Glucose\", \"BloodPressure\", \"SkinThickness\",\"Insulin\"]\n",
    "# Calculate the IQR for each numerical column\n",
    "Q1 = diabetes_df[num_cols].quantile(0.25)\n",
    "Q3 = diabetes_df[num_cols].quantile(0.75)\n",
    "IQR = Q3 - Q1\n",
    "# Calculate the upper and lower bounds for each numerical column\n",
    "lower_bound = Q1 - 1.5 * IQR\n",
    "upper_bound = Q3 + 1.5 * IQR\n",
    "# Identify and remove any values that fall outside of the upper and lower bounds for each column\n",
    "diabetes_outliers_removed = diabetes_df[~((diabetes_df[num_cols] < lower_bound) | (diabetes_df[num_cols] > upper_bound)).any(axis=1)]\n",
    "# Print the original and new shape of the dataset to see how many outliers were removed\n",
    "print(\"Original shape of diabetes dataset:\", diabetes_df.shape)\n",
    "print(\"Shape of diabetes dataset after removing outliers:\", diabetes_outliers_removed.shape)"
   ]
  },
  {
   "cell_type": "code",
   "execution_count": 11,
   "id": "ee0ff08d",
   "metadata": {},
   "outputs": [
    {
     "data": {
      "text/plain": [
       "Index(['Pregnancies', 'Glucose', 'BloodPressure', 'SkinThickness', 'Insulin',\n",
       "       'BMI', 'DiabetesPedigreeFunction', 'Age', 'Outcome'],\n",
       "      dtype='object')"
      ]
     },
     "execution_count": 11,
     "metadata": {},
     "output_type": "execute_result"
    }
   ],
   "source": [
    "diabetes_df.columns"
   ]
  },
  {
   "cell_type": "code",
   "execution_count": 12,
   "id": "f3c5dacb",
   "metadata": {},
   "outputs": [
    {
     "name": "stdout",
     "output_type": "stream",
     "text": [
      "<class 'pandas.core.frame.DataFrame'>\n",
      "RangeIndex: 768 entries, 0 to 767\n",
      "Data columns (total 9 columns):\n",
      " #   Column                    Non-Null Count  Dtype  \n",
      "---  ------                    --------------  -----  \n",
      " 0   Pregnancies               768 non-null    int64  \n",
      " 1   Glucose                   768 non-null    int64  \n",
      " 2   BloodPressure             768 non-null    int64  \n",
      " 3   SkinThickness             768 non-null    int64  \n",
      " 4   Insulin                   768 non-null    int64  \n",
      " 5   BMI                       768 non-null    float64\n",
      " 6   DiabetesPedigreeFunction  768 non-null    float64\n",
      " 7   Age                       768 non-null    int64  \n",
      " 8   Outcome                   768 non-null    int64  \n",
      "dtypes: float64(2), int64(7)\n",
      "memory usage: 54.1 KB\n"
     ]
    }
   ],
   "source": [
    "diabetes_df.info()"
   ]
  },
  {
   "cell_type": "markdown",
   "id": "f6135da6",
   "metadata": {},
   "source": [
    "# **Data Visualisation"
   ]
  },
  {
   "cell_type": "markdown",
   "id": "064878e0",
   "metadata": {},
   "source": [
    "# Visualize distribution of Age"
   ]
  },
  {
   "cell_type": "code",
   "execution_count": 13,
   "id": "c2e1e3ec",
   "metadata": {},
   "outputs": [
    {
     "data": {
      "image/png": "[encoded data removed]",
      "text/plain": [
       "<Figure size 640x480 with 1 Axes>"
      ]
     },
     "metadata": {},
     "output_type": "display_data"
    }
   ],
   "source": [
    "# Visualize distribution of Age\n",
    "plt.hist(diabetes_df['Age'])\n",
    "plt.title('Distribution of Age')\n",
    "plt.xlabel('Age')\n",
    "plt.ylabel('Frequency')\n",
    "plt.show()"
   ]
  },
  {
   "cell_type": "markdown",
   "id": "13c7b547",
   "metadata": {},
   "source": [
    "# Visualize relationship between Age and Blood Pressure"
   ]
  },
  {
   "cell_type": "code",
   "execution_count": 14,
   "id": "95646882",
   "metadata": {},
   "outputs": [
    {
     "data": {
      "image/png": "[encoded data removed]",
      "text/plain": [
       "<Figure size 640x480 with 1 Axes>"
      ]
     },
     "metadata": {},
     "output_type": "display_data"
    }
   ],
   "source": [
    "# Visualize relationship between Age and Blood Pressure\n",
    "plt.scatter(diabetes_df['Age'], diabetes_df['BloodPressure'])\n",
    "plt.title('Age vs. Blood Pressure')\n",
    "plt.xlabel('Age')\n",
    "plt.ylabel('Blood Pressure')\n",
    "plt.show()\n"
   ]
  },
  {
   "cell_type": "markdown",
   "id": "d479c522",
   "metadata": {},
   "source": [
    "# **Splitting data into training and testing sets"
   ]
  },
  {
   "cell_type": "code",
   "execution_count": 15,
   "id": "446ba71c",
   "metadata": {},
   "outputs": [],
   "source": [
    "# Split the dataset into training and testing sets\n",
    "train_data = diabetes_df.iloc[:700,:]\n",
    "test_data = diabetes_df.iloc[700:,:]"
   ]
  },
  {
   "cell_type": "markdown",
   "id": "6eb77a75",
   "metadata": {},
   "source": [
    "# **Input-Output split"
   ]
  },
  {
   "cell_type": "code",
   "execution_count": 16,
   "id": "659a07e4",
   "metadata": {},
   "outputs": [],
   "source": [
    "# Separate the features and target variables\n",
    "X_train = train_data.drop(\"Outcome\", axis=1).values\n",
    "y_train = train_data[\"Outcome\"].values\n",
    "X_test = test_data.drop(\"Outcome\", axis=1).values\n",
    "y_test = test_data[\"Outcome\"].values"
   ]
  },
  {
   "cell_type": "markdown",
   "id": "f0f3a9d7",
   "metadata": {},
   "source": [
    "# **Feature Selection"
   ]
  },
  {
   "cell_type": "code",
   "execution_count": 17,
   "id": "164a5d91",
   "metadata": {},
   "outputs": [
    {
     "name": "stdout",
     "output_type": "stream",
     "text": [
      "Selected features: ['Glucose', 'BMI', 'Pregnancies', 'Age', 'DiabetesPedigreeFunction']\n",
      "Shape of X_train_selected: (700, 5)\n",
      "Shape of X_test_selected: (68, 5)\n"
     ]
    }
   ],
   "source": [
    "# Compute the Pearson correlation coefficient between each feature and the target variable\n",
    "correlations = {}\n",
    "for i, feature_name in enumerate(diabetes_df.columns[:-1]):\n",
    "    correlation = np.corrcoef(X_train[:, i], y_train)[0, 1]\n",
    "    correlations[feature_name] = correlation\n",
    "\n",
    "# Sort the features by their correlation with the target variable\n",
    "sorted_features = sorted(correlations.items(), key=lambda x: abs(x[1]), reverse=True)\n",
    "\n",
    "# Select the top 5 features with the highest correlation with the target variable\n",
    "selected_features = [f[0] for f in sorted_features[:5]]\n",
    "\n",
    "# Select the same features from X_train and X_test\n",
    "X_train_selected = X_train[:, [np.where(diabetes_df.columns == feature_name)[0][0] for feature_name in selected_features]]\n",
    "X_test_selected = X_test[:, [np.where(diabetes_df.columns == feature_name)[0][0] for feature_name in selected_features]]\n",
    "\n",
    "print('Selected features:', selected_features)\n",
    "print('Shape of X_train_selected:', X_train_selected.shape)\n",
    "print('Shape of X_test_selected:', X_test_selected.shape)\n"
   ]
  },
  {
   "cell_type": "markdown",
   "id": "7eaeb638",
   "metadata": {},
   "source": [
    "# **Feature Scaling"
   ]
  },
  {
   "cell_type": "code",
   "execution_count": 18,
   "id": "98a1e7ef",
   "metadata": {},
   "outputs": [
    {
     "name": "stdout",
     "output_type": "stream",
     "text": [
      "X_train_scaled shape (700, 5)\n",
      "X_test_scaled shape (68, 5)\n"
     ]
    }
   ],
   "source": [
    "# Compute the mean and standard deviation of each feature in X_train_selected\n",
    "means = np.mean(X_train_selected, axis=0)\n",
    "stds = np.std(X_train_selected, axis=0)\n",
    "\n",
    "# Perform feature scaling on X_train_selected and X_test_selected\n",
    "X_train_scaled = (X_train_selected - means) / stds\n",
    "X_test_scaled = (X_test_selected - means) / stds\n",
    "print('X_train_scaled shape',X_train_scaled.shape)\n",
    "print('X_test_scaled shape',X_test_scaled.shape)"
   ]
  },
  {
   "cell_type": "markdown",
   "id": "8aee68ca",
   "metadata": {},
   "source": [
    "# **Implement Gaussian Naive Bayes classifier"
   ]
  },
  {
   "cell_type": "markdown",
   "id": "94df5070",
   "metadata": {},
   "source": [
    "# Defining classes"
   ]
  },
  {
   "cell_type": "code",
   "execution_count": 19,
   "id": "aa1c65d2",
   "metadata": {},
   "outputs": [],
   "source": [
    "# Define the Gaussian Naive Bayes algorithm\n",
    "class GaussianNaiveBayes:\n",
    "    def fit(self, X_train_scaled, y_train):\n",
    "        self.classes = np.unique(y_train)\n",
    "        self.mean = np.zeros((len(self.classes), X_train_scaled.shape[1]))\n",
    "        self.var = np.zeros((len(self.classes), X_train_scaled.shape[1]))\n",
    "\n",
    "        for i, c in enumerate(self.classes):\n",
    "            X_c = X_train_scaled[y_train == c]\n",
    "            self.mean[i, :] = X_c.mean(axis=0)\n",
    "            self.var[i, :] = X_c.var(axis=0)\n",
    "    \n",
    "    def prob_density(self, class_idx, x):\n",
    "        mean = self.mean[class_idx]\n",
    "        var = self.var[class_idx]\n",
    "        numerator = np.exp(-((x-mean)**2) / (2 * var))\n",
    "        denominator = np.sqrt(2 * np.pi * var)\n",
    "        return numerator / denominator\n",
    "\n",
    "    def predict(self, X_test_scaled):\n",
    "        y_pred = np.zeros(X_test_scaled.shape[0])\n",
    "\n",
    "        for i, x in enumerate(X_test_scaled):\n",
    "            posteriors = []\n",
    "\n",
    "            for j, c in enumerate(self.classes):\n",
    "                prior = np.log(len(X_train_scaled[y_train==c]) / len(X_train_scaled))\n",
    "                posterior = np.sum(np.log(self.prob_density(j, x)))\n",
    "                posterior = prior + posterior\n",
    "                posteriors.append(posterior)\n",
    "\n",
    "            y_pred[i] = self.classes[np.argmax(posteriors)]\n",
    "\n",
    "        return y_pred\n",
    "    \n"
   ]
  },
  {
   "cell_type": "code",
   "execution_count": 20,
   "id": "4f6b0479",
   "metadata": {},
   "outputs": [],
   "source": [
    "#import time to calculate start and end time\n",
    "import time\n",
    "# record start time\n",
    "start_time = time.time()"
   ]
  },
  {
   "cell_type": "code",
   "execution_count": 21,
   "id": "476ef9e2",
   "metadata": {},
   "outputs": [],
   "source": [
    "# Train the model on the training data\n",
    "gnb = GaussianNaiveBayes()\n",
    "gnb.fit(X_train_scaled, y_train)\n",
    "\n",
    "# Make predictions on the testing data\n",
    "y_pred = gnb.predict(X_test_scaled)"
   ]
  },
  {
   "cell_type": "code",
   "execution_count": 22,
   "id": "5d0c4bf6",
   "metadata": {
    "scrolled": true
   },
   "outputs": [
    {
     "data": {
      "text/plain": [
       "array([0., 0., 1., 0., 0., 0., 0., 0., 1., 0., 0., 0., 1., 0., 0., 1., 1.,\n",
       "       0., 0., 0., 0., 0., 0., 0., 0., 0., 0., 0., 0., 0., 0., 0., 1., 0.,\n",
       "       0., 0., 0., 0., 0., 0., 1., 0., 0., 1., 1., 1., 1., 0., 1., 1., 1.,\n",
       "       0., 0., 1., 1., 1., 1., 0., 0., 1., 0., 1., 0., 1., 0., 0., 0., 0.])"
      ]
     },
     "execution_count": 22,
     "metadata": {},
     "output_type": "execute_result"
    }
   ],
   "source": [
    "y_pred"
   ]
  },
  {
   "cell_type": "code",
   "execution_count": 23,
   "id": "08d6893d",
   "metadata": {},
   "outputs": [
    {
     "name": "stdout",
     "output_type": "stream",
     "text": [
      "Time taken to run the model: 0.07 seconds\n"
     ]
    }
   ],
   "source": [
    "# record end time\n",
    "end_time = time.time()\n",
    "\n",
    "# calculate the time taken to fit the model\n",
    "time_taken = end_time - start_time\n",
    "\n",
    "# print the time taken\n",
    "print(\"Time taken to run the model: {:.2f} seconds\".format(time_taken))"
   ]
  },
  {
   "cell_type": "markdown",
   "id": "2b737c99",
   "metadata": {},
   "source": [
    "# **Model Evaluation"
   ]
  },
  {
   "cell_type": "code",
   "execution_count": 24,
   "id": "e8849069",
   "metadata": {},
   "outputs": [
    {
     "name": "stdout",
     "output_type": "stream",
     "text": [
      "Accuracy: 0.7941176470588235\n"
     ]
    }
   ],
   "source": [
    "accuracy = np.sum(y_test == y_pred) / len(y_test)\n",
    "print(f'Accuracy: {accuracy}')"
   ]
  },
  {
   "cell_type": "markdown",
   "id": "fb38428f",
   "metadata": {},
   "source": [
    "# Creating confusion matrix"
   ]
  },
  {
   "cell_type": "code",
   "execution_count": 25,
   "id": "a611766b",
   "metadata": {},
   "outputs": [
    {
     "name": "stdout",
     "output_type": "stream",
     "text": [
      "Normalized confusion matrix\n",
      "[[0.80952381 0.19047619]\n",
      " [0.21276596 0.78723404]]\n"
     ]
    },
    {
     "data": {
      "image/png": "[encoded data removed]",
      "text/plain": [
       "<Figure size 640x480 with 2 Axes>"
      ]
     },
     "metadata": {},
     "output_type": "display_data"
    }
   ],
   "source": [
    "def confusion_matrix(y_pred, y_test): \n",
    "    matrix = np.zeros((2,2)) \n",
    "    for i in range(len(y_pred)): \n",
    "        if int(y_pred[i])==1 and int(y_test[i])==1: \n",
    "            matrix[0,0]+=1 #True Positives\n",
    "        elif int(y_pred[i])==1 and int(y_test[i])==0:\n",
    "            matrix[0,1]+=1 #False Positives\n",
    "        elif int(y_pred[i])==0 and int(y_test[i])==1:\n",
    "            matrix[1,0]+=1 #False Negatives\n",
    "        elif int(y_pred[i])==0 and int(y_test[i])==0:\n",
    "            matrix[1,1]+=1 #True Negatives\n",
    "    accuracy = (matrix[0,0]+matrix[1,1])/(matrix[0,0]+matrix[1,1]+matrix[0,1]+matrix[1,0])\n",
    "    precision = matrix[0,0]/(matrix[0,0]+matrix[0,1])\n",
    "    recall = matrix[0,0]/(matrix[0,0]+matrix[1,0])\n",
    "    f1 = 2 * (precision * recall) / (precision + recall)\n",
    "    return matrix,accuracy, precision, recall, f1\n",
    "\n",
    "def plot_confusion_matrix(cm, classes, normalize=False, title='Confusion matrix', cmap=plt.cm.Blues):\n",
    "    \"\"\"\n",
    "    This function prints and plots the confusion matrix.\n",
    "    Normalization can be applied by setting `normalize=True`.\n",
    "    \"\"\"\n",
    "    if normalize:\n",
    "        cm = cm.astype('float') / cm.sum(axis=1)[:, np.newaxis]\n",
    "        print(\"Normalized confusion matrix\")\n",
    "    else:\n",
    "        print('Confusion matrix, without normalization')\n",
    "\n",
    "    print(cm)\n",
    "\n",
    "    plt.imshow(cm, interpolation='nearest', cmap=cmap)\n",
    "    plt.title(title)\n",
    "    plt.colorbar()\n",
    "    tick_marks = np.arange(len(classes))\n",
    "    plt.xticks(tick_marks, classes, rotation=45)\n",
    "    plt.yticks(tick_marks, classes)\n",
    "\n",
    "    fmt = '.2f' if normalize else 'd'\n",
    "    thresh = cm.max() / 2.\n",
    "    for i, j in np.ndindex(cm.shape):\n",
    "        plt.text(j, i, format(cm[i, j], fmt),\n",
    "                 horizontalalignment=\"center\",\n",
    "                 color=\"white\" if cm[i, j] > thresh else \"black\")\n",
    "\n",
    "    plt.tight_layout()\n",
    "    plt.ylabel('True label')\n",
    "    plt.xlabel('Predicted label')\n",
    "    \n",
    "cm, accuracy, precision, recall, f1 = confusion_matrix(y_pred, y_test)\n",
    "plot_confusion_matrix(cm, classes=['Negative', 'Positive'], normalize=True, title='Confusion matrix')"
   ]
  },
  {
   "cell_type": "markdown",
   "id": "bcd7695b",
   "metadata": {},
   "source": [
    "# Computing Classification report"
   ]
  },
  {
   "cell_type": "code",
   "execution_count": 26,
   "id": "f6092958",
   "metadata": {},
   "outputs": [
    {
     "name": "stdout",
     "output_type": "stream",
     "text": [
      "+-----------+--------------------+--------------------+--------------------+---------+\n",
      "|   Class   |     Precision      |       Recall       |      F1-score      | Support |\n",
      "+-----------+--------------------+--------------------+--------------------+---------+\n",
      "|     0     | 0.7872340425531915 | 0.9024390243902439 | 0.8409090909090909 |    41   |\n",
      "|     1     | 0.8095238095238095 | 0.6296296296296297 | 0.7083333333333334 |    27   |\n",
      "| macro avg | 0.7983789260385006 | 0.7660343270099368 | 0.7746212121212122 |    68   |\n",
      "| micro avg | 0.7960843912032898 | 0.7941176470588235 |  0.78826871657754  |    68   |\n",
      "+-----------+--------------------+--------------------+--------------------+---------+\n"
     ]
    }
   ],
   "source": [
    "# Define a function to compute the classification report\n",
    "def classification_report(y_test, y_pred):\n",
    "    classes = np.unique(y_test)\n",
    "    report = {'accuracy': np.mean(y_test == y_pred)}\n",
    "\n",
    "    # Compute precision, recall, and F1-score for each class\n",
    "    for c in classes:\n",
    "        true_indices = np.where(y_test == c)[0]\n",
    "        pred_indices = np.where(y_pred == c)[0]\n",
    "        tp = len(np.intersect1d(true_indices, pred_indices))\n",
    "        fp = len(pred_indices) - tp\n",
    "        fn = len(true_indices) - tp\n",
    "        precision = tp / (tp + fp) if (tp + fp) > 0 else 0\n",
    "        recall = tp / (tp + fn) if (tp + fn) > 0 else 0\n",
    "        f1_score = 2 * precision * recall / (precision + recall) if (precision + recall) > 0 else 0\n",
    "        report[c] = {'precision': precision, 'recall': recall, 'f1-score': f1_score, 'support': len(true_indices)}\n",
    "\n",
    "    # Compute macro-average precision, recall, and F1-score\n",
    "    macro_precision = np.mean([report[c]['precision'] for c in classes])\n",
    "    macro_recall = np.mean([report[c]['recall'] for c in classes])\n",
    "    macro_f1_score = np.mean([report[c]['f1-score'] for c in classes])\n",
    "    report['macro avg'] = {'precision': macro_precision, 'recall': macro_recall, 'f1-score': macro_f1_score,\n",
    "                           'support': len(y_test)}\n",
    "\n",
    "    # Compute micro-average precision, recall, and F1-score\n",
    "    micro_precision = np.sum([report[c]['precision'] * report[c]['support'] for c in classes]) / len(y_test)\n",
    "    micro_recall = np.sum([report[c]['recall'] * report[c]['support'] for c in classes]) / len(y_test)\n",
    "    micro_f1_score = np.sum([report[c]['f1-score'] * report[c]['support'] for c in classes]) / len(y_test)\n",
    "    report['micro avg'] = {'precision': micro_precision, 'recall': micro_recall, 'f1-score': micro_f1_score,\n",
    "                           'support': len(y_test)}\n",
    "\n",
    "    return report\n",
    "\n",
    "# Compute the classification report\n",
    "report = classification_report(y_test, y_pred)\n",
    "\n",
    "# Define the column names for the table\n",
    "columns = ['Class', 'Precision', 'Recall', 'F1-score', 'Support']\n",
    "\n",
    "# Create the table object\n",
    "from prettytable import PrettyTable\n",
    "table = PrettyTable(columns)\n",
    "\n",
    "# Add the rows to the table\n",
    "for c in report.keys():\n",
    "    if c not in ['accuracy', 'macro avg', 'micro avg']:\n",
    "        precision = report[c]['precision']\n",
    "        recall = report[c]['recall']\n",
    "        f1_score = report[c]['f1-score']\n",
    "        support = report[c]['support']\n",
    "        row = [c, precision, recall, f1_score, support]\n",
    "        table.add_row(row)\n",
    "\n",
    "# Add the macro-average row to the table\n",
    "macro_precision = report['macro avg']['precision']\n",
    "macro_recall = report['macro avg']['recall']\n",
    "macro_f1_score = report['macro avg']['f1-score']\n",
    "macro_support = report['macro avg']['support']\n",
    "macro_row = ['macro avg', macro_precision, macro_recall, macro_f1_score, macro_support]\n",
    "table.add_row(macro_row)\n",
    "\n",
    "micro_precision = report['micro avg']['precision']\n",
    "micro_recall = report['micro avg']['recall']\n",
    "micro_f1_score = report['micro avg']['f1-score']\n",
    "micro_support = report['micro avg']['support']\n",
    "micro_row = ['micro avg', micro_precision, micro_recall, micro_f1_score, micro_support]\n",
    "table.add_row(micro_row)\n",
    "\n",
    "print(table)\n"
   ]
  },
  {
   "cell_type": "markdown",
   "id": "9ae8ceb6",
   "metadata": {},
   "source": [
    "# Performing evaluation metrics"
   ]
  },
  {
   "cell_type": "code",
   "execution_count": 27,
   "id": "a8f54a42",
   "metadata": {},
   "outputs": [],
   "source": [
    "def confusion_matrix(y_pred, y_test): \n",
    "    matrix = np.zeros((2,2)) \n",
    "    for i in range(len(y_pred)): \n",
    "        if int(y_pred[i])==1 and int(y_test[i])==1: \n",
    "            matrix[0,0]+=1 #True Positives\n",
    "        elif int(y_pred[i])==1 and int(y_test[i])==0:\n",
    "            matrix[0,1]+=1 #False Positives\n",
    "        elif int(y_pred[i])==0 and int(y_test[i])==1:\n",
    "            matrix[1,0]+=1 #False Negatives\n",
    "        elif int(y_pred[i])==0 and int(y_test[i])==0:\n",
    "            matrix[1,1]+=1 #True Negatives\n",
    "    accuracy = (matrix[0,0]+matrix[1,1])/(matrix[0,0]+matrix[1,1]+matrix[0,1]+matrix[1,0])\n",
    "    precision = matrix[0,0]/(matrix[0,0]+matrix[0,1])\n",
    "    recall = matrix[0,0]/(matrix[0,0]+matrix[1,0])\n",
    "    f1 = 2 * (precision * recall) / (precision + recall)\n",
    "    return accuracy, precision, recall, f1"
   ]
  },
  {
   "cell_type": "code",
   "execution_count": 28,
   "id": "34deb47e",
   "metadata": {
    "scrolled": true
   },
   "outputs": [
    {
     "name": "stdout",
     "output_type": "stream",
     "text": [
      "Accuracy: 0.7941176470588235\n",
      "Precision: 0.8095238095238095\n",
      "Recall: 0.6296296296296297\n",
      "F1 score: 0.7083333333333334\n"
     ]
    }
   ],
   "source": [
    "accuracy, precision, recall, f1 = confusion_matrix(y_pred, y_test)\n",
    "print(\"Accuracy:\", accuracy)\n",
    "print(\"Precision:\", precision)\n",
    "print(\"Recall:\", recall)\n",
    "print(\"F1 score:\", f1)"
   ]
  },
  {
   "cell_type": "markdown",
   "id": "3505e67e",
   "metadata": {},
   "source": [
    "# Plotting ROC curve"
   ]
  },
  {
   "cell_type": "code",
   "execution_count": 29,
   "id": "4cbe4fc4",
   "metadata": {},
   "outputs": [
    {
     "data": {
      "image/png": "[encoded data removed]",
      "text/plain": [
       "<Figure size 640x480 with 1 Axes>"
      ]
     },
     "metadata": {},
     "output_type": "display_data"
    }
   ],
   "source": [
    "# Calculate the false positive rate (fpr), true positive rate (tpr), and thresholds\n",
    "sorted_indices = np.argsort(y_pred)[::-1]\n",
    "sorted_y_true = y_test[sorted_indices]\n",
    "cumulative_tp = np.cumsum(sorted_y_true)\n",
    "cumulative_fp = np.cumsum(1 - sorted_y_true)\n",
    "tpr = cumulative_tp / cumulative_tp[-1]\n",
    "fpr = cumulative_fp / cumulative_fp[-1]\n",
    "thresholds = y_pred[sorted_indices]\n",
    "\n",
    "# Convert arrays to integer type\n",
    "sorted_indices = sorted_indices.astype(int)\n",
    "\n",
    "# Calculate the AUC-ROC score using the trapezoidal rule\n",
    "auc_roc = np.trapz(tpr, fpr)\n",
    "\n",
    "# Plot the ROC curve\n",
    "plt.plot(fpr, tpr, label='ROC curve (AUC = {:.2f})'.format(auc_roc))\n",
    "plt.plot([0, 1], [0, 1], linestyle='--', color='gray', label='Random guessing')\n",
    "plt.xlim([0, 1])\n",
    "plt.ylim([0, 1])\n",
    "plt.xlabel('False positive rate')\n",
    "plt.ylabel('True positive rate')\n",
    "plt.title('Receiver operating characteristic (ROC) curve')\n",
    "plt.legend()\n",
    "plt.show()"
   ]
  }
 ],
 "metadata": {
  "kernelspec": {
   "display_name": "Python 3 (ipykernel)",
   "language": "python",
   "name": "python3"
  },
  "language_info": {
   "codemirror_mode": {
    "name": "ipython",
    "version": 3
   },
   "file_extension": ".py",
   "mimetype": "text/x-python",
   "name": "python",
   "nbconvert_exporter": "python",
   "pygments_lexer": "ipython3",
   "version": "3.9.7"
  }
 },
 "nbformat": 4,
 "nbformat_minor": 5
}
